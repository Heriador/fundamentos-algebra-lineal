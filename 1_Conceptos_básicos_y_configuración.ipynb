{
  "nbformat": 4,
  "nbformat_minor": 0,
  "metadata": {
    "colab": {
      "name": "1.Conceptos básicos y configuración.ipynb",
      "provenance": [],
      "toc_visible": true,
      "authorship_tag": "ABX9TyNJ8NYpTcrqw0zd8dgnGt9K",
      "include_colab_link": true
    },
    "kernelspec": {
      "name": "python3",
      "display_name": "Python 3"
    }
  },
  "cells": [
    {
      "cell_type": "markdown",
      "metadata": {
        "id": "view-in-github",
        "colab_type": "text"
      },
      "source": [
        "<a href=\"https://colab.research.google.com/github/francomanca93/fundamentos-algebra-lineal/blob/master/1_Conceptos_b%C3%A1sicos_y_configuraci%C3%B3n.ipynb\" target=\"_parent\"><img src=\"https://colab.research.google.com/assets/colab-badge.svg\" alt=\"Open In Colab\"/></a>"
      ]
    },
    {
      "cell_type": "markdown",
      "metadata": {
        "id": "4Pcm8n4EGAQu",
        "colab_type": "text"
      },
      "source": [
        "# Conceptos básicos de Álgebra Lineal y configuración del entorno de trabajo"
      ]
    },
    {
      "cell_type": "markdown",
      "metadata": {
        "id": "RGA9zn7XGQeG",
        "colab_type": "text"
      },
      "source": [
        "## Python para Data Science"
      ]
    },
    {
      "cell_type": "markdown",
      "metadata": {
        "id": "r1WX2uNAKfsN",
        "colab_type": "text"
      },
      "source": [
        "* Es poderoso y sencillo\n",
        "* Tiene múltiples paquetes estadísticos y de aprendizaje automático, listos para usar\n",
        "* Una comunidad muy activa a la que siempre puedes consultar.\n",
        "\n",
        "Utilizaremos las siguienes librerías: \n",
        "\n",
        "* Jupyter Notebook\n",
        "* scipy (tambien instalará numpy)\n",
        "* pillow (libreria para manejo de imágenes)\n",
        "* imageio (lectura / escritura de imágenes)\n",
        "* matplotlib (para graficar)\n",
        "* seaborn (visualizaciones estadísticas)\n",
        "* scikit-learn (aprendizaje automático - lo usaremos para un ejemplo de PCA).\n",
        "\n",
        "\n",
        "Con el siguiente código podremos ver un gráfico de la cantidad de pasajeros en avión entre 1949 y 1960 por mes:\n",
        "\n"
      ]
    },
    {
      "cell_type": "code",
      "metadata": {
        "id": "vyi-8tEt45-j",
        "colab_type": "code",
        "colab": {
          "base_uri": "https://localhost:8080/",
          "height": 295
        },
        "outputId": "3d05e5a8-335c-418d-e438-e78283f04253"
      },
      "source": [
        "import seaborn as sns\n",
        "vuelos = sns.load_dataset(\"flights\")\n",
        "vuelos = vuelos.pivot(\"month\", \"year\", \"passengers\")\n",
        "ax = sns.heatmap(vuelos)"
      ],
      "execution_count": 25,
      "outputs": [
        {
          "output_type": "display_data",
          "data": {
            "image/png": "[encoded data removed]",
            "text/plain": [
              "<Figure size 432x288 with 2 Axes>"
            ]
          },
          "metadata": {
            "tags": [],
            "needs_background": "light"
          }
        }
      ]
    },
    {
      "cell_type": "markdown",
      "metadata": {
        "id": "yerycQDXT_gU",
        "colab_type": "text"
      },
      "source": [
        "## Uso de Google Colab\n",
        "\n"
      ]
    },
    {
      "cell_type": "markdown",
      "metadata": {
        "id": "uhpQ_XHmVDMl",
        "colab_type": "text"
      },
      "source": [
        "Google colab es igual que Jupiter Notebook, pero en la nube.\n",
        "Este nos permite comentar nuestro código. Llevar adelante nuestro análisis de una forma reproducible y poder compartirlo con mas personas.\n",
        "\n",
        "Se pueden insertar celdas por encima o debajo del código. Estas pueden ser de texto o código. "
      ]
    },
    {
      "cell_type": "code",
      "metadata": {
        "id": "v_UpWV1IUFzn",
        "colab_type": "code",
        "colab": {
          "base_uri": "https://localhost:8080/",
          "height": 34
        },
        "outputId": "69467e2c-edac-4375-9360-074ae4cce449"
      },
      "source": [
        "# En el siguiente código podremos ver la versión de Python de que estamos usando. \n",
        "from platform import python_version\n",
        "\n",
        "print(python_version())"
      ],
      "execution_count": 26,
      "outputs": [
        {
          "output_type": "stream",
          "text": [
            "3.6.9\n"
          ],
          "name": "stdout"
        }
      ]
    },
    {
      "cell_type": "code",
      "metadata": {
        "id": "GJh5CB9xUZ_Q",
        "colab_type": "code",
        "colab": {
          "base_uri": "https://localhost:8080/",
          "height": 34
        },
        "outputId": "eabf63e1-d806-4b1d-b419-95e9268a54ad"
      },
      "source": [
        "print('Hola, mundo')"
      ],
      "execution_count": 27,
      "outputs": [
        {
          "output_type": "stream",
          "text": [
            "Hola, mundo\n"
          ],
          "name": "stdout"
        }
      ]
    },
    {
      "cell_type": "code",
      "metadata": {
        "id": "dQcB0ZjqU8gu",
        "colab_type": "code",
        "colab": {
          "base_uri": "https://localhost:8080/",
          "height": 34
        },
        "outputId": "b717fb61-b9ec-4be6-97fe-c94bed6f6d02"
      },
      "source": [
        "# Podemos traer funciones creadas en otros Colab o Jupyters y reutilizarlas en este notebook.\n",
        "%run \"..\\\\funciones\""
      ],
      "execution_count": 28,
      "outputs": [
        {
          "output_type": "stream",
          "text": [
            "ERROR:root:File `'..\\\\funciones.py'` not found.\n"
          ],
          "name": "stderr"
        }
      ]
    },
    {
      "cell_type": "markdown",
      "metadata": {
        "id": "ZpLK58IGXdlH",
        "colab_type": "text"
      },
      "source": [
        "## Creando las bases, escalares, vectores y matrices. ¿Qué es un tensor? ¿Cómo se representa? "
      ]
    },
    {
      "cell_type": "markdown",
      "metadata": {
        "id": "NIHvGuh8YCsP",
        "colab_type": "text"
      },
      "source": [
        "Elementos básicos de matematicas para poder hacer todas las construcciones dentro de álgebra lineal. Todo esto a su vez se utilizan para: \n",
        " * Algoritmos Machine Learning \n",
        " * Algoritmos Deep Learning\n",
        " * Analisis de datos"
      ]
    },
    {
      "cell_type": "markdown",
      "metadata": {
        "id": "xdz0CxmmYku3",
        "colab_type": "text"
      },
      "source": [
        "Un escalar es un número, pero en python puede ser: \n",
        "* Int\n",
        "* Float\n",
        "* Str\n",
        "* Bool"
      ]
    },
    {
      "cell_type": "code",
      "metadata": {
        "id": "J2VECwT3Ywto",
        "colab_type": "code",
        "colab": {
          "base_uri": "https://localhost:8080/",
          "height": 34
        },
        "outputId": "69e6b7aa-b214-4d30-8b93-2364c1173777"
      },
      "source": [
        "escalar = 5.678\n",
        "print(escalar)"
      ],
      "execution_count": 29,
      "outputs": [
        {
          "output_type": "stream",
          "text": [
            "5.678\n"
          ],
          "name": "stdout"
        }
      ]
    },
    {
      "cell_type": "code",
      "metadata": {
        "id": "gAu7FmFvZFsZ",
        "colab_type": "code",
        "colab": {
          "base_uri": "https://localhost:8080/",
          "height": 52
        },
        "outputId": "85273a5d-53fa-43f6-c5b4-d964c004808c"
      },
      "source": [
        "escalar_python = True # boolean\n",
        "print(escalar_python)\n",
        "print(type(escalar_python))"
      ],
      "execution_count": 30,
      "outputs": [
        {
          "output_type": "stream",
          "text": [
            "True\n",
            "<class 'bool'>\n"
          ],
          "name": "stdout"
        }
      ]
    },
    {
      "cell_type": "markdown",
      "metadata": {
        "id": "4di6n-0uKNa5",
        "colab_type": "text"
      },
      "source": [
        "Los escalares, vectores, matrices, tensores se diferencian en los grados de libertad que tenemos para interactuar.\n",
        "* Escalar: Es un numero.\n",
        "* Vector: Son conjuntos de numeros, es decir, conjunto de escalares.\n",
        "* Matriz: Son conjuntos de vectores, ordenados en Filas y Columnas.\n",
        "* Tensor: Son Conjuntos de Matrices. Generando un movimiento espacial en z entre matrices. \n",
        "\n",
        "![Tensores](https://miro.medium.com/max/891/0*jGB1CGQ9HdeUwlgB)\n",
        "\n",
        "![Tensores 2](https://papers.bastolasushan.com/wp-content/uploads/2019/11/fig0201a.png)\n"
      ]
    },
    {
      "cell_type": "code",
      "metadata": {
        "id": "ai4oy9duLXa4",
        "colab_type": "code",
        "colab": {}
      },
      "source": [
        "import numpy as np"
      ],
      "execution_count": 31,
      "outputs": []
    },
    {
      "cell_type": "code",
      "metadata": {
        "id": "Io4ADsK3LcnW",
        "colab_type": "code",
        "colab": {
          "base_uri": "https://localhost:8080/",
          "height": 34
        },
        "outputId": "796bcd21-6149-4650-ac11-4fe0ddcfe797"
      },
      "source": [
        "vector = np.array([1, 2, 3, 4])\n",
        "print(vector)"
      ],
      "execution_count": 32,
      "outputs": [
        {
          "output_type": "stream",
          "text": [
            "[1 2 3 4]\n"
          ],
          "name": "stdout"
        }
      ]
    },
    {
      "cell_type": "code",
      "metadata": {
        "id": "dJHPzRJWLlF6",
        "colab_type": "code",
        "colab": {
          "base_uri": "https://localhost:8080/",
          "height": 69
        },
        "outputId": "e04f1ba1-c3da-475f-84e4-e49e0c0ba561"
      },
      "source": [
        "matriz = np. array([[1, 2, 3], [4, 5, 6], [7, 8, 9]])\n",
        "print(matriz)"
      ],
      "execution_count": 33,
      "outputs": [
        {
          "output_type": "stream",
          "text": [
            "[[1 2 3]\n",
            " [4 5 6]\n",
            " [7 8 9]]\n"
          ],
          "name": "stdout"
        }
      ]
    },
    {
      "cell_type": "code",
      "metadata": {
        "id": "FBZatpePL2d5",
        "colab_type": "code",
        "colab": {
          "base_uri": "https://localhost:8080/",
          "height": 208
        },
        "outputId": "21435cdd-9575-44bd-b4c3-1701bf751e57"
      },
      "source": [
        "tensor = np. array([\n",
        "                    [[1, 2, 3], [4, 5, 6], [7, 8, 9]],\n",
        "                    [[11, 12, 13], [14, 15, 16], [17, 18, 19]],\n",
        "                    [[21, 22, 23], [24, 25, 26], [27, 28, 29]]\n",
        "])\n",
        "\n",
        "print(tensor)"
      ],
      "execution_count": 34,
      "outputs": [
        {
          "output_type": "stream",
          "text": [
            "[[[ 1  2  3]\n",
            "  [ 4  5  6]\n",
            "  [ 7  8  9]]\n",
            "\n",
            " [[11 12 13]\n",
            "  [14 15 16]\n",
            "  [17 18 19]]\n",
            "\n",
            " [[21 22 23]\n",
            "  [24 25 26]\n",
            "  [27 28 29]]]\n"
          ],
          "name": "stdout"
        }
      ]
    },
    {
      "cell_type": "markdown",
      "metadata": {
        "id": "JRoxLp6BMuiz",
        "colab_type": "text"
      },
      "source": [
        "Vamos a graficar el contenido de nuestro tensor intepretando que el contenido numericos corresponde a una imagen"
      ]
    },
    {
      "cell_type": "code",
      "metadata": {
        "id": "KjtRpDO8Msul",
        "colab_type": "code",
        "colab": {}
      },
      "source": [
        "# le decimos a matplotlib que los graficos lo queremos abajo de nuestras celdas\n",
        "%matplotlib inline\n",
        "\n",
        "import matplotlib.pyplot as plt"
      ],
      "execution_count": 35,
      "outputs": []
    },
    {
      "cell_type": "code",
      "metadata": {
        "id": "ez5MZFMhNCIJ",
        "colab_type": "code",
        "colab": {
          "base_uri": "https://localhost:8080/",
          "height": 269
        },
        "outputId": "e0712768-f04b-4f48-bf4b-333d79ef9f9c"
      },
      "source": [
        "plt.imshow(tensor, interpolation='nearest')\n",
        "plt.show()"
      ],
      "execution_count": 36,
      "outputs": [
        {
          "output_type": "display_data",
          "data": {
            "image/png": "[encoded data removed]",
            "text/plain": [
              "<Figure size 432x288 with 1 Axes>"
            ]
          },
          "metadata": {
            "tags": [],
            "needs_background": "light"
          }
        }
      ]
    },
    {
      "cell_type": "code",
      "metadata": {
        "id": "z-2LlJV7NXP-",
        "colab_type": "code",
        "colab": {
          "base_uri": "https://localhost:8080/",
          "height": 269
        },
        "outputId": "e1e5291c-c14c-4999-92aa-f6616663af88"
      },
      "source": [
        "tensor = np. array([\n",
        "                    [[0, 0, 0], [0, 0, 0], [0, 0, 0]], # Negro absoluto\n",
        "                    [[128, 128, 128], [128, 128, 128], [128, 128, 128]], # Gris\n",
        "                    [[255, 255, 255], [255, 255, 255], [255, 255, 255]] # Valor maximo. Color blanco\n",
        "])\n",
        "\n",
        "plt.imshow(tensor, interpolation='nearest')\n",
        "plt.show()"
      ],
      "execution_count": 37,
      "outputs": [
        {
          "output_type": "display_data",
          "data": {
            "image/png": "[encoded data removed]",
            "text/plain": [
              "<Figure size 432x288 with 1 Axes>"
            ]
          },
          "metadata": {
            "tags": [],
            "needs_background": "light"
          }
        }
      ]
    }
  ]
}