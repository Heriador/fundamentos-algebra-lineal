{
  "nbformat": 4,
  "nbformat_minor": 0,
  "metadata": {
    "colab": {
      "name": "2. Operaciones básicas.ipynb",
      "provenance": [],
      "authorship_tag": "ABX9TyOAq7pNW9FKsrZi4d875/rX",
      "include_colab_link": true
    },
    "kernelspec": {
      "name": "python3",
      "display_name": "Python 3"
    }
  },
  "cells": [
    {
      "cell_type": "markdown",
      "metadata": {
        "id": "view-in-github",
        "colab_type": "text"
      },
      "source": [
        "<a href=\"https://colab.research.google.com/github/francomanca93/fundamentos-algebra-lineal/blob/operaciones-basicas/2_Operaciones_b%C3%A1sicas.ipynb\" target=\"_parent\"><img src=\"https://colab.research.google.com/assets/colab-badge.svg\" alt=\"Open In Colab\"/></a>"
      ]
    },
    {
      "cell_type": "markdown",
      "metadata": {
        "id": "OcOGh5aAR8u7",
        "colab_type": "text"
      },
      "source": [
        "# Realiza operaciones básicas"
      ]
    },
    {
      "cell_type": "markdown",
      "metadata": {
        "id": "MrcDJAgjSFA8",
        "colab_type": "text"
      },
      "source": [
        "## Dimensión de un escalar, vector, matriz o tensor"
      ]
    },
    {
      "cell_type": "markdown",
      "metadata": {
        "id": "n_MEcgbFSFLI",
        "colab_type": "text"
      },
      "source": [
        "## Transposición, suma de matrices y escalares"
      ]
    },
    {
      "cell_type": "markdown",
      "metadata": {
        "id": "QBbrjZyPSFXx",
        "colab_type": "text"
      },
      "source": [
        "## Suma de matrices y vectores (broadcasting)"
      ]
    }
  ]
}