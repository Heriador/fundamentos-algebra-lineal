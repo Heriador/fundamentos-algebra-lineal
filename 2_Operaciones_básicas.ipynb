{
  "nbformat": 4,
  "nbformat_minor": 0,
  "metadata": {
    "colab": {
      "name": "2. Operaciones básicas.ipynb",
      "provenance": [],
      "toc_visible": true,
      "authorship_tag": "ABX9TyN7tQfHQmufSismPDXD/Y8q",
      "include_colab_link": true
    },
    "kernelspec": {
      "name": "python3",
      "display_name": "Python 3"
    }
  },
  "cells": [
    {
      "cell_type": "markdown",
      "metadata": {
        "id": "view-in-github",
        "colab_type": "text"
      },
      "source": [
        "<a href=\"https://colab.research.google.com/github/francomanca93/fundamentos-algebra-lineal/blob/operaciones-basicas/2_Operaciones_b%C3%A1sicas.ipynb\" target=\"_parent\"><img src=\"https://colab.research.google.com/assets/colab-badge.svg\" alt=\"Open In Colab\"/></a>"
      ]
    },
    {
      "cell_type": "markdown",
      "metadata": {
        "id": "OcOGh5aAR8u7",
        "colab_type": "text"
      },
      "source": [
        "# Realiza operaciones básicas"
      ]
    },
    {
      "cell_type": "markdown",
      "metadata": {
        "id": "MrcDJAgjSFA8",
        "colab_type": "text"
      },
      "source": [
        "## Dimensión de un escalar, vector, matriz o tensor"
      ]
    },
    {
      "cell_type": "markdown",
      "metadata": {
        "id": "zCrEW7oxXiH5",
        "colab_type": "text"
      },
      "source": [
        "Para saber la dimensión de un objeto utilizaremos el método **.shape** de la librería **numpy**.\n",
        "\n",
        "* **.size** : devuelve el total de los elementos de un vector, matriz o tensor.\n",
        "* **.shape**: devuelve la dimensión de un vector, matriz y tensor."
      ]
    },
    {
      "cell_type": "code",
      "metadata": {
        "id": "6-zQKmUxTL4b",
        "colab_type": "code",
        "colab": {}
      },
      "source": [
        "import numpy as np"
      ],
      "execution_count": 1,
      "outputs": []
    },
    {
      "cell_type": "code",
      "metadata": {
        "id": "06OQnRKPTLGc",
        "colab_type": "code",
        "colab": {}
      },
      "source": [
        "escalar = 5.679\n",
        "vector = np.array([1, 2, 3])\n",
        "matriz = np. array([[1, 2], [3, 4]])\n",
        "tensor = np. array([\n",
        "                    [[1, 2, 3], [4, 5, 6], [7, 8, 9]],\n",
        "                    [[11, 12, 13], [14, 15, 16], [17, 18, 19]],\n",
        "                    [[21, 22, 23], [24, 25, 26], [27, 28, 29]]\n",
        "                  ])"
      ],
      "execution_count": 8,
      "outputs": []
    },
    {
      "cell_type": "code",
      "metadata": {
        "id": "z1B08gc0T2JP",
        "colab_type": "code",
        "colab": {
          "base_uri": "https://localhost:8080/",
          "height": 34
        },
        "outputId": "cb5fe030-3058-41e5-ee8e-218e9bd422f9"
      },
      "source": [
        "print(escalar)"
      ],
      "execution_count": 22,
      "outputs": [
        {
          "output_type": "stream",
          "text": [
            "5.679\n"
          ],
          "name": "stdout"
        }
      ]
    },
    {
      "cell_type": "code",
      "metadata": {
        "id": "b8bLtzgQT4q5",
        "colab_type": "code",
        "colab": {
          "base_uri": "https://localhost:8080/",
          "height": 167
        },
        "outputId": "b7a10955-eb2e-4a76-c60d-e31321daa4f7"
      },
      "source": [
        "escalar.shape"
      ],
      "execution_count": 10,
      "outputs": [
        {
          "output_type": "error",
          "ename": "AttributeError",
          "evalue": "ignored",
          "traceback": [
            "\u001b[0;31m---------------------------------------------------------------------------\u001b[0m",
            "\u001b[0;31mAttributeError\u001b[0m                            Traceback (most recent call last)",
            "\u001b[0;32m<ipython-input-10-f06d931aaba9>\u001b[0m in \u001b[0;36m<module>\u001b[0;34m()\u001b[0m\n\u001b[0;32m----> 1\u001b[0;31m \u001b[0mescalar\u001b[0m\u001b[0;34m.\u001b[0m\u001b[0mshape\u001b[0m\u001b[0;34m\u001b[0m\u001b[0;34m\u001b[0m\u001b[0m\n\u001b[0m",
            "\u001b[0;31mAttributeError\u001b[0m: 'float' object has no attribute 'shape'"
          ]
        }
      ]
    },
    {
      "cell_type": "markdown",
      "metadata": {
        "id": "WsGNzpRYYVDx",
        "colab_type": "text"
      },
      "source": [
        "Un escalar no tiene dimensiones. Es un número unicamente. Por tenemos un error del tipo **AttributeError**."
      ]
    },
    {
      "cell_type": "code",
      "metadata": {
        "id": "PfQ2NdqXT6_M",
        "colab_type": "code",
        "colab": {
          "base_uri": "https://localhost:8080/",
          "height": 69
        },
        "outputId": "dc5e1f10-ed7d-4442-a81c-ddc1541d38f9"
      },
      "source": [
        "print(vector)\n",
        "print('dimensón: ', vector.shape)\n",
        "print('tamaño del vector, cantidad de elementos: ', vector.size)"
      ],
      "execution_count": 29,
      "outputs": [
        {
          "output_type": "stream",
          "text": [
            "[1 2 3]\n",
            "dimensón:  (3,)\n",
            "tamaño del vector, cantidad de elementos:  3\n"
          ],
          "name": "stdout"
        }
      ]
    },
    {
      "cell_type": "code",
      "metadata": {
        "id": "vPhqOk9XUUQU",
        "colab_type": "code",
        "colab": {
          "base_uri": "https://localhost:8080/",
          "height": 86
        },
        "outputId": "acca7285-01d7-4e81-9df0-69d8b8cd56a3"
      },
      "source": [
        "print(matriz)\n",
        "print('dimensón: ', matriz.shape)\n",
        "print('tamaño del vector, cantidad de elementos: ', matriz.size)"
      ],
      "execution_count": 30,
      "outputs": [
        {
          "output_type": "stream",
          "text": [
            "[[1 2]\n",
            " [3 4]]\n",
            "dimensón:  (2, 2)\n",
            "tamaño del vector, cantidad de elementos:  4\n"
          ],
          "name": "stdout"
        }
      ]
    },
    {
      "cell_type": "code",
      "metadata": {
        "id": "LGqy-Rt7Ui_M",
        "colab_type": "code",
        "colab": {
          "base_uri": "https://localhost:8080/",
          "height": 69
        },
        "outputId": "e356b195-e0f2-4466-f440-fb826eb598f1"
      },
      "source": [
        "print(tensor.shape)\n",
        "print('dimensón: ', tensor.shape)\n",
        "print('tamaño del vector, cantidad de elementos: ', tensor.size)"
      ],
      "execution_count": 31,
      "outputs": [
        {
          "output_type": "stream",
          "text": [
            "(3, 3, 3)\n",
            "dimensón:  (3, 3, 3)\n",
            "tamaño del vector, cantidad de elementos:  27\n"
          ],
          "name": "stdout"
        }
      ]
    },
    {
      "cell_type": "markdown",
      "metadata": {
        "id": "vs7F14F-V9IT",
        "colab_type": "text"
      },
      "source": [
        "En las dimensiones del tensor, la primera posición se refiere al número de matrices, el segundo a las filas y el tercero a las columnas:\n",
        "\n",
        "* (numero de matrices, numero_filas, número_columnas)"
      ]
    },
    {
      "cell_type": "code",
      "metadata": {
        "id": "05gUrSXrWBof",
        "colab_type": "code",
        "colab": {
          "base_uri": "https://localhost:8080/",
          "height": 312
        },
        "outputId": "d0b7a9aa-a32b-433c-bf03-dec6d4da08a6"
      },
      "source": [
        "tensor2 = np.array([\n",
        "    [[1,3],[4,6],[6,8]],\n",
        "    [[11,13],[14,16],[17,19]],\n",
        "    [[21,23],[24,26],[27,28]],\n",
        "    [[32,33],[34,36],[37,39]],\n",
        "])\n",
        "print(tensor2)\n",
        "print('dimensón: ', tensor2.shape)\n",
        "print('tamaño del vector, cantidad de elementos: ', tensor2.size)"
      ],
      "execution_count": 32,
      "outputs": [
        {
          "output_type": "stream",
          "text": [
            "[[[ 1  3]\n",
            "  [ 4  6]\n",
            "  [ 6  8]]\n",
            "\n",
            " [[11 13]\n",
            "  [14 16]\n",
            "  [17 19]]\n",
            "\n",
            " [[21 23]\n",
            "  [24 26]\n",
            "  [27 28]]\n",
            "\n",
            " [[32 33]\n",
            "  [34 36]\n",
            "  [37 39]]]\n",
            "dimensón:  (4, 3, 2)\n",
            "tamaño del vector, cantidad de elementos:  24\n"
          ],
          "name": "stdout"
        }
      ]
    },
    {
      "cell_type": "markdown",
      "metadata": {
        "id": "n_MEcgbFSFLI",
        "colab_type": "text"
      },
      "source": [
        "## Transposición, suma de matrices y escalares"
      ]
    },
    {
      "cell_type": "markdown",
      "metadata": {
        "id": "QBbrjZyPSFXx",
        "colab_type": "text"
      },
      "source": [
        "## Suma de matrices y vectores (broadcasting)"
      ]
    }
  ]
}