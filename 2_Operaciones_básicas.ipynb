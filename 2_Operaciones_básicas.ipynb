{
  "nbformat": 4,
  "nbformat_minor": 0,
  "metadata": {
    "colab": {
      "name": "2. Operaciones básicas.ipynb",
      "provenance": [],
      "authorship_tag": "ABX9TyNmtA61vaZNovNZpal++REK",
      "include_colab_link": true
    },
    "kernelspec": {
      "name": "python3",
      "display_name": "Python 3"
    }
  },
  "cells": [
    {
      "cell_type": "markdown",
      "metadata": {
        "id": "view-in-github",
        "colab_type": "text"
      },
      "source": [
        "<a href=\"https://colab.research.google.com/github/francomanca93/fundamentos-algebra-lineal/blob/operaciones-basicas/2_Operaciones_b%C3%A1sicas.ipynb\" target=\"_parent\"><img src=\"https://colab.research.google.com/assets/colab-badge.svg\" alt=\"Open In Colab\"/></a>"
      ]
    },
    {
      "cell_type": "markdown",
      "metadata": {
        "id": "OcOGh5aAR8u7",
        "colab_type": "text"
      },
      "source": [
        "# Realiza operaciones básicas"
      ]
    },
    {
      "cell_type": "markdown",
      "metadata": {
        "id": "MrcDJAgjSFA8",
        "colab_type": "text"
      },
      "source": [
        "## Dimensión de un escalar, vector, matriz o tensor"
      ]
    },
    {
      "cell_type": "markdown",
      "metadata": {
        "id": "zCrEW7oxXiH5",
        "colab_type": "text"
      },
      "source": [
        "Para saber la dimensión de un objeto utilizaremos el método **.shape** de la librería **numpy**.\n",
        "\n",
        "* **.size** : devuelve el total de los elementos de un vector, matriz o tensor.\n",
        "* **.shape**: devuelve la dimensión de un vector, matriz y tensor."
      ]
    },
    {
      "cell_type": "code",
      "metadata": {
        "id": "6-zQKmUxTL4b",
        "colab_type": "code",
        "colab": {}
      },
      "source": [
        "import numpy as np"
      ],
      "execution_count": 6,
      "outputs": []
    },
    {
      "cell_type": "code",
      "metadata": {
        "id": "06OQnRKPTLGc",
        "colab_type": "code",
        "colab": {}
      },
      "source": [
        "escalar = 5.679\n",
        "vector = np.array([1, 2, 3])\n",
        "matriz = np. array([[1, 2], [3, 4]])\n",
        "tensor = np. array([\n",
        "                    [[1, 2, 3], [4, 5, 6], [7, 8, 9]],\n",
        "                    [[11, 12, 13], [14, 15, 16], [17, 18, 19]],\n",
        "                    [[21, 22, 23], [24, 25, 26], [27, 28, 29]]\n",
        "                  ])"
      ],
      "execution_count": 7,
      "outputs": []
    },
    {
      "cell_type": "code",
      "metadata": {
        "id": "z1B08gc0T2JP",
        "colab_type": "code",
        "colab": {
          "base_uri": "https://localhost:8080/",
          "height": 34
        },
        "outputId": "6bb7d31f-f5d8-44de-85f4-82bf218771d8"
      },
      "source": [
        "print(escalar)"
      ],
      "execution_count": 8,
      "outputs": [
        {
          "output_type": "stream",
          "text": [
            "5.679\n"
          ],
          "name": "stdout"
        }
      ]
    },
    {
      "cell_type": "code",
      "metadata": {
        "id": "b8bLtzgQT4q5",
        "colab_type": "code",
        "colab": {
          "base_uri": "https://localhost:8080/",
          "height": 167
        },
        "outputId": "c7feefc3-e8cc-4744-e80e-9593e4328bff"
      },
      "source": [
        "escalar.shape"
      ],
      "execution_count": 9,
      "outputs": [
        {
          "output_type": "error",
          "ename": "AttributeError",
          "evalue": "ignored",
          "traceback": [
            "\u001b[0;31m---------------------------------------------------------------------------\u001b[0m",
            "\u001b[0;31mAttributeError\u001b[0m                            Traceback (most recent call last)",
            "\u001b[0;32m<ipython-input-9-f06d931aaba9>\u001b[0m in \u001b[0;36m<module>\u001b[0;34m()\u001b[0m\n\u001b[0;32m----> 1\u001b[0;31m \u001b[0mescalar\u001b[0m\u001b[0;34m.\u001b[0m\u001b[0mshape\u001b[0m\u001b[0;34m\u001b[0m\u001b[0;34m\u001b[0m\u001b[0m\n\u001b[0m",
            "\u001b[0;31mAttributeError\u001b[0m: 'float' object has no attribute 'shape'"
          ]
        }
      ]
    },
    {
      "cell_type": "markdown",
      "metadata": {
        "id": "WsGNzpRYYVDx",
        "colab_type": "text"
      },
      "source": [
        "Un escalar no tiene dimensiones. Es un número unicamente. Por tenemos un error del tipo **AttributeError**."
      ]
    },
    {
      "cell_type": "code",
      "metadata": {
        "id": "PfQ2NdqXT6_M",
        "colab_type": "code",
        "colab": {
          "base_uri": "https://localhost:8080/",
          "height": 69
        },
        "outputId": "9679c9e7-3869-4e62-df1b-629aec836fed"
      },
      "source": [
        "print(vector)\n",
        "print('dimensón: ', vector.shape)\n",
        "print('tamaño del vector, cantidad de elementos: ', vector.size)"
      ],
      "execution_count": 10,
      "outputs": [
        {
          "output_type": "stream",
          "text": [
            "[1 2 3]\n",
            "dimensón:  (3,)\n",
            "tamaño del vector, cantidad de elementos:  3\n"
          ],
          "name": "stdout"
        }
      ]
    },
    {
      "cell_type": "code",
      "metadata": {
        "id": "vPhqOk9XUUQU",
        "colab_type": "code",
        "colab": {
          "base_uri": "https://localhost:8080/",
          "height": 86
        },
        "outputId": "00bcaf69-8335-487b-d9c8-5a158ddea06d"
      },
      "source": [
        "print(matriz)\n",
        "print('dimensón: ', matriz.shape)\n",
        "print('tamaño del vector, cantidad de elementos: ', matriz.size)"
      ],
      "execution_count": 11,
      "outputs": [
        {
          "output_type": "stream",
          "text": [
            "[[1 2]\n",
            " [3 4]]\n",
            "dimensón:  (2, 2)\n",
            "tamaño del vector, cantidad de elementos:  4\n"
          ],
          "name": "stdout"
        }
      ]
    },
    {
      "cell_type": "code",
      "metadata": {
        "id": "LGqy-Rt7Ui_M",
        "colab_type": "code",
        "colab": {
          "base_uri": "https://localhost:8080/",
          "height": 69
        },
        "outputId": "1c453ad7-ca64-4cfe-9aaa-3262ee2b7584"
      },
      "source": [
        "print(tensor.shape)\n",
        "print('dimensón: ', tensor.shape)\n",
        "print('tamaño del vector, cantidad de elementos: ', tensor.size)"
      ],
      "execution_count": 12,
      "outputs": [
        {
          "output_type": "stream",
          "text": [
            "(3, 3, 3)\n",
            "dimensón:  (3, 3, 3)\n",
            "tamaño del vector, cantidad de elementos:  27\n"
          ],
          "name": "stdout"
        }
      ]
    },
    {
      "cell_type": "markdown",
      "metadata": {
        "id": "vs7F14F-V9IT",
        "colab_type": "text"
      },
      "source": [
        "En las dimensiones del tensor, la primera posición se refiere al número de matrices, el segundo a las filas y el tercero a las columnas:\n",
        "\n",
        "* (numero de matrices, numero_filas, número_columnas)"
      ]
    },
    {
      "cell_type": "code",
      "metadata": {
        "id": "05gUrSXrWBof",
        "colab_type": "code",
        "colab": {
          "base_uri": "https://localhost:8080/",
          "height": 312
        },
        "outputId": "cd71f26f-83fd-4964-85bc-17b7945ef3bc"
      },
      "source": [
        "tensor2 = np.array([\n",
        "    [[1,3],[4,6],[6,8]],\n",
        "    [[11,13],[14,16],[17,19]],\n",
        "    [[21,23],[24,26],[27,28]],\n",
        "    [[32,33],[34,36],[37,39]],\n",
        "])\n",
        "print(tensor2)\n",
        "print('dimensón: ', tensor2.shape)\n",
        "print('tamaño del vector, cantidad de elementos: ', tensor2.size)"
      ],
      "execution_count": 13,
      "outputs": [
        {
          "output_type": "stream",
          "text": [
            "[[[ 1  3]\n",
            "  [ 4  6]\n",
            "  [ 6  8]]\n",
            "\n",
            " [[11 13]\n",
            "  [14 16]\n",
            "  [17 19]]\n",
            "\n",
            " [[21 23]\n",
            "  [24 26]\n",
            "  [27 28]]\n",
            "\n",
            " [[32 33]\n",
            "  [34 36]\n",
            "  [37 39]]]\n",
            "dimensón:  (4, 3, 2)\n",
            "tamaño del vector, cantidad de elementos:  24\n"
          ],
          "name": "stdout"
        }
      ]
    },
    {
      "cell_type": "markdown",
      "metadata": {
        "id": "n_MEcgbFSFLI",
        "colab_type": "text"
      },
      "source": [
        "## Transposición, suma de matrices y escalares"
      ]
    },
    {
      "cell_type": "markdown",
      "metadata": {
        "id": "nMm4ffyxoXOE",
        "colab_type": "text"
      },
      "source": [
        "Transponer un vector o una matriz es cambiar la fila por columna y viceversa.\n",
        "\n",
        "![Transpuesta](https://2.bp.blogspot.com/-5USUoNNm5IE/WLvu8wd-q5I/AAAAAAAAaCc/nGOn3LBMYcUv3m9taYP3gPlHUaladFNFQCLcB/s1600/Traspuesta.png)\n",
        "\n",
        "\n",
        "Para realizar la transpuesta tanto, de un vector como de una matriz o un tensor utilizamos el motodo **.T**.\n",
        "\n",
        "Si lo que queremos es realizar una **suma de matrices** (IMPORTANTE deben ser si o si de **las misma diemensiones**) simplemente colocamos “+” entre ambas como si estuviesemos sumando numeros. Lo mismo se puede hacer con los tensores pero cada una de las matrices que contenga deben ser de misma dimensiones.\n",
        "\n",
        "Tambien podemos sumar un escalar a una matriz o un tensor y una matriz a un tensor.\n",
        "\n"
      ]
    },
    {
      "cell_type": "code",
      "metadata": {
        "id": "LPffLmTogUHf",
        "colab_type": "code",
        "colab": {
          "base_uri": "https://localhost:8080/",
          "height": 167
        },
        "outputId": "023967b4-41ff-4c65-d3c0-e13735fdc69f"
      },
      "source": [
        "escalar_t = escalar.T"
      ],
      "execution_count": 14,
      "outputs": [
        {
          "output_type": "error",
          "ename": "AttributeError",
          "evalue": "ignored",
          "traceback": [
            "\u001b[0;31m---------------------------------------------------------------------------\u001b[0m",
            "\u001b[0;31mAttributeError\u001b[0m                            Traceback (most recent call last)",
            "\u001b[0;32m<ipython-input-14-4a23f0f136f1>\u001b[0m in \u001b[0;36m<module>\u001b[0;34m()\u001b[0m\n\u001b[0;32m----> 1\u001b[0;31m \u001b[0mescalar_t\u001b[0m \u001b[0;34m=\u001b[0m \u001b[0mescalar\u001b[0m\u001b[0;34m.\u001b[0m\u001b[0mT\u001b[0m\u001b[0;34m\u001b[0m\u001b[0;34m\u001b[0m\u001b[0m\n\u001b[0m",
            "\u001b[0;31mAttributeError\u001b[0m: 'float' object has no attribute 'T'"
          ]
        }
      ]
    },
    {
      "cell_type": "markdown",
      "metadata": {
        "id": "lcGNiI8QpMIb",
        "colab_type": "text"
      },
      "source": [
        "Esto tiene sentido ya que transponer es cambiar filas por columna y viceversa y un escalar no tiene ni filas ni columnas. Por lo tanto tendremos un **AttributeError**.  "
      ]
    },
    {
      "cell_type": "code",
      "metadata": {
        "id": "GSgzojdHpZQU",
        "colab_type": "code",
        "colab": {
          "base_uri": "https://localhost:8080/",
          "height": 52
        },
        "outputId": "894842a8-c6a2-4807-9635-5417d4e43af6"
      },
      "source": [
        "vector_t = vector.T\n",
        "print('Nuestro vector: ', vector)\n",
        "print('Vector transpuesta: ', vector_t)"
      ],
      "execution_count": 15,
      "outputs": [
        {
          "output_type": "stream",
          "text": [
            "Nuestro vector:  [1 2 3]\n",
            "Vector transpuesta:  [1 2 3]\n"
          ],
          "name": "stdout"
        }
      ]
    },
    {
      "cell_type": "markdown",
      "metadata": {
        "id": "UrtXg-Rcp_-p",
        "colab_type": "text"
      },
      "source": [
        "Esto tambien tiene sentido, porque un vector tiene una dimensión. Entonces la fila del vector es igual a la columna de ese vector, cuando se hace la transpuesta."
      ]
    },
    {
      "cell_type": "code",
      "metadata": {
        "id": "cZ2triUMqLwG",
        "colab_type": "code",
        "colab": {
          "base_uri": "https://localhost:8080/",
          "height": 86
        },
        "outputId": "62553e42-42ab-46d1-ed9b-eae6485718c3"
      },
      "source": [
        "matriz2 = np.array([[1, 2, 3],\n",
        "                    [4, 5, 6]\n",
        "                  ])\n",
        "print('Nuestro vector: \\n', matriz2)\n",
        "print('Dimensión: ', matriz2.shape)"
      ],
      "execution_count": 16,
      "outputs": [
        {
          "output_type": "stream",
          "text": [
            "Nuestro vector: \n",
            " [[1 2 3]\n",
            " [4 5 6]]\n",
            "Dimensión:  (2, 3)\n"
          ],
          "name": "stdout"
        }
      ]
    },
    {
      "cell_type": "code",
      "metadata": {
        "id": "s1jcriqIrSnx",
        "colab_type": "code",
        "colab": {
          "base_uri": "https://localhost:8080/",
          "height": 104
        },
        "outputId": "f21a2393-8b3e-40f5-d2c6-9e468fd0ff7b"
      },
      "source": [
        "matriz2_t = matriz2.T\n",
        "print('Nuestro vector: \\n', matriz2_t)\n",
        "print('Dimensión: ', matriz2_t.shape)"
      ],
      "execution_count": 17,
      "outputs": [
        {
          "output_type": "stream",
          "text": [
            "Nuestro vector: \n",
            " [[1 4]\n",
            " [2 5]\n",
            " [3 6]]\n",
            "Dimensión:  (3, 2)\n"
          ],
          "name": "stdout"
        }
      ]
    },
    {
      "cell_type": "code",
      "metadata": {
        "id": "O1YrHWtKrkSJ",
        "colab_type": "code",
        "colab": {
          "base_uri": "https://localhost:8080/",
          "height": 312
        },
        "outputId": "7aa8215b-72cf-4d6d-9c88-0e069cdb9176"
      },
      "source": [
        "print('Tensor: \\n', tensor2)\n",
        "print('Dimensión: ', tensor2.shape)"
      ],
      "execution_count": 18,
      "outputs": [
        {
          "output_type": "stream",
          "text": [
            "Tensor: \n",
            " [[[ 1  3]\n",
            "  [ 4  6]\n",
            "  [ 6  8]]\n",
            "\n",
            " [[11 13]\n",
            "  [14 16]\n",
            "  [17 19]]\n",
            "\n",
            " [[21 23]\n",
            "  [24 26]\n",
            "  [27 28]]\n",
            "\n",
            " [[32 33]\n",
            "  [34 36]\n",
            "  [37 39]]]\n",
            "Dimensión:  (4, 3, 2)\n"
          ],
          "name": "stdout"
        }
      ]
    },
    {
      "cell_type": "code",
      "metadata": {
        "id": "NxwcBW9zruP1",
        "colab_type": "code",
        "colab": {
          "base_uri": "https://localhost:8080/",
          "height": 173
        },
        "outputId": "b1fd49f9-9d74-4c02-8b27-c9226d8d40c6"
      },
      "source": [
        "tensor2_t = tensor2.T\n",
        "print('Tensor transpuesta: \\n', tensor2_t)\n",
        "print('Dimensión: ', tensor2_t.shape)"
      ],
      "execution_count": 19,
      "outputs": [
        {
          "output_type": "stream",
          "text": [
            "Tensor transpuesta: \n",
            " [[[ 1 11 21 32]\n",
            "  [ 4 14 24 34]\n",
            "  [ 6 17 27 37]]\n",
            "\n",
            " [[ 3 13 23 33]\n",
            "  [ 6 16 26 36]\n",
            "  [ 8 19 28 39]]]\n",
            "Dimensión:  (2, 3, 4)\n"
          ],
          "name": "stdout"
        }
      ]
    },
    {
      "cell_type": "code",
      "metadata": {
        "id": "KFSI47fHeC91",
        "colab_type": "code",
        "colab": {
          "base_uri": "https://localhost:8080/",
          "height": 86
        },
        "outputId": "805ba1d2-d524-4474-ce8c-b1f6ff936561"
      },
      "source": [
        "matriz2_t_t = matriz2_t.T\n",
        "print(matriz2)\n",
        "print(matriz2_t_t)"
      ],
      "execution_count": 27,
      "outputs": [
        {
          "output_type": "stream",
          "text": [
            "[[1 2 3]\n",
            " [4 5 6]]\n",
            "[[1 2 3]\n",
            " [4 5 6]]\n"
          ],
          "name": "stdout"
        }
      ]
    },
    {
      "cell_type": "markdown",
      "metadata": {
        "id": "nKWrFLSafImM",
        "colab_type": "text"
      },
      "source": [
        "Suma de matrices"
      ]
    },
    {
      "cell_type": "code",
      "metadata": {
        "id": "QoL-HjfufLuc",
        "colab_type": "code",
        "colab": {}
      },
      "source": [
        "A = matriz2\n",
        "B = matriz2_t"
      ],
      "execution_count": 28,
      "outputs": []
    },
    {
      "cell_type": "code",
      "metadata": {
        "id": "Nk2kbsWAfTUS",
        "colab_type": "code",
        "colab": {
          "base_uri": "https://localhost:8080/",
          "height": 167
        },
        "outputId": "2b333ffc-1889-483a-ca2b-eb9fcf330c3e"
      },
      "source": [
        "C = A + B"
      ],
      "execution_count": 29,
      "outputs": [
        {
          "output_type": "error",
          "ename": "ValueError",
          "evalue": "ignored",
          "traceback": [
            "\u001b[0;31m---------------------------------------------------------------------------\u001b[0m",
            "\u001b[0;31mValueError\u001b[0m                                Traceback (most recent call last)",
            "\u001b[0;32m<ipython-input-29-49c8b7dac430>\u001b[0m in \u001b[0;36m<module>\u001b[0;34m()\u001b[0m\n\u001b[0;32m----> 1\u001b[0;31m \u001b[0mC\u001b[0m \u001b[0;34m=\u001b[0m \u001b[0mA\u001b[0m \u001b[0;34m+\u001b[0m \u001b[0mB\u001b[0m\u001b[0;34m\u001b[0m\u001b[0;34m\u001b[0m\u001b[0m\n\u001b[0m",
            "\u001b[0;31mValueError\u001b[0m: operands could not be broadcast together with shapes (2,3) (3,2) "
          ]
        }
      ]
    },
    {
      "cell_type": "markdown",
      "metadata": {
        "id": "9dit-yoYfksJ",
        "colab_type": "text"
      },
      "source": [
        "Tenemos un **ValueError** ya que las matrices tienen dimensiones diferentes y no se pueden sumar."
      ]
    },
    {
      "cell_type": "code",
      "metadata": {
        "id": "XSQv67O6f2RM",
        "colab_type": "code",
        "colab": {
          "base_uri": "https://localhost:8080/",
          "height": 173
        },
        "outputId": "74919a9d-1e2d-4540-bf7c-ce4b37b4847e"
      },
      "source": [
        "A = np.array([[1, 2], [3, 4], [5, 6]])\n",
        "B = np.array([[6, 5], [4, 3], [2, 1]])\n",
        "C = A + B\n",
        "print(A)\n",
        "print(B)\n",
        "print(C)"
      ],
      "execution_count": 31,
      "outputs": [
        {
          "output_type": "stream",
          "text": [
            "[[1 2]\n",
            " [3 4]\n",
            " [5 6]]\n",
            "[[6 5]\n",
            " [4 3]\n",
            " [2 1]]\n",
            "[[7 7]\n",
            " [7 7]\n",
            " [7 7]]\n"
          ],
          "name": "stdout"
        }
      ]
    },
    {
      "cell_type": "code",
      "metadata": {
        "id": "zKKU776wgjrJ",
        "colab_type": "code",
        "colab": {
          "base_uri": "https://localhost:8080/",
          "height": 52
        },
        "outputId": "9218224b-abce-47a4-be2c-c8f78437e9e7"
      },
      "source": [
        "D = matriz + escalar\n",
        "print(D)"
      ],
      "execution_count": 33,
      "outputs": [
        {
          "output_type": "stream",
          "text": [
            "[[6.679 7.679]\n",
            " [8.679 9.679]]\n"
          ],
          "name": "stdout"
        }
      ]
    },
    {
      "cell_type": "code",
      "metadata": {
        "id": "OMFGxlUvhfvM",
        "colab_type": "code",
        "colab": {
          "base_uri": "https://localhost:8080/",
          "height": 330
        },
        "outputId": "a19949d8-f5fc-4853-fe0e-cce57bb74bf3"
      },
      "source": [
        "matriz_reto = np.array([[1, 2, 3, 4, 5],\n",
        "                        [1, 2, 3, 4, 5],\n",
        "                        [1, 2, 3, 4, 5],\n",
        "                        [1, 2, 3, 4, 5],\n",
        "                        [1, 2, 3, 4, 5]])\n",
        "matriz_reto_t = matriz_reto.T\n",
        "\n",
        "print('Matriz reto: \\n', matriz_reto)\n",
        "print('Matriz transpuesta del reto: \\n', matriz_reto_t)\n",
        "\n",
        "suma_matrices_reto = matriz_reto + matriz_reto_t\n",
        "print('Suma de matrices reto: \\n', suma_matrices_reto)"
      ],
      "execution_count": 40,
      "outputs": [
        {
          "output_type": "stream",
          "text": [
            "Matriz reto: \n",
            " [[1 2 3 4 5]\n",
            " [1 2 3 4 5]\n",
            " [1 2 3 4 5]\n",
            " [1 2 3 4 5]\n",
            " [1 2 3 4 5]]\n",
            "Matriz transpuesta del reto: \n",
            " [[1 1 1 1 1]\n",
            " [2 2 2 2 2]\n",
            " [3 3 3 3 3]\n",
            " [4 4 4 4 4]\n",
            " [5 5 5 5 5]]\n",
            "Suma de matrices reto: \n",
            " [[ 2  3  4  5  6]\n",
            " [ 3  4  5  6  7]\n",
            " [ 4  5  6  7  8]\n",
            " [ 5  6  7  8  9]\n",
            " [ 6  7  8  9 10]]\n"
          ],
          "name": "stdout"
        }
      ]
    },
    {
      "cell_type": "markdown",
      "metadata": {
        "id": "QBbrjZyPSFXx",
        "colab_type": "text"
      },
      "source": [
        "## Suma de matrices y vectores (broadcasting)"
      ]
    },
    {
      "cell_type": "markdown",
      "metadata": {
        "id": "kuBEAs_TjiAq",
        "colab_type": "text"
      },
      "source": [
        "¿Cuando es posible sumar matrices y vectores con dimensiones distintas? \n",
        "Cuando se cumple las reglas de python para hacer broadcasting. \n",
        "\n",
        "\n",
        "**Broadcasting**: es extender la matriz o vector de menor tamaño para que se ajuste a la de mayor tamaño.\n",
        "\n",
        "![alt text](https://jakevdp.github.io/PythonDataScienceHandbook/figures/02.05-broadcasting.png)\n"
      ]
    },
    {
      "cell_type": "code",
      "metadata": {
        "id": "fwCwxp1DjhS8",
        "colab_type": "code",
        "colab": {}
      },
      "source": [
        "escalar = 5.679\n",
        "vector = np.array([1, 2, 3])\n",
        "matriz = np.array([[1, 2],\n",
        "                   [3, 4],\n",
        "                   [5, 6]])"
      ],
      "execution_count": 46,
      "outputs": []
    },
    {
      "cell_type": "code",
      "metadata": {
        "id": "pWKSidlkkEW0",
        "colab_type": "code",
        "colab": {
          "base_uri": "https://localhost:8080/",
          "height": 167
        },
        "outputId": "379579ca-2f20-4ec7-8d02-cc3fa6decf9f"
      },
      "source": [
        "A = vector + matriz"
      ],
      "execution_count": 47,
      "outputs": [
        {
          "output_type": "error",
          "ename": "ValueError",
          "evalue": "ignored",
          "traceback": [
            "\u001b[0;31m---------------------------------------------------------------------------\u001b[0m",
            "\u001b[0;31mValueError\u001b[0m                                Traceback (most recent call last)",
            "\u001b[0;32m<ipython-input-47-57bf6f3bc9e4>\u001b[0m in \u001b[0;36m<module>\u001b[0;34m()\u001b[0m\n\u001b[0;32m----> 1\u001b[0;31m \u001b[0mA\u001b[0m \u001b[0;34m=\u001b[0m \u001b[0mvector\u001b[0m \u001b[0;34m+\u001b[0m \u001b[0mmatriz\u001b[0m\u001b[0;34m\u001b[0m\u001b[0;34m\u001b[0m\u001b[0m\n\u001b[0m",
            "\u001b[0;31mValueError\u001b[0m: operands could not be broadcast together with shapes (3,) (3,2) "
          ]
        }
      ]
    },
    {
      "cell_type": "markdown",
      "metadata": {
        "id": "UWra8eEbmT0P",
        "colab_type": "text"
      },
      "source": [
        "Como dice el error, el vector tiene diferente dimesión que la matriz y por lo tento no se puede hacer broacasting.\n",
        "\n",
        "Pero si transponemos la matriz, si se podrá."
      ]
    },
    {
      "cell_type": "code",
      "metadata": {
        "id": "knQ9Z_lBmhN6",
        "colab_type": "code",
        "colab": {
          "base_uri": "https://localhost:8080/",
          "height": 52
        },
        "outputId": "cec19f68-aa9f-414b-c5fc-64acb34a41a4"
      },
      "source": [
        "A = matriz.T + vector\n",
        "print(A)"
      ],
      "execution_count": 49,
      "outputs": [
        {
          "output_type": "stream",
          "text": [
            "[[2 5 8]\n",
            " [3 6 9]]\n"
          ],
          "name": "stdout"
        }
      ]
    },
    {
      "cell_type": "code",
      "metadata": {
        "id": "nyRipJdDmpdv",
        "colab_type": "code",
        "colab": {
          "base_uri": "https://localhost:8080/",
          "height": 69
        },
        "outputId": "18d96d83-731f-491e-d5a4-fe8a048727d9"
      },
      "source": [
        "C = matriz + escalar\n",
        "print(C)"
      ],
      "execution_count": 52,
      "outputs": [
        {
          "output_type": "stream",
          "text": [
            "[[ 6.679  7.679]\n",
            " [ 8.679  9.679]\n",
            " [10.679 11.679]]\n"
          ],
          "name": "stdout"
        }
      ]
    }
  ]
}