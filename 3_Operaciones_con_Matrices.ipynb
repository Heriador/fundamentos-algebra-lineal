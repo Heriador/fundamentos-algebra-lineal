{
  "nbformat": 4,
  "nbformat_minor": 0,
  "metadata": {
    "colab": {
      "name": "3.Operaciones con Matrices.ipynb",
      "provenance": [],
      "authorship_tag": "ABX9TyP9kInVLZtC+3h3BOVS8Zxc",
      "include_colab_link": true
    },
    "kernelspec": {
      "name": "python3",
      "display_name": "Python 3"
    }
  },
  "cells": [
    {
      "cell_type": "markdown",
      "metadata": {
        "id": "view-in-github",
        "colab_type": "text"
      },
      "source": [
        "<a href=\"https://colab.research.google.com/github/francomanca93/fundamentos-algebra-lineal/blob/operaciones-matriciales/3_Operaciones_con_Matrices.ipynb\" target=\"_parent\"><img src=\"https://colab.research.google.com/assets/colab-badge.svg\" alt=\"Open In Colab\"/></a>"
      ]
    },
    {
      "cell_type": "markdown",
      "metadata": {
        "id": "jizL2kp84zQs",
        "colab_type": "text"
      },
      "source": [
        "# Operaciones con matrices"
      ]
    },
    {
      "cell_type": "markdown",
      "metadata": {
        "id": "pC9xgVM042bI",
        "colab_type": "text"
      },
      "source": [
        "## Producto interno entre una matriz y un vector"
      ]
    },
    {
      "cell_type": "markdown",
      "metadata": {
        "id": "W6GsImba7uY-",
        "colab_type": "text"
      },
      "source": [
        "[Producto escalar](https://es.wikipedia.org/wiki/Producto_escalar)\n",
        "\n",
        "**Producto interno**, tambien conocido como **producto escalar, producto interior o producto punto**, es una operación algebraica que toma dos secuencias de números de igual longitud (usualmente en la forma de vectores) y retorna un único número. "
      ]
    },
    {
      "cell_type": "code",
      "metadata": {
        "id": "-QT3Z8uV5PxL",
        "colab_type": "code",
        "colab": {}
      },
      "source": [
        "import numpy as np"
      ],
      "execution_count": 1,
      "outputs": []
    },
    {
      "cell_type": "code",
      "metadata": {
        "id": "gHEh8qs214QU",
        "colab_type": "code",
        "colab": {}
      },
      "source": [
        "escalar = 5.679\n",
        "vector = np.array([2, 3])\n",
        "matriz = np. array([[1, 2], [3, 4], [5, 6]])"
      ],
      "execution_count": 6,
      "outputs": []
    },
    {
      "cell_type": "code",
      "metadata": {
        "id": "DZRWd_VT5bBs",
        "colab_type": "code",
        "colab": {}
      },
      "source": [
        "A = matriz * vector\n",
        "B = matriz.dot(vector)"
      ],
      "execution_count": 7,
      "outputs": []
    },
    {
      "cell_type": "code",
      "metadata": {
        "id": "EEBJ_Q7z5kN2",
        "colab_type": "code",
        "colab": {
          "base_uri": "https://localhost:8080/",
          "height": 86
        },
        "outputId": "18e4a59a-a8bc-40a7-a2e2-0b0a7d56e418"
      },
      "source": [
        "print('Producto elemento a elemento: \\n', A)"
      ],
      "execution_count": 10,
      "outputs": [
        {
          "output_type": "stream",
          "text": [
            "Producto elemento a elemento: \n",
            " [[ 2  6]\n",
            " [ 6 12]\n",
            " [10 18]]\n"
          ],
          "name": "stdout"
        }
      ]
    },
    {
      "cell_type": "markdown",
      "metadata": {
        "id": "-KCTTrgXADha",
        "colab_type": "text"
      },
      "source": [
        "Lo que se esta haciendo en este caso es broadcasting. "
      ]
    },
    {
      "cell_type": "code",
      "metadata": {
        "id": "xg3Mq6zV5okP",
        "colab_type": "code",
        "colab": {
          "base_uri": "https://localhost:8080/",
          "height": 52
        },
        "outputId": "aa30e597-663e-43ab-8a94-8bb03772aa15"
      },
      "source": [
        "print('Producto escalar: \\n', B)"
      ],
      "execution_count": 11,
      "outputs": [
        {
          "output_type": "stream",
          "text": [
            "Producto escalar: \n",
            " [ 8 18 28]\n"
          ],
          "name": "stdout"
        }
      ]
    },
    {
      "cell_type": "markdown",
      "metadata": {
        "id": "zs-rOXcX9pFn",
        "colab_type": "text"
      },
      "source": [
        "Se utiliza la función **.dot()** y lo que está pasando en lo siguiente: \n",
        "\n",
        "![producto escalar](https://i.imgur.com/cAVzYpx.png)"
      ]
    },
    {
      "cell_type": "markdown",
      "metadata": {
        "id": "C3F8lQCvALU6",
        "colab_type": "text"
      },
      "source": [
        "## Producto interno entre dos matrices"
      ]
    },
    {
      "cell_type": "code",
      "metadata": {
        "id": "5tZMpSqoAQpc",
        "colab_type": "code",
        "colab": {}
      },
      "source": [
        "A = np.array([[1,2,3],[4,5,6],[7,8,9],[10,11,12]])\n",
        "B = np.array([[2,3],[5,7],[11,13]])"
      ],
      "execution_count": 14,
      "outputs": []
    },
    {
      "cell_type": "code",
      "metadata": {
        "id": "hungljL7ApwC",
        "colab_type": "code",
        "colab": {
          "base_uri": "https://localhost:8080/",
          "height": 52
        },
        "outputId": "45a36769-3590-420b-b1cc-52a88fc81307"
      },
      "source": [
        "print('Dimension de A: ', A.shape)\n",
        "print('Dimension de B: ', B.shape)"
      ],
      "execution_count": 15,
      "outputs": [
        {
          "output_type": "stream",
          "text": [
            "Dimension de A:  (4, 3)\n",
            "Dimension de B:  (3, 2)\n"
          ],
          "name": "stdout"
        }
      ]
    },
    {
      "cell_type": "code",
      "metadata": {
        "id": "EJD__KCYA2k6",
        "colab_type": "code",
        "colab": {}
      },
      "source": [
        "C = A.dot(B)"
      ],
      "execution_count": 16,
      "outputs": []
    },
    {
      "cell_type": "markdown",
      "metadata": {
        "id": "-iCNFENGBfKZ",
        "colab_type": "text"
      },
      "source": [
        "Se puede realizar la operación **A . B** ya que:\n",
        "* Dimension de A:  (4, **3**)\n",
        "* Dimension de B:  (**3**, 2)\n",
        "\n",
        "Los valores en negrita son de la misma dimensión. \n",
        "\n"
      ]
    },
    {
      "cell_type": "code",
      "metadata": {
        "id": "v1CgGaMtCs1Q",
        "colab_type": "code",
        "colab": {
          "base_uri": "https://localhost:8080/",
          "height": 86
        },
        "outputId": "db188e2a-c1a9-40d5-e4b5-728b1ef681b9"
      },
      "source": [
        "print(C)"
      ],
      "execution_count": 18,
      "outputs": [
        {
          "output_type": "stream",
          "text": [
            "[[ 45  56]\n",
            " [ 99 125]\n",
            " [153 194]\n",
            " [207 263]]\n"
          ],
          "name": "stdout"
        }
      ]
    },
    {
      "cell_type": "code",
      "metadata": {
        "id": "lfTUu_SqBDyz",
        "colab_type": "code",
        "colab": {
          "base_uri": "https://localhost:8080/",
          "height": 167
        },
        "outputId": "195126ae-cffd-48e7-9306-b3cff4cdd219"
      },
      "source": [
        "D = B.dot(A)"
      ],
      "execution_count": 17,
      "outputs": [
        {
          "output_type": "error",
          "ename": "ValueError",
          "evalue": "ignored",
          "traceback": [
            "\u001b[0;31m---------------------------------------------------------------------------\u001b[0m",
            "\u001b[0;31mValueError\u001b[0m                                Traceback (most recent call last)",
            "\u001b[0;32m<ipython-input-17-e4f2e98153c3>\u001b[0m in \u001b[0;36m<module>\u001b[0;34m()\u001b[0m\n\u001b[0;32m----> 1\u001b[0;31m \u001b[0mD\u001b[0m \u001b[0;34m=\u001b[0m \u001b[0mB\u001b[0m\u001b[0;34m.\u001b[0m\u001b[0mdot\u001b[0m\u001b[0;34m(\u001b[0m\u001b[0mA\u001b[0m\u001b[0;34m)\u001b[0m\u001b[0;34m\u001b[0m\u001b[0;34m\u001b[0m\u001b[0m\n\u001b[0m",
            "\u001b[0;31mValueError\u001b[0m: shapes (3,2) and (4,3) not aligned: 2 (dim 1) != 4 (dim 0)"
          ]
        }
      ]
    },
    {
      "cell_type": "markdown",
      "metadata": {
        "id": "C8HwcDrrB7Eb",
        "colab_type": "text"
      },
      "source": [
        "No se puede realizar la operación **B . ** ya que:\n",
        "* Dimension de B:  (3, **2**)\n",
        "* Dimension de A:  (**4**, 3)\n",
        "\n",
        "Los valores en negrita son de diferentes dimensión y eso es lo que nos marca el error **ValueError** "
      ]
    },
    {
      "cell_type": "code",
      "metadata": {
        "id": "53l2QjyABHZu",
        "colab_type": "code",
        "colab": {}
      },
      "source": [
        ""
      ],
      "execution_count": null,
      "outputs": []
    }
  ]
}