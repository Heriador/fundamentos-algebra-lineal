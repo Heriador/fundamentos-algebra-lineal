{
  "nbformat": 4,
  "nbformat_minor": 0,
  "metadata": {
    "colab": {
      "name": "3.Operaciones con Matrices.ipynb",
      "provenance": [],
      "toc_visible": true,
      "authorship_tag": "ABX9TyOLOZ7m4xJDfexPf3H43Yc+",
      "include_colab_link": true
    },
    "kernelspec": {
      "name": "python3",
      "display_name": "Python 3"
    }
  },
  "cells": [
    {
      "cell_type": "markdown",
      "metadata": {
        "id": "view-in-github",
        "colab_type": "text"
      },
      "source": [
        "<a href=\"https://colab.research.google.com/github/francomanca93/fundamentos-algebra-lineal/blob/operaciones-matriciales/3_Operaciones_con_Matrices.ipynb\" target=\"_parent\"><img src=\"https://colab.research.google.com/assets/colab-badge.svg\" alt=\"Open In Colab\"/></a>"
      ]
    },
    {
      "cell_type": "markdown",
      "metadata": {
        "id": "jizL2kp84zQs",
        "colab_type": "text"
      },
      "source": [
        "# Operaciones con matrices"
      ]
    },
    {
      "cell_type": "markdown",
      "metadata": {
        "id": "pC9xgVM042bI",
        "colab_type": "text"
      },
      "source": [
        "## Producto interno entre una matriz y un vector"
      ]
    },
    {
      "cell_type": "markdown",
      "metadata": {
        "id": "W6GsImba7uY-",
        "colab_type": "text"
      },
      "source": [
        "[Producto escalar](https://es.wikipedia.org/wiki/Producto_escalar)\n",
        "\n",
        "**Producto interno**, tambien conocido como **producto escalar, producto interior o producto punto**, es una operación algebraica que toma dos secuencias de números de igual longitud (usualmente en la forma de vectores) y retorna un único número. "
      ]
    },
    {
      "cell_type": "code",
      "metadata": {
        "id": "-QT3Z8uV5PxL",
        "colab_type": "code",
        "colab": {}
      },
      "source": [
        "import numpy as np"
      ],
      "execution_count": 11,
      "outputs": []
    },
    {
      "cell_type": "code",
      "metadata": {
        "id": "gHEh8qs214QU",
        "colab_type": "code",
        "colab": {}
      },
      "source": [
        "escalar = 5.679\n",
        "vector = np.array([2, 3])\n",
        "matriz = np. array([[1, 2], [3, 4], [5, 6]])"
      ],
      "execution_count": 12,
      "outputs": []
    },
    {
      "cell_type": "code",
      "metadata": {
        "id": "DZRWd_VT5bBs",
        "colab_type": "code",
        "colab": {}
      },
      "source": [
        "A = matriz * vector\n",
        "B = matriz.dot(vector)"
      ],
      "execution_count": 13,
      "outputs": []
    },
    {
      "cell_type": "code",
      "metadata": {
        "id": "EEBJ_Q7z5kN2",
        "colab_type": "code",
        "colab": {
          "base_uri": "https://localhost:8080/",
          "height": 86
        },
        "outputId": "8d6aa40b-1da5-4388-fbce-6d40f1f95e7a"
      },
      "source": [
        "print('Producto elemento a elemento: \\n', A)"
      ],
      "execution_count": 14,
      "outputs": [
        {
          "output_type": "stream",
          "text": [
            "Producto elemento a elemento: \n",
            " [[ 2  6]\n",
            " [ 6 12]\n",
            " [10 18]]\n"
          ],
          "name": "stdout"
        }
      ]
    },
    {
      "cell_type": "markdown",
      "metadata": {
        "id": "-KCTTrgXADha",
        "colab_type": "text"
      },
      "source": [
        "Lo que se esta haciendo en este caso es broadcasting. "
      ]
    },
    {
      "cell_type": "code",
      "metadata": {
        "id": "xg3Mq6zV5okP",
        "colab_type": "code",
        "colab": {
          "base_uri": "https://localhost:8080/",
          "height": 52
        },
        "outputId": "f6346f14-23c1-4116-e5fe-cefa2c995a22"
      },
      "source": [
        "print('Producto escalar: \\n', B)"
      ],
      "execution_count": 15,
      "outputs": [
        {
          "output_type": "stream",
          "text": [
            "Producto escalar: \n",
            " [ 8 18 28]\n"
          ],
          "name": "stdout"
        }
      ]
    },
    {
      "cell_type": "markdown",
      "metadata": {
        "id": "zs-rOXcX9pFn",
        "colab_type": "text"
      },
      "source": [
        "Se utiliza la función **.dot()** y lo que está pasando en lo siguiente: \n",
        "\n",
        "![producto escalar](https://i.imgur.com/cAVzYpx.png)"
      ]
    },
    {
      "cell_type": "markdown",
      "metadata": {
        "id": "C3F8lQCvALU6",
        "colab_type": "text"
      },
      "source": [
        "## Producto interno entre dos matrices"
      ]
    },
    {
      "cell_type": "code",
      "metadata": {
        "id": "5tZMpSqoAQpc",
        "colab_type": "code",
        "colab": {}
      },
      "source": [
        "A = np.array([[1,2,3],[4,5,6],[7,8,9],[10,11,12]])\n",
        "B = np.array([[2,3],[5,7],[11,13]])"
      ],
      "execution_count": 16,
      "outputs": []
    },
    {
      "cell_type": "code",
      "metadata": {
        "id": "hungljL7ApwC",
        "colab_type": "code",
        "colab": {
          "base_uri": "https://localhost:8080/",
          "height": 52
        },
        "outputId": "1328a517-8018-41f8-f486-caf31e5d50e6"
      },
      "source": [
        "print('Dimension de A: ', A.shape)\n",
        "print('Dimension de B: ', B.shape)"
      ],
      "execution_count": 17,
      "outputs": [
        {
          "output_type": "stream",
          "text": [
            "Dimension de A:  (4, 3)\n",
            "Dimension de B:  (3, 2)\n"
          ],
          "name": "stdout"
        }
      ]
    },
    {
      "cell_type": "code",
      "metadata": {
        "id": "EJD__KCYA2k6",
        "colab_type": "code",
        "colab": {}
      },
      "source": [
        "C = A.dot(B)"
      ],
      "execution_count": 18,
      "outputs": []
    },
    {
      "cell_type": "markdown",
      "metadata": {
        "id": "-iCNFENGBfKZ",
        "colab_type": "text"
      },
      "source": [
        "Se puede realizar la operación **A . B** ya que:\n",
        "* Dimension de A:  (4, **3**)\n",
        "* Dimension de B:  (**3**, 2)\n",
        "\n",
        "Los valores en negrita son de la misma dimensión. \n",
        "\n"
      ]
    },
    {
      "cell_type": "code",
      "metadata": {
        "id": "v1CgGaMtCs1Q",
        "colab_type": "code",
        "colab": {
          "base_uri": "https://localhost:8080/",
          "height": 86
        },
        "outputId": "b1cbae7f-66bd-4f9a-f63c-d3174cc6b1e4"
      },
      "source": [
        "print(C)"
      ],
      "execution_count": 19,
      "outputs": [
        {
          "output_type": "stream",
          "text": [
            "[[ 45  56]\n",
            " [ 99 125]\n",
            " [153 194]\n",
            " [207 263]]\n"
          ],
          "name": "stdout"
        }
      ]
    },
    {
      "cell_type": "code",
      "metadata": {
        "id": "lfTUu_SqBDyz",
        "colab_type": "code",
        "colab": {
          "base_uri": "https://localhost:8080/",
          "height": 167
        },
        "outputId": "55cfc037-86d4-4d04-c41b-d5e04478bb1e"
      },
      "source": [
        "D = B.dot(A)"
      ],
      "execution_count": 20,
      "outputs": [
        {
          "output_type": "error",
          "ename": "ValueError",
          "evalue": "ignored",
          "traceback": [
            "\u001b[0;31m---------------------------------------------------------------------------\u001b[0m",
            "\u001b[0;31mValueError\u001b[0m                                Traceback (most recent call last)",
            "\u001b[0;32m<ipython-input-20-e4f2e98153c3>\u001b[0m in \u001b[0;36m<module>\u001b[0;34m()\u001b[0m\n\u001b[0;32m----> 1\u001b[0;31m \u001b[0mD\u001b[0m \u001b[0;34m=\u001b[0m \u001b[0mB\u001b[0m\u001b[0;34m.\u001b[0m\u001b[0mdot\u001b[0m\u001b[0;34m(\u001b[0m\u001b[0mA\u001b[0m\u001b[0;34m)\u001b[0m\u001b[0;34m\u001b[0m\u001b[0;34m\u001b[0m\u001b[0m\n\u001b[0m",
            "\u001b[0;31mValueError\u001b[0m: shapes (3,2) and (4,3) not aligned: 2 (dim 1) != 4 (dim 0)"
          ]
        }
      ]
    },
    {
      "cell_type": "markdown",
      "metadata": {
        "id": "C8HwcDrrB7Eb",
        "colab_type": "text"
      },
      "source": [
        "No se puede realizar la operación **B . ** ya que:\n",
        "* Dimension de B:  (3, **2**)\n",
        "* Dimension de A:  (**4**, 3)\n",
        "\n",
        "Los valores en negrita son de diferentes dimensión y eso es lo que nos marca el error **ValueError** "
      ]
    },
    {
      "cell_type": "markdown",
      "metadata": {
        "id": "F41KHl7uES26",
        "colab_type": "text"
      },
      "source": [
        "## Propiedades de las matrices"
      ]
    },
    {
      "cell_type": "code",
      "metadata": {
        "id": "ODFBCusQFCSz",
        "colab_type": "code",
        "colab": {}
      },
      "source": [
        "A = np.array([[2,3],[5,7],[11,13]])\n",
        "B = np.array([[1,3],[2,1]])\n",
        "C = np.array([[3,1],[4,2]])"
      ],
      "execution_count": 36,
      "outputs": []
    },
    {
      "cell_type": "markdown",
      "metadata": {
        "id": "JUDFRMYTJDrz",
        "colab_type": "text"
      },
      "source": [
        "Propiedades del producto escalar, [imagen de wikipedia](https://es.wikipedia.org/wiki/Producto_escalar#Propiedades_del_producto_escalar)\n",
        "\n",
        "![Propiedades](https://i.imgur.com/VFIVjjn.png)"
      ]
    },
    {
      "cell_type": "markdown",
      "metadata": {
        "id": "Itu9e3UqEVbe",
        "colab_type": "text"
      },
      "source": [
        "### Asociativa"
      ]
    },
    {
      "cell_type": "code",
      "metadata": {
        "id": "rt-qTUB7FUaF",
        "colab_type": "code",
        "colab": {
          "base_uri": "https://localhost:8080/",
          "height": 69
        },
        "outputId": "2bdfde43-d6d6-461d-f651-0181f0b38994"
      },
      "source": [
        "ABC = A.dot(B.dot(C))\n",
        "print(ABC)"
      ],
      "execution_count": 22,
      "outputs": [
        {
          "output_type": "stream",
          "text": [
            "[[ 60  26]\n",
            " [145  63]\n",
            " [295 129]]\n"
          ],
          "name": "stdout"
        }
      ]
    },
    {
      "cell_type": "code",
      "metadata": {
        "id": "tKIvPLF6Fpzl",
        "colab_type": "code",
        "colab": {
          "base_uri": "https://localhost:8080/",
          "height": 69
        },
        "outputId": "080e79d4-cb11-454d-cb54-e16752139014"
      },
      "source": [
        "AB_C = A.dot(B).dot(C)\n",
        "print(AB_C)"
      ],
      "execution_count": 23,
      "outputs": [
        {
          "output_type": "stream",
          "text": [
            "[[ 60  26]\n",
            " [145  63]\n",
            " [295 129]]\n"
          ],
          "name": "stdout"
        }
      ]
    },
    {
      "cell_type": "code",
      "metadata": {
        "id": "huWrZdcyF1V-",
        "colab_type": "code",
        "colab": {
          "base_uri": "https://localhost:8080/",
          "height": 69
        },
        "outputId": "548ae795-dbc8-4647-94a2-7135327d1730"
      },
      "source": [
        "ABC == AB_C"
      ],
      "execution_count": 24,
      "outputs": [
        {
          "output_type": "execute_result",
          "data": {
            "text/plain": [
              "array([[ True,  True],\n",
              "       [ True,  True],\n",
              "       [ True,  True]])"
            ]
          },
          "metadata": {
            "tags": []
          },
          "execution_count": 24
        }
      ]
    },
    {
      "cell_type": "markdown",
      "metadata": {
        "id": "syo-YQgzEYj2",
        "colab_type": "text"
      },
      "source": [
        "### Distribución\n"
      ]
    },
    {
      "cell_type": "code",
      "metadata": {
        "id": "PdysdHouGE3e",
        "colab_type": "code",
        "colab": {
          "base_uri": "https://localhost:8080/",
          "height": 156
        },
        "outputId": "15d32f46-7fee-4c5f-fe20-5505adeafc14"
      },
      "source": [
        "D = A.dot(B+C)\n",
        "E = (A.dot(B) + (A.dot(C)))\n",
        "print('D: \\n', D)\n",
        "print('E: \\n', E)"
      ],
      "execution_count": 25,
      "outputs": [
        {
          "output_type": "stream",
          "text": [
            "D: \n",
            " [[ 26  17]\n",
            " [ 62  41]\n",
            " [122  83]]\n",
            "E: \n",
            " [[ 26  17]\n",
            " [ 62  41]\n",
            " [122  83]]\n"
          ],
          "name": "stdout"
        }
      ]
    },
    {
      "cell_type": "code",
      "metadata": {
        "id": "SUSByOGPHEqo",
        "colab_type": "code",
        "colab": {
          "base_uri": "https://localhost:8080/",
          "height": 69
        },
        "outputId": "c4ea384e-ec40-418d-f466-285f1e558efb"
      },
      "source": [
        "print(D==E)"
      ],
      "execution_count": 26,
      "outputs": [
        {
          "output_type": "stream",
          "text": [
            "[[ True  True]\n",
            " [ True  True]\n",
            " [ True  True]]\n"
          ],
          "name": "stdout"
        }
      ]
    },
    {
      "cell_type": "markdown",
      "metadata": {
        "id": "pBRdVAUjEZJX",
        "colab_type": "text"
      },
      "source": [
        "### Conmutativa"
      ]
    },
    {
      "cell_type": "code",
      "metadata": {
        "id": "WhaKDsgcHL9s",
        "colab_type": "code",
        "colab": {
          "base_uri": "https://localhost:8080/",
          "height": 121
        },
        "outputId": "e2e076d7-8b4a-42a5-bc0b-9119c944f16f"
      },
      "source": [
        "F = B.dot(C)\n",
        "G = C.dot(B)\n",
        "print('F: \\n', F)\n",
        "print('G: \\n', G)"
      ],
      "execution_count": 27,
      "outputs": [
        {
          "output_type": "stream",
          "text": [
            "F: \n",
            " [[15  7]\n",
            " [10  4]]\n",
            "G: \n",
            " [[ 5 10]\n",
            " [ 8 14]]\n"
          ],
          "name": "stdout"
        }
      ]
    },
    {
      "cell_type": "code",
      "metadata": {
        "id": "ydRWLMmwHoys",
        "colab_type": "code",
        "colab": {
          "base_uri": "https://localhost:8080/",
          "height": 52
        },
        "outputId": "56db8dbc-8e56-418a-a833-ea0992802223"
      },
      "source": [
        "print(F==G)"
      ],
      "execution_count": 28,
      "outputs": [
        {
          "output_type": "stream",
          "text": [
            "[[False False]\n",
            " [False False]]\n"
          ],
          "name": "stdout"
        }
      ]
    },
    {
      "cell_type": "markdown",
      "metadata": {
        "id": "XAKp2ZA4Hrzj",
        "colab_type": "text"
      },
      "source": [
        "Con esto se concluye que la **propiedad conmutativa** entre matrices no se cumple. Pero si se cumple en un vector. Como se ve en el siguiente ejercicio."
      ]
    },
    {
      "cell_type": "code",
      "metadata": {
        "id": "F1BbShOGH-7J",
        "colab_type": "code",
        "colab": {}
      },
      "source": [
        "v1 = np.array([[2],[7]])\n",
        "v2 = np.array([[3],[5]])"
      ],
      "execution_count": 29,
      "outputs": []
    },
    {
      "cell_type": "markdown",
      "metadata": {
        "id": "XQQxUD_tIKfW",
        "colab_type": "text"
      },
      "source": [
        "Debemos transponer para hacer comprobar la propiedad conmutativa con vectores, ya que las dimesiones deben ser iguales."
      ]
    },
    {
      "cell_type": "code",
      "metadata": {
        "id": "hWDfP4WHIFzk",
        "colab_type": "code",
        "colab": {}
      },
      "source": [
        "v1_tv2 = v1.T.dot(v2)\n",
        "v2_tv1 = v2.T.dot(v1)\n"
      ],
      "execution_count": 30,
      "outputs": []
    },
    {
      "cell_type": "code",
      "metadata": {
        "id": "6RYAXfISId-8",
        "colab_type": "code",
        "colab": {
          "base_uri": "https://localhost:8080/",
          "height": 34
        },
        "outputId": "2613c799-6038-4172-ad6c-ef0f345c0ca0"
      },
      "source": [
        "print(v1_tv2)"
      ],
      "execution_count": 31,
      "outputs": [
        {
          "output_type": "stream",
          "text": [
            "[[41]]\n"
          ],
          "name": "stdout"
        }
      ]
    },
    {
      "cell_type": "code",
      "metadata": {
        "id": "uvcACnn0IhO9",
        "colab_type": "code",
        "colab": {
          "base_uri": "https://localhost:8080/",
          "height": 34
        },
        "outputId": "4174c316-f484-434e-9659-6bbfc230a522"
      },
      "source": [
        "print(v2_tv1)"
      ],
      "execution_count": 32,
      "outputs": [
        {
          "output_type": "stream",
          "text": [
            "[[41]]\n"
          ],
          "name": "stdout"
        }
      ]
    },
    {
      "cell_type": "markdown",
      "metadata": {
        "id": "KyTOUFKQMOcw",
        "colab_type": "text"
      },
      "source": [
        "## Transposición de un producto de matrices "
      ]
    },
    {
      "cell_type": "markdown",
      "metadata": {
        "id": "EeR7qLsCMUXW",
        "colab_type": "text"
      },
      "source": [
        "Propiedad: (A.dot(B)).T == B.T.dot(A.T)\n",
        "\n",
        "\n",
        "![alt text](https://i.imgur.com/2cDVJas.png)"
      ]
    },
    {
      "cell_type": "code",
      "metadata": {
        "id": "8klDdgA2NYWO",
        "colab_type": "code",
        "colab": {
          "base_uri": "https://localhost:8080/",
          "height": 139
        },
        "outputId": "8b712d2e-4b96-4f3f-da72-7b684d9068d9"
      },
      "source": [
        "A = np.array([[2,3],[5,7],[11,13]])\n",
        "B = np.array([[1,3],[2,1]])\n",
        "print('A: \\n', A)\n",
        "print('B: \\n', B)"
      ],
      "execution_count": 33,
      "outputs": [
        {
          "output_type": "stream",
          "text": [
            "A: \n",
            " [[ 2  3]\n",
            " [ 5  7]\n",
            " [11 13]]\n",
            "B: \n",
            " [[1 3]\n",
            " [2 1]]\n"
          ],
          "name": "stdout"
        }
      ]
    },
    {
      "cell_type": "code",
      "metadata": {
        "id": "cNMPZpzmNhb8",
        "colab_type": "code",
        "colab": {
          "base_uri": "https://localhost:8080/",
          "height": 121
        },
        "outputId": "77121b59-967f-4f04-b3f1-8149fb3ca75f"
      },
      "source": [
        "AB_t = A.dot(B).T\n",
        "B_tA_t = B.T.dot(A.T)\n",
        "print('AB_t: \\n', AB_t)\n",
        "print('B_tA_t: \\n', B_tA_t)"
      ],
      "execution_count": 34,
      "outputs": [
        {
          "output_type": "stream",
          "text": [
            "AB_t: \n",
            " [[ 8 19 37]\n",
            " [ 9 22 46]]\n",
            "B_tA_t: \n",
            " [[ 8 19 37]\n",
            " [ 9 22 46]]\n"
          ],
          "name": "stdout"
        }
      ]
    },
    {
      "cell_type": "code",
      "metadata": {
        "id": "fYDy3H_7Nw91",
        "colab_type": "code",
        "colab": {
          "base_uri": "https://localhost:8080/",
          "height": 52
        },
        "outputId": "c9805792-07f2-49e1-b753-c0ec83516705"
      },
      "source": [
        "print(AB_t == B_tA_t)"
      ],
      "execution_count": 35,
      "outputs": [
        {
          "output_type": "stream",
          "text": [
            "[[ True  True  True]\n",
            " [ True  True  True]]\n"
          ],
          "name": "stdout"
        }
      ]
    },
    {
      "cell_type": "markdown",
      "metadata": {
        "id": "1N68qFUyXBll",
        "colab_type": "text"
      },
      "source": [
        "## Cómo comprobar la solución de un sistema de ecuaciones lineal"
      ]
    },
    {
      "cell_type": "markdown",
      "metadata": {
        "id": "mXLikMK0XHfh",
        "colab_type": "text"
      },
      "source": [
        "En matemáticas y álgebra lineal, un [sistema de ecuaciones lineales](https://es.wikipedia.org/wiki/Sistema_de_ecuaciones_lineales), también conocido como **sistema lineal de ecuaciones** o simplemente **sistema lineal**, es un conjunto de ecuaciones lineales (es decir, un sistema de ecuaciones en donde cada ecuación es de primer grado), donde el objetivo es encontrar los valores desconocidos. En el caso de abajo de las variables x1, x2 y x3 que satisfacen las tres ecuaciones. \n",
        "\n",
        "![alt text](https://wikimedia.org/api/rest_v1/media/math/render/svg/4ffd42e5a3d831221aec68a5611a7baed0c24587)"
      ]
    },
    {
      "cell_type": "code",
      "metadata": {
        "id": "CMTV95jXYt1d",
        "colab_type": "code",
        "colab": {}
      },
      "source": [
        "%matplotlib inline\n",
        "import numpy as np\n",
        "import matplotlib.pyplot as plt"
      ],
      "execution_count": 38,
      "outputs": []
    },
    {
      "cell_type": "code",
      "metadata": {
        "id": "DnQbJYeVY7K2",
        "colab_type": "code",
        "colab": {}
      },
      "source": [
        "x = np.arange(-5, 5)"
      ],
      "execution_count": 40,
      "outputs": []
    },
    {
      "cell_type": "code",
      "metadata": {
        "id": "AhqCMTx9ZFn7",
        "colab_type": "code",
        "colab": {}
      },
      "source": [
        "y_1 = 3*x + 5\n",
        "y_2 = 2*x + 3"
      ],
      "execution_count": 42,
      "outputs": []
    },
    {
      "cell_type": "code",
      "metadata": {
        "id": "hvCmUq4WZM7W",
        "colab_type": "code",
        "colab": {
          "base_uri": "https://localhost:8080/",
          "height": 282
        },
        "outputId": "3d1d0415-1ff7-49ed-d432-651de1afa93f"
      },
      "source": [
        "plt.figure()\n",
        "\n",
        "plt.plot(x, y_1)\n",
        "plt.plot(x, y_2)\n",
        "\n",
        "plt.xlim(-5, 5)\n",
        "plt.ylim(-5, 5)\n",
        "\n",
        "plt.axvline(x=0, color='grey')\n",
        "plt.axhline(y=0, color='grey')"
      ],
      "execution_count": 43,
      "outputs": [
        {
          "output_type": "execute_result",
          "data": {
            "text/plain": [
              "<matplotlib.lines.Line2D at 0x7f081aa78e48>"
            ]
          },
          "metadata": {
            "tags": []
          },
          "execution_count": 43
        },
        {
          "output_type": "display_data",
          "data": {
            "image/png": "[encoded data removed]",
            "text/plain": [
              "<Figure size 432x288 with 1 Axes>"
            ]
          },
          "metadata": {
            "tags": [],
            "needs_background": "light"
          }
        }
      ]
    },
    {
      "cell_type": "markdown",
      "metadata": {
        "id": "MbLjmszBcNJy",
        "colab_type": "text"
      },
      "source": [
        "Forma matricial de nuestras ecuaciones graficadas"
      ]
    },
    {
      "cell_type": "code",
      "metadata": {
        "id": "YmFyQDOIcQ0p",
        "colab_type": "code",
        "colab": {
          "base_uri": "https://localhost:8080/",
          "height": 52
        },
        "outputId": "5ac02d12-8806-437f-cc14-826f60c760dc"
      },
      "source": [
        "A = np.array([[-3, 1],\n",
        "              [-2, 1]])\n",
        "print(A)"
      ],
      "execution_count": 44,
      "outputs": [
        {
          "output_type": "stream",
          "text": [
            "[[-3  1]\n",
            " [-2  1]]\n"
          ],
          "name": "stdout"
        }
      ]
    },
    {
      "cell_type": "code",
      "metadata": {
        "id": "VuG4OaJNcgka",
        "colab_type": "code",
        "colab": {
          "base_uri": "https://localhost:8080/",
          "height": 52
        },
        "outputId": "6cc85412-2984-4028-e289-6f94e5f31a5d"
      },
      "source": [
        "b = np.array([[5], [3]])\n",
        "print(b)"
      ],
      "execution_count": 45,
      "outputs": [
        {
          "output_type": "stream",
          "text": [
            "[[5]\n",
            " [3]]\n"
          ],
          "name": "stdout"
        }
      ]
    },
    {
      "cell_type": "code",
      "metadata": {
        "id": "LMzU1pNkcraq",
        "colab_type": "code",
        "colab": {
          "base_uri": "https://localhost:8080/",
          "height": 34
        },
        "outputId": "e14a9506-6177-40d8-f9d0-a8b25783a518"
      },
      "source": [
        "# Proponemos una solución, observada en el gráfico.\n",
        "sol_1 = np.array([-2, -1])\n",
        "print(sol_1)"
      ],
      "execution_count": 47,
      "outputs": [
        {
          "output_type": "stream",
          "text": [
            "[-2 -1]\n"
          ],
          "name": "stdout"
        }
      ]
    },
    {
      "cell_type": "code",
      "metadata": {
        "id": "PsxAYZ7mc5rr",
        "colab_type": "code",
        "colab": {
          "base_uri": "https://localhost:8080/",
          "height": 34
        },
        "outputId": "630bd20a-f819-43c9-f178-01c6037fbaba"
      },
      "source": [
        "# Hacemos el producto punto de A con la solución propuesta\n",
        "print(A.dot(sol_1))"
      ],
      "execution_count": 49,
      "outputs": [
        {
          "output_type": "stream",
          "text": [
            "[5 3]\n"
          ],
          "name": "stdout"
        }
      ]
    },
    {
      "cell_type": "code",
      "metadata": {
        "id": "jKcZGsZLdix9",
        "colab_type": "code",
        "colab": {}
      },
      "source": [
        ""
      ],
      "execution_count": null,
      "outputs": []
    }
  ]
}