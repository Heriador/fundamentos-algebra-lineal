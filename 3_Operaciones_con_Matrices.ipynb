{
  "nbformat": 4,
  "nbformat_minor": 0,
  "metadata": {
    "colab": {
      "name": "3.Operaciones con Matrices.ipynb",
      "provenance": [],
      "toc_visible": true,
      "authorship_tag": "ABX9TyPQVmMRml5KEtKSOKg38Lfh",
      "include_colab_link": true
    },
    "kernelspec": {
      "name": "python3",
      "display_name": "Python 3"
    }
  },
  "cells": [
    {
      "cell_type": "markdown",
      "metadata": {
        "id": "view-in-github",
        "colab_type": "text"
      },
      "source": [
        "<a href=\"https://colab.research.google.com/github/francomanca93/fundamentos-algebra-lineal/blob/operaciones-matriciales/3_Operaciones_con_Matrices.ipynb\" target=\"_parent\"><img src=\"https://colab.research.google.com/assets/colab-badge.svg\" alt=\"Open In Colab\"/></a>"
      ]
    },
    {
      "cell_type": "markdown",
      "metadata": {
        "id": "jizL2kp84zQs",
        "colab_type": "text"
      },
      "source": [
        "# Operaciones con matrices"
      ]
    },
    {
      "cell_type": "markdown",
      "metadata": {
        "id": "pC9xgVM042bI",
        "colab_type": "text"
      },
      "source": [
        "## Producto interno entre una matriz y un vector"
      ]
    },
    {
      "cell_type": "markdown",
      "metadata": {
        "id": "W6GsImba7uY-",
        "colab_type": "text"
      },
      "source": [
        "[Producto escalar](https://es.wikipedia.org/wiki/Producto_escalar)\n",
        "\n",
        "**Producto interno**, tambien conocido como **producto escalar, producto interior o producto punto**, es una operación algebraica que toma dos secuencias de números de igual longitud (usualmente en la forma de vectores) y retorna un único número. "
      ]
    },
    {
      "cell_type": "code",
      "metadata": {
        "id": "-QT3Z8uV5PxL",
        "colab_type": "code",
        "colab": {}
      },
      "source": [
        "import numpy as np"
      ],
      "execution_count": 1,
      "outputs": []
    },
    {
      "cell_type": "code",
      "metadata": {
        "id": "gHEh8qs214QU",
        "colab_type": "code",
        "colab": {}
      },
      "source": [
        "escalar = 5.679\n",
        "vector = np.array([2, 3])\n",
        "matriz = np. array([[1, 2], [3, 4], [5, 6]])"
      ],
      "execution_count": 6,
      "outputs": []
    },
    {
      "cell_type": "code",
      "metadata": {
        "id": "DZRWd_VT5bBs",
        "colab_type": "code",
        "colab": {}
      },
      "source": [
        "A = matriz * vector\n",
        "B = matriz.dot(vector)"
      ],
      "execution_count": 7,
      "outputs": []
    },
    {
      "cell_type": "code",
      "metadata": {
        "id": "EEBJ_Q7z5kN2",
        "colab_type": "code",
        "colab": {
          "base_uri": "https://localhost:8080/",
          "height": 86
        },
        "outputId": "18e4a59a-a8bc-40a7-a2e2-0b0a7d56e418"
      },
      "source": [
        "print('Producto elemento a elemento: \\n', A)"
      ],
      "execution_count": 10,
      "outputs": [
        {
          "output_type": "stream",
          "text": [
            "Producto elemento a elemento: \n",
            " [[ 2  6]\n",
            " [ 6 12]\n",
            " [10 18]]\n"
          ],
          "name": "stdout"
        }
      ]
    },
    {
      "cell_type": "markdown",
      "metadata": {
        "id": "-KCTTrgXADha",
        "colab_type": "text"
      },
      "source": [
        "Lo que se esta haciendo en este caso es broadcasting. "
      ]
    },
    {
      "cell_type": "code",
      "metadata": {
        "id": "xg3Mq6zV5okP",
        "colab_type": "code",
        "colab": {
          "base_uri": "https://localhost:8080/",
          "height": 52
        },
        "outputId": "aa30e597-663e-43ab-8a94-8bb03772aa15"
      },
      "source": [
        "print('Producto escalar: \\n', B)"
      ],
      "execution_count": 11,
      "outputs": [
        {
          "output_type": "stream",
          "text": [
            "Producto escalar: \n",
            " [ 8 18 28]\n"
          ],
          "name": "stdout"
        }
      ]
    },
    {
      "cell_type": "markdown",
      "metadata": {
        "id": "zs-rOXcX9pFn",
        "colab_type": "text"
      },
      "source": [
        "Se utiliza la función **.dot()** y lo que está pasando en lo siguiente: \n",
        "\n",
        "![producto escalar](https://i.imgur.com/cAVzYpx.png)"
      ]
    },
    {
      "cell_type": "markdown",
      "metadata": {
        "id": "C3F8lQCvALU6",
        "colab_type": "text"
      },
      "source": [
        "## Producto interno entre dos matrices"
      ]
    },
    {
      "cell_type": "code",
      "metadata": {
        "id": "5tZMpSqoAQpc",
        "colab_type": "code",
        "colab": {}
      },
      "source": [
        "A = np.array([[1,2,3],[4,5,6],[7,8,9],[10,11,12]])\n",
        "B = np.array([[2,3],[5,7],[11,13]])"
      ],
      "execution_count": 14,
      "outputs": []
    },
    {
      "cell_type": "code",
      "metadata": {
        "id": "hungljL7ApwC",
        "colab_type": "code",
        "colab": {
          "base_uri": "https://localhost:8080/",
          "height": 52
        },
        "outputId": "45a36769-3590-420b-b1cc-52a88fc81307"
      },
      "source": [
        "print('Dimension de A: ', A.shape)\n",
        "print('Dimension de B: ', B.shape)"
      ],
      "execution_count": 15,
      "outputs": [
        {
          "output_type": "stream",
          "text": [
            "Dimension de A:  (4, 3)\n",
            "Dimension de B:  (3, 2)\n"
          ],
          "name": "stdout"
        }
      ]
    },
    {
      "cell_type": "code",
      "metadata": {
        "id": "EJD__KCYA2k6",
        "colab_type": "code",
        "colab": {}
      },
      "source": [
        "C = A.dot(B)"
      ],
      "execution_count": 16,
      "outputs": []
    },
    {
      "cell_type": "markdown",
      "metadata": {
        "id": "-iCNFENGBfKZ",
        "colab_type": "text"
      },
      "source": [
        "Se puede realizar la operación **A . B** ya que:\n",
        "* Dimension de A:  (4, **3**)\n",
        "* Dimension de B:  (**3**, 2)\n",
        "\n",
        "Los valores en negrita son de la misma dimensión. \n",
        "\n"
      ]
    },
    {
      "cell_type": "code",
      "metadata": {
        "id": "v1CgGaMtCs1Q",
        "colab_type": "code",
        "colab": {
          "base_uri": "https://localhost:8080/",
          "height": 86
        },
        "outputId": "db188e2a-c1a9-40d5-e4b5-728b1ef681b9"
      },
      "source": [
        "print(C)"
      ],
      "execution_count": 18,
      "outputs": [
        {
          "output_type": "stream",
          "text": [
            "[[ 45  56]\n",
            " [ 99 125]\n",
            " [153 194]\n",
            " [207 263]]\n"
          ],
          "name": "stdout"
        }
      ]
    },
    {
      "cell_type": "code",
      "metadata": {
        "id": "lfTUu_SqBDyz",
        "colab_type": "code",
        "colab": {
          "base_uri": "https://localhost:8080/",
          "height": 167
        },
        "outputId": "195126ae-cffd-48e7-9306-b3cff4cdd219"
      },
      "source": [
        "D = B.dot(A)"
      ],
      "execution_count": 17,
      "outputs": [
        {
          "output_type": "error",
          "ename": "ValueError",
          "evalue": "ignored",
          "traceback": [
            "\u001b[0;31m---------------------------------------------------------------------------\u001b[0m",
            "\u001b[0;31mValueError\u001b[0m                                Traceback (most recent call last)",
            "\u001b[0;32m<ipython-input-17-e4f2e98153c3>\u001b[0m in \u001b[0;36m<module>\u001b[0;34m()\u001b[0m\n\u001b[0;32m----> 1\u001b[0;31m \u001b[0mD\u001b[0m \u001b[0;34m=\u001b[0m \u001b[0mB\u001b[0m\u001b[0;34m.\u001b[0m\u001b[0mdot\u001b[0m\u001b[0;34m(\u001b[0m\u001b[0mA\u001b[0m\u001b[0;34m)\u001b[0m\u001b[0;34m\u001b[0m\u001b[0;34m\u001b[0m\u001b[0m\n\u001b[0m",
            "\u001b[0;31mValueError\u001b[0m: shapes (3,2) and (4,3) not aligned: 2 (dim 1) != 4 (dim 0)"
          ]
        }
      ]
    },
    {
      "cell_type": "markdown",
      "metadata": {
        "id": "C8HwcDrrB7Eb",
        "colab_type": "text"
      },
      "source": [
        "No se puede realizar la operación **B . ** ya que:\n",
        "* Dimension de B:  (3, **2**)\n",
        "* Dimension de A:  (**4**, 3)\n",
        "\n",
        "Los valores en negrita son de diferentes dimensión y eso es lo que nos marca el error **ValueError** "
      ]
    },
    {
      "cell_type": "markdown",
      "metadata": {
        "id": "F41KHl7uES26",
        "colab_type": "text"
      },
      "source": [
        "## Propiedades de las matrices"
      ]
    },
    {
      "cell_type": "code",
      "metadata": {
        "id": "ODFBCusQFCSz",
        "colab_type": "code",
        "colab": {}
      },
      "source": [
        "A = np.array([[2,3],[5,7],[11,13]])\n",
        "B = np.array([[1,3],[2,1]])\n",
        "C = np.array([[3,1],[4,2]])"
      ],
      "execution_count": 26,
      "outputs": []
    },
    {
      "cell_type": "markdown",
      "metadata": {
        "id": "JUDFRMYTJDrz",
        "colab_type": "text"
      },
      "source": [
        "Propiedades del producto escalar, [imagen de wikipedia](https://es.wikipedia.org/wiki/Producto_escalar#Propiedades_del_producto_escalar)\n",
        "\n",
        "![Propiedades](https://i.imgur.com/VFIVjjn.png)"
      ]
    },
    {
      "cell_type": "markdown",
      "metadata": {
        "id": "Itu9e3UqEVbe",
        "colab_type": "text"
      },
      "source": [
        "### Asociativa"
      ]
    },
    {
      "cell_type": "code",
      "metadata": {
        "id": "rt-qTUB7FUaF",
        "colab_type": "code",
        "colab": {
          "base_uri": "https://localhost:8080/",
          "height": 69
        },
        "outputId": "2d64f2f4-2051-4302-a6fd-555ba6656cc1"
      },
      "source": [
        "ABC = A.dot(B.dot(C))\n",
        "print(ABC)"
      ],
      "execution_count": 27,
      "outputs": [
        {
          "output_type": "stream",
          "text": [
            "[[ 60  26]\n",
            " [145  63]\n",
            " [295 129]]\n"
          ],
          "name": "stdout"
        }
      ]
    },
    {
      "cell_type": "code",
      "metadata": {
        "id": "tKIvPLF6Fpzl",
        "colab_type": "code",
        "colab": {
          "base_uri": "https://localhost:8080/",
          "height": 69
        },
        "outputId": "c8f38611-1d30-4739-f489-40b59a1db737"
      },
      "source": [
        "AB_C = A.dot(B).dot(C)\n",
        "print(AB_C)"
      ],
      "execution_count": 28,
      "outputs": [
        {
          "output_type": "stream",
          "text": [
            "[[ 60  26]\n",
            " [145  63]\n",
            " [295 129]]\n"
          ],
          "name": "stdout"
        }
      ]
    },
    {
      "cell_type": "code",
      "metadata": {
        "id": "huWrZdcyF1V-",
        "colab_type": "code",
        "colab": {
          "base_uri": "https://localhost:8080/",
          "height": 69
        },
        "outputId": "e13dcc39-1506-41a1-c6a5-76b94dad9ae6"
      },
      "source": [
        "ABC == AB_C"
      ],
      "execution_count": 29,
      "outputs": [
        {
          "output_type": "execute_result",
          "data": {
            "text/plain": [
              "array([[ True,  True],\n",
              "       [ True,  True],\n",
              "       [ True,  True]])"
            ]
          },
          "metadata": {
            "tags": []
          },
          "execution_count": 29
        }
      ]
    },
    {
      "cell_type": "markdown",
      "metadata": {
        "id": "syo-YQgzEYj2",
        "colab_type": "text"
      },
      "source": [
        "### Distribución\n"
      ]
    },
    {
      "cell_type": "code",
      "metadata": {
        "id": "PdysdHouGE3e",
        "colab_type": "code",
        "colab": {
          "base_uri": "https://localhost:8080/",
          "height": 156
        },
        "outputId": "be63d6cd-9501-4f5a-edaf-6a9b67b6a424"
      },
      "source": [
        "D = A.dot(B+C)\n",
        "E = (A.dot(B) + (A.dot(C)))\n",
        "print('D: \\n', D)\n",
        "print('E: \\n', E)"
      ],
      "execution_count": 30,
      "outputs": [
        {
          "output_type": "stream",
          "text": [
            "D: \n",
            " [[ 26  17]\n",
            " [ 62  41]\n",
            " [122  83]]\n",
            "E: \n",
            " [[ 26  17]\n",
            " [ 62  41]\n",
            " [122  83]]\n"
          ],
          "name": "stdout"
        }
      ]
    },
    {
      "cell_type": "code",
      "metadata": {
        "id": "SUSByOGPHEqo",
        "colab_type": "code",
        "colab": {
          "base_uri": "https://localhost:8080/",
          "height": 69
        },
        "outputId": "5e83391e-8573-47dd-838a-dce07509126a"
      },
      "source": [
        "print(D==E)"
      ],
      "execution_count": 31,
      "outputs": [
        {
          "output_type": "stream",
          "text": [
            "[[ True  True]\n",
            " [ True  True]\n",
            " [ True  True]]\n"
          ],
          "name": "stdout"
        }
      ]
    },
    {
      "cell_type": "markdown",
      "metadata": {
        "id": "pBRdVAUjEZJX",
        "colab_type": "text"
      },
      "source": [
        "### Conmutativa"
      ]
    },
    {
      "cell_type": "code",
      "metadata": {
        "id": "WhaKDsgcHL9s",
        "colab_type": "code",
        "colab": {
          "base_uri": "https://localhost:8080/",
          "height": 121
        },
        "outputId": "47e215ed-a2d2-4e18-8eb6-f00b1156ffbe"
      },
      "source": [
        "F = B.dot(C)\n",
        "G = C.dot(B)\n",
        "print('F: \\n', F)\n",
        "print('G: \\n', G)"
      ],
      "execution_count": 33,
      "outputs": [
        {
          "output_type": "stream",
          "text": [
            "F: \n",
            " [[15  7]\n",
            " [10  4]]\n",
            "G: \n",
            " [[ 5 10]\n",
            " [ 8 14]]\n"
          ],
          "name": "stdout"
        }
      ]
    },
    {
      "cell_type": "code",
      "metadata": {
        "id": "ydRWLMmwHoys",
        "colab_type": "code",
        "colab": {
          "base_uri": "https://localhost:8080/",
          "height": 52
        },
        "outputId": "be094999-08d6-4678-c55d-8f6508711b22"
      },
      "source": [
        "print(F==G)"
      ],
      "execution_count": 34,
      "outputs": [
        {
          "output_type": "stream",
          "text": [
            "[[False False]\n",
            " [False False]]\n"
          ],
          "name": "stdout"
        }
      ]
    },
    {
      "cell_type": "markdown",
      "metadata": {
        "id": "XAKp2ZA4Hrzj",
        "colab_type": "text"
      },
      "source": [
        "Con esto se concluye que la **propiedad conmutativa** entre matrices no se cumple. Pero si se cumple en un vector. Como se ve en el siguiente ejercicio."
      ]
    },
    {
      "cell_type": "code",
      "metadata": {
        "id": "F1BbShOGH-7J",
        "colab_type": "code",
        "colab": {}
      },
      "source": [
        "v1 = np.array([[2],[7]])\n",
        "v2 = np.array([[3],[5]])"
      ],
      "execution_count": 35,
      "outputs": []
    },
    {
      "cell_type": "markdown",
      "metadata": {
        "id": "XQQxUD_tIKfW",
        "colab_type": "text"
      },
      "source": [
        "Debemos transponer para hacer comprobar la propiedad conmutativa con vectores, ya que las dimesiones deben ser iguales."
      ]
    },
    {
      "cell_type": "code",
      "metadata": {
        "id": "hWDfP4WHIFzk",
        "colab_type": "code",
        "colab": {}
      },
      "source": [
        "v1_tv2 = v1.T.dot(v2)\n",
        "v2_tv1 = v2.T.dot(v1)\n"
      ],
      "execution_count": 37,
      "outputs": []
    },
    {
      "cell_type": "code",
      "metadata": {
        "id": "6RYAXfISId-8",
        "colab_type": "code",
        "colab": {
          "base_uri": "https://localhost:8080/",
          "height": 34
        },
        "outputId": "197526d5-8e3b-4e19-a08b-7e64d1e983a0"
      },
      "source": [
        "print(v1_tv2)"
      ],
      "execution_count": 38,
      "outputs": [
        {
          "output_type": "stream",
          "text": [
            "[[41]]\n"
          ],
          "name": "stdout"
        }
      ]
    },
    {
      "cell_type": "code",
      "metadata": {
        "id": "uvcACnn0IhO9",
        "colab_type": "code",
        "colab": {
          "base_uri": "https://localhost:8080/",
          "height": 34
        },
        "outputId": "442e4bdf-5611-4107-c3d1-8d2b7fe135c9"
      },
      "source": [
        "print(v2_tv1)"
      ],
      "execution_count": 39,
      "outputs": [
        {
          "output_type": "stream",
          "text": [
            "[[41]]\n"
          ],
          "name": "stdout"
        }
      ]
    },
    {
      "cell_type": "markdown",
      "metadata": {
        "id": "KyTOUFKQMOcw",
        "colab_type": "text"
      },
      "source": [
        "## Transposición de un producto de matrices "
      ]
    },
    {
      "cell_type": "markdown",
      "metadata": {
        "id": "EeR7qLsCMUXW",
        "colab_type": "text"
      },
      "source": [
        "Propiedad: (A.dot(B)).T == B.T.dot(A.T)\n",
        "\n",
        "\n",
        "![alt text](https://i.imgur.com/2cDVJas.png)"
      ]
    },
    {
      "cell_type": "code",
      "metadata": {
        "id": "8klDdgA2NYWO",
        "colab_type": "code",
        "colab": {
          "base_uri": "https://localhost:8080/",
          "height": 139
        },
        "outputId": "e7feb6d7-e5c2-47a2-d04d-6005da4a8ea2"
      },
      "source": [
        "A = np.array([[2,3],[5,7],[11,13]])\n",
        "B = np.array([[1,3],[2,1]])\n",
        "print('A: \\n', A)\n",
        "print('B: \\n', B)"
      ],
      "execution_count": 40,
      "outputs": [
        {
          "output_type": "stream",
          "text": [
            "A: \n",
            " [[ 2  3]\n",
            " [ 5  7]\n",
            " [11 13]]\n",
            "B: \n",
            " [[1 3]\n",
            " [2 1]]\n"
          ],
          "name": "stdout"
        }
      ]
    },
    {
      "cell_type": "code",
      "metadata": {
        "id": "cNMPZpzmNhb8",
        "colab_type": "code",
        "colab": {
          "base_uri": "https://localhost:8080/",
          "height": 121
        },
        "outputId": "bb4ec267-f86d-4f57-9f2c-13026169bdfb"
      },
      "source": [
        "AB_t = A.dot(B).T\n",
        "B_tA_t = B.T.dot(A.T)\n",
        "print('AB_t: \\n', AB_t)\n",
        "print('B_tA_t: \\n', B_tA_t)"
      ],
      "execution_count": 42,
      "outputs": [
        {
          "output_type": "stream",
          "text": [
            "AB_t: \n",
            " [[ 8 19 37]\n",
            " [ 9 22 46]]\n",
            "B_tA_t: \n",
            " [[ 8 19 37]\n",
            " [ 9 22 46]]\n"
          ],
          "name": "stdout"
        }
      ]
    },
    {
      "cell_type": "code",
      "metadata": {
        "id": "fYDy3H_7Nw91",
        "colab_type": "code",
        "colab": {
          "base_uri": "https://localhost:8080/",
          "height": 52
        },
        "outputId": "675d3538-0813-4fbc-95ff-a014b76fc895"
      },
      "source": [
        "print(AB_t == B_tA_t)"
      ],
      "execution_count": 43,
      "outputs": [
        {
          "output_type": "stream",
          "text": [
            "[[ True  True  True]\n",
            " [ True  True  True]]\n"
          ],
          "name": "stdout"
        }
      ]
    }
  ]
}