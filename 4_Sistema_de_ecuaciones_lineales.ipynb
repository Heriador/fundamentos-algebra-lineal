{
  "nbformat": 4,
  "nbformat_minor": 0,
  "metadata": {
    "colab": {
      "name": "4. Sistema de ecuaciones lineales.ipynb",
      "provenance": [],
      "authorship_tag": "ABX9TyP5xVHWfc2AVAqCcFqxT5Jg",
      "include_colab_link": true
    },
    "kernelspec": {
      "name": "python3",
      "display_name": "Python 3"
    }
  },
  "cells": [
    {
      "cell_type": "markdown",
      "metadata": {
        "id": "view-in-github",
        "colab_type": "text"
      },
      "source": [
        "<a href=\"https://colab.research.google.com/github/francomanca93/fundamentos-algebra-lineal/blob/sistemas-ecuaciones/4_Sistema_de_ecuaciones_lineales.ipynb\" target=\"_parent\"><img src=\"https://colab.research.google.com/assets/colab-badge.svg\" alt=\"Open In Colab\"/></a>"
      ]
    },
    {
      "cell_type": "markdown",
      "metadata": {
        "id": "kz3sZIwz0nQ7",
        "colab_type": "text"
      },
      "source": [
        "# Sistema de ecuaciones lineales"
      ]
    },
    {
      "cell_type": "markdown",
      "metadata": {
        "id": "FTx4kzzi0tV8",
        "colab_type": "text"
      },
      "source": [
        "## Ejemplos de sistemas sin solución, con una solución y con infinitas soluciones"
      ]
    },
    {
      "cell_type": "markdown",
      "metadata": {
        "id": "LK17EPPR1B04",
        "colab_type": "text"
      },
      "source": [
        "* Más ecuaciones que variables: Sistema sobre determinado.\n",
        "* Misma cantidad de ecuaciones y varibales: Sistema determinado.\n",
        "* Más variables que ecuaciones: Sistema indeterminado, infinitas soluciones."
      ]
    },
    {
      "cell_type": "code",
      "metadata": {
        "id": "AK0NZ0jP1aU9",
        "colab_type": "code",
        "colab": {}
      },
      "source": [
        "%matplotlib inline\n",
        "# %matplotlib notebook  \n",
        "# > No funciona en google colab los plots interactivos de matplotlib, en jupyter si.\n",
        "\n",
        "import numpy as np\n",
        "import matplotlib.pyplot as plt"
      ],
      "execution_count": 19,
      "outputs": []
    },
    {
      "cell_type": "markdown",
      "metadata": {
        "id": "p37_1EsjRJTP",
        "colab_type": "text"
      },
      "source": [
        "### Sistema sobre determinado"
      ]
    },
    {
      "cell_type": "code",
      "metadata": {
        "id": "GZxdD-Hf3QWI",
        "colab_type": "code",
        "colab": {}
      },
      "source": [
        "#Rangos en los que trabaja x\n",
        "x = np.arange(-6, 6)\n",
        "\n",
        "y_1 = 3*x + 5\n",
        "y_2 = -x + 3\n",
        "y_3 = 2*x + 1"
      ],
      "execution_count": 20,
      "outputs": []
    },
    {
      "cell_type": "code",
      "metadata": {
        "id": "Zi0E1x_p3jbE",
        "colab_type": "code",
        "colab": {
          "base_uri": "https://localhost:8080/",
          "height": 269
        },
        "outputId": "a29a3bd6-b90e-43e0-a956-4fe7ccf5d808"
      },
      "source": [
        "plt.figure()\n",
        "\n",
        "#Plot\n",
        "plt.plot(x, y_1)\n",
        "plt.plot(x, y_2)\n",
        "plt.plot(x, y_3)\n",
        "\n",
        "#Limites\n",
        "plt.xlim(-8, 8)\n",
        "plt.ylim(-8, 8)\n",
        "\n",
        "#Ejes\n",
        "plt.axvline(x = 0, color=\"grey\")\n",
        "plt.axhline(y = 0, color=\"grey\")\n",
        "plt.show()"
      ],
      "execution_count": 21,
      "outputs": [
        {
          "output_type": "display_data",
          "data": {
            "image/png": "[encoded data removed]",
            "text/plain": [
              "<Figure size 432x288 with 1 Axes>"
            ]
          },
          "metadata": {
            "tags": [],
            "needs_background": "light"
          }
        }
      ]
    },
    {
      "cell_type": "markdown",
      "metadata": {
        "id": "-StL4lM28HpQ",
        "colab_type": "text"
      },
      "source": [
        "El ejemplo anterior es un sistema sobre determinado, ya que no existe una solución que satisfaga el sistema de ecuaciones. Esto quiere decir que no hay un punto en común entre las 3 lineas.  \n"
      ]
    },
    {
      "cell_type": "markdown",
      "metadata": {
        "id": "1zpNJuVHROl4",
        "colab_type": "text"
      },
      "source": [
        "### Sistema determinado"
      ]
    },
    {
      "cell_type": "code",
      "metadata": {
        "id": "r8dPnGBn8luK",
        "colab_type": "code",
        "colab": {
          "base_uri": "https://localhost:8080/",
          "height": 269
        },
        "outputId": "b53bf7e1-4646-48cd-91ac-95d46352a292"
      },
      "source": [
        "#Rangos en los que trabaja x\n",
        "x = np.arange(-6, 6)\n",
        "\n",
        "y_2 = -x + 3\n",
        "y_3 = 2*x + 1\n",
        "\n",
        "plt.figure()\n",
        "\n",
        "#Plot\n",
        "plt.plot(x, y_2)\n",
        "plt.plot(x, y_3)\n",
        "\n",
        "#Limites\n",
        "plt.xlim(-8, 8)\n",
        "plt.ylim(-8, 8)\n",
        "\n",
        "#Ejes\n",
        "plt.axvline(x = 0, color=\"grey\")\n",
        "plt.axhline(y = 0, color=\"grey\")\n",
        "plt.show()"
      ],
      "execution_count": 22,
      "outputs": [
        {
          "output_type": "display_data",
          "data": {
            "image/png": "[encoded data removed]",
            "text/plain": [
              "<Figure size 432x288 with 1 Axes>"
            ]
          },
          "metadata": {
            "tags": [],
            "needs_background": "light"
          }
        }
      ]
    },
    {
      "cell_type": "markdown",
      "metadata": {
        "id": "gtWWtlEX9IMu",
        "colab_type": "text"
      },
      "source": [
        "El ejemplo anterior es un sistema determinado, ya que existe una solución que satisfaga el sistema de ecuaciones. Esto quiere decir que hay un punto en común entre las 2 lineas. "
      ]
    },
    {
      "cell_type": "markdown",
      "metadata": {
        "id": "p7MrDQ3oRSCC",
        "colab_type": "text"
      },
      "source": [
        "### Sistema indeterminado"
      ]
    },
    {
      "cell_type": "code",
      "metadata": {
        "id": "zMrKftWB8y0Z",
        "colab_type": "code",
        "colab": {
          "base_uri": "https://localhost:8080/",
          "height": 269
        },
        "outputId": "b872ad4c-ec90-4445-e175-514954407c25"
      },
      "source": [
        "#Rangos en los que trabaja x\n",
        "x = np.arange(-6, 6)\n",
        "\n",
        "y_3 = 2*x + 1\n",
        "\n",
        "plt.figure()\n",
        "\n",
        "#Plot\n",
        "plt.plot(x, y_3)\n",
        "\n",
        "#Limites\n",
        "plt.xlim(-8, 8)\n",
        "plt.ylim(-8, 8)\n",
        "\n",
        "#Ejes\n",
        "plt.axvline(x = 0, color=\"grey\")\n",
        "plt.axhline(y = 0, color=\"grey\")\n",
        "plt.show()"
      ],
      "execution_count": 23,
      "outputs": [
        {
          "output_type": "display_data",
          "data": {
            "image/png": "[encoded data removed]",
            "text/plain": [
              "<Figure size 432x288 with 1 Axes>"
            ]
          },
          "metadata": {
            "tags": [],
            "needs_background": "light"
          }
        }
      ]
    },
    {
      "cell_type": "markdown",
      "metadata": {
        "id": "i_9E1n0SRdg1",
        "colab_type": "text"
      },
      "source": [
        "El ejemplo anterior es un sistema indeterminado, ya que no existe una solución que satisfaga el sistema de ecuaciones, si no que infinitas. \n",
        "\n",
        "Esto ocurre cuando hay más variables que ecuaciones"
      ]
    },
    {
      "cell_type": "markdown",
      "metadata": {
        "id": "pyv4nupGSTIL",
        "colab_type": "text"
      },
      "source": [
        "## Graficar vectores"
      ]
    },
    {
      "cell_type": "code",
      "metadata": {
        "id": "ExEE6UUcSlCF",
        "colab_type": "code",
        "colab": {}
      },
      "source": [
        "%matplotlib inline\n",
        "import numpy as np\n",
        "import matplotlib.pyplot as plt"
      ],
      "execution_count": 24,
      "outputs": []
    },
    {
      "cell_type": "code",
      "metadata": {
        "id": "2XWUCmeEStLr",
        "colab_type": "code",
        "colab": {}
      },
      "source": [
        "v1 = np.array([2, 5])\n",
        "v2 = np.array([3, 2])"
      ],
      "execution_count": 25,
      "outputs": []
    },
    {
      "cell_type": "markdown",
      "metadata": {
        "id": "NkgUZDHsa8Zw",
        "colab_type": "text"
      },
      "source": [
        ""
      ]
    },
    {
      "cell_type": "code",
      "metadata": {
        "id": "jMT9Chm4S02l",
        "colab_type": "code",
        "colab": {
          "base_uri": "https://localhost:8080/",
          "height": 34
        },
        "outputId": "3c5984b7-3223-48bb-f929-acf55cdefda5"
      },
      "source": [
        "# Como traer una funcion de un notebook a este en jupyter Notebook \n",
        "# %run = \"..\\\\carpeta_donde_este_el_archivo_o_no\\funcion_auxiliar.ipynb\"\n",
        "\n",
        "# Como traer una funcion de un notebook a este en Google Colab\n",
        "from google.colab import drive\n",
        "drive.mount('/content/drive') \n"
      ],
      "execution_count": 26,
      "outputs": [
        {
          "output_type": "stream",
          "text": [
            "Drive already mounted at /content/drive; to attempt to forcibly remount, call drive.mount(\"/content/drive\", force_remount=True).\n"
          ],
          "name": "stdout"
        }
      ]
    },
    {
      "cell_type": "code",
      "metadata": {
        "id": "THQCxItxXZlm",
        "colab_type": "code",
        "colab": {
          "base_uri": "https://localhost:8080/",
          "height": 121
        },
        "outputId": "3b712d64-d39d-4103-e89a-788e11b4addd"
      },
      "source": [
        "# Nos movemos a la ruta del notebook a cargar y verificamos\n",
        "%cd '/content/drive/My Drive/Colab Notebooks/fundamentos_algebra_lineal/'\n",
        "!ls"
      ],
      "execution_count": 27,
      "outputs": [
        {
          "output_type": "stream",
          "text": [
            "/content/drive/My Drive/Colab Notebooks/fundamentos_algebra_lineal\n",
            "'1.Conceptos básicos y configuración.ipynb'\n",
            "'2. Operaciones básicas.ipynb'\n",
            "'3.Operaciones con Matrices.ipynb'\n",
            "'4. Sistema de ecuaciones lineales.ipynb'\n",
            " funciones_auxiliares\n"
          ],
          "name": "stdout"
        }
      ]
    },
    {
      "cell_type": "code",
      "metadata": {
        "id": "il1h3f_AaOZy",
        "colab_type": "code",
        "colab": {}
      },
      "source": [
        "# Corremos el notebook \n",
        "%run './funciones_auxiliares/graficar_vectores.ipynb'"
      ],
      "execution_count": 28,
      "outputs": []
    },
    {
      "cell_type": "code",
      "metadata": {
        "id": "qt0GyFSnT4Xw",
        "colab_type": "code",
        "colab": {
          "base_uri": "https://localhost:8080/",
          "height": 286
        },
        "outputId": "941e5d9c-dbca-4e42-d381-14b67f84c1b9"
      },
      "source": [
        "graficar_vectores([v1, v2], ['orange', 'blue'])\n",
        "plt.xlim(-1, 8)\n",
        "plt.ylim(-1, 8)"
      ],
      "execution_count": 29,
      "outputs": [
        {
          "output_type": "execute_result",
          "data": {
            "text/plain": [
              "(-1.0, 8.0)"
            ]
          },
          "metadata": {
            "tags": []
          },
          "execution_count": 29
        },
        {
          "output_type": "display_data",
          "data": {
            "image/png": "[encoded data removed]",
            "text/plain": [
              "<Figure size 432x288 with 1 Axes>"
            ]
          },
          "metadata": {
            "tags": [],
            "needs_background": "light"
          }
        }
      ]
    },
    {
      "cell_type": "markdown",
      "metadata": {
        "id": "5dwEBzVV_P_J",
        "colab_type": "text"
      },
      "source": [
        "## ¿Qué es una combinación líneal?"
      ]
    },
    {
      "cell_type": "markdown",
      "metadata": {
        "id": "Z8sih_vW_eyP",
        "colab_type": "text"
      },
      "source": [
        "Una combinación lineal es tomar un vector V1, multiplicarlo por un escalar, Tomar un segundo vector V2, multiplicarlo por otro escalar, al final sumar el resultado de las dos multiplicaciones. Este resultado es llamado combinación lineal."
      ]
    },
    {
      "cell_type": "code",
      "metadata": {
        "id": "NrsUC6Pz_gkh",
        "colab_type": "code",
        "colab": {}
      },
      "source": [
        "%matplotlib inline\n",
        "import numpy as np\n",
        "import matplotlib.pyplot as plt\n"
      ],
      "execution_count": 30,
      "outputs": []
    },
    {
      "cell_type": "code",
      "metadata": {
        "id": "1yneEEu__m-9",
        "colab_type": "code",
        "colab": {}
      },
      "source": [
        "%run './funciones_auxiliares/graficar_vectores.ipynb'"
      ],
      "execution_count": 31,
      "outputs": []
    },
    {
      "cell_type": "code",
      "metadata": {
        "id": "Wr8fgIgH_ut4",
        "colab_type": "code",
        "colab": {}
      },
      "source": [
        "v1 = np.array([2, 5])\n",
        "v2 = np.array([3, 2])"
      ],
      "execution_count": 32,
      "outputs": []
    },
    {
      "cell_type": "code",
      "metadata": {
        "id": "AC2-a-2mZEN2",
        "colab_type": "code",
        "colab": {
          "base_uri": "https://localhost:8080/",
          "height": 34
        },
        "outputId": "704a5ede-8277-4076-c9ac-1e1fb8505efd"
      },
      "source": [
        "v1v2 = v1 + v2\n",
        "print(v1v2)"
      ],
      "execution_count": 33,
      "outputs": [
        {
          "output_type": "stream",
          "text": [
            "[5 7]\n"
          ],
          "name": "stdout"
        }
      ]
    },
    {
      "cell_type": "code",
      "metadata": {
        "id": "Xsyv8kMoZJ9a",
        "colab_type": "code",
        "colab": {
          "base_uri": "https://localhost:8080/",
          "height": 286
        },
        "outputId": "190cc7e9-84a1-4359-8877-7d9827a6815d"
      },
      "source": [
        "graficar_vectores([v1, v2, v1v2], ['orange', 'blue', 'red'])\n",
        "plt.xlim(-1, 8)\n",
        "plt.ylim(-1, 12)"
      ],
      "execution_count": 34,
      "outputs": [
        {
          "output_type": "execute_result",
          "data": {
            "text/plain": [
              "(-1.0, 12.0)"
            ]
          },
          "metadata": {
            "tags": []
          },
          "execution_count": 34
        },
        {
          "output_type": "display_data",
          "data": {
            "image/png": "[encoded data removed]",
            "text/plain": [
              "<Figure size 432x288 with 1 Axes>"
            ]
          },
          "metadata": {
            "tags": [],
            "needs_background": "light"
          }
        }
      ]
    },
    {
      "cell_type": "markdown",
      "metadata": {
        "id": "e3h1SYe0fh_s",
        "colab_type": "text"
      },
      "source": [
        "Definamos una funciones para graficar todas las posibles combinaciones lineales o al menos un subjunto de ellas que nos permitirá tener una mejor noción de la importancia de estas. \n",
        "\n",
        "Se definirán todos los lugares por donde queremos que varien los vectores."
      ]
    },
    {
      "cell_type": "code",
      "metadata": {
        "id": "sP_GxSTaZvIq",
        "colab_type": "code",
        "colab": {
          "base_uri": "https://localhost:8080/",
          "height": 286
        },
        "outputId": "85b88fda-18a2-45d1-eece-559a97996178"
      },
      "source": [
        "for a in range(-10, 10):\n",
        "  for b in range(-10, 10):\n",
        "    plt.scatter(v1[0]*a + v2[0]*b, v1[1]*a + v2[1]*b,\n",
        "                marker = '.',\n",
        "                color = 'orange')\n",
        "\n",
        "plt.xlim(-100, 100)\n",
        "plt.ylim(-100, 100)\n",
        "\n",
        "plt.axvline(x=0, color='grey')\n",
        "plt.axhline(y=0, color='grey')\n",
        "\n",
        "plt.show"
      ],
      "execution_count": 35,
      "outputs": [
        {
          "output_type": "execute_result",
          "data": {
            "text/plain": [
              "<function matplotlib.pyplot.show>"
            ]
          },
          "metadata": {
            "tags": []
          },
          "execution_count": 35
        },
        {
          "output_type": "display_data",
          "data": {
            "image/png": "[encoded data removed]",
            "text/plain": [
              "<Figure size 432x288 with 1 Axes>"
            ]
          },
          "metadata": {
            "tags": [],
            "needs_background": "light"
          }
        }
      ]
    },
    {
      "cell_type": "markdown",
      "metadata": {
        "id": "kclexiBOgbkD",
        "colab_type": "text"
      },
      "source": [
        "Lo que estamos viendo son unas posibles conbinaciones lineales de dos vectores. Si continuaramos ampliando el rango en el cual se mueven los escalares a y b, podriamos describir todo el espacio R2, o sea el plano cartesiano. \n",
        "\n",
        "Con los correctos valores escalares a y b podriamos dibujar figuras enteras en el plano. "
      ]
    },
    {
      "cell_type": "markdown",
      "metadata": {
        "id": "BpZwccEVh-3v",
        "colab_type": "text"
      },
      "source": [
        "## ¿Qué es un espacio y un subespacio?"
      ]
    },
    {
      "cell_type": "markdown",
      "metadata": {
        "id": "8nlm-R4vi11T",
        "colab_type": "text"
      },
      "source": [
        "Espacio euclidiano o Espacio vectorial es el conjunto de n-adas ordenadas, tambien conocido por espacio n-dimencional y de denota por Rn este es una sucesión de n números reales ejemplo (a1,a2,…,an) donde los vectores Rn se clasifican así:\n",
        "\n",
        "* **R1** = espacio **unidimensional**, línea recta real.\n",
        "* **R2** = espacio **bidimensional**, pares ordenados.\n",
        "* **R3** = espacio **tridimensional**, terna ordenadas.\n",
        "\n",
        "* **Hiperplano o subespacio**: una dimension menos el espacio donde estamos trabajando. **Si trabajamos en R3 un hiperplano es R2, si trabajamos en R2 un hiperplano es la recta.**"
      ]
    },
    {
      "cell_type": "code",
      "metadata": {
        "id": "VqA8TSsdig2a",
        "colab_type": "code",
        "colab": {}
      },
      "source": [
        "%matplotlib inline\n",
        "# %matplotlib notebook # En google colab no se puede usar\n",
        "import numpy as np\n",
        "import matplotlib.pyplot as plt"
      ],
      "execution_count": 36,
      "outputs": []
    },
    {
      "cell_type": "code",
      "metadata": {
        "id": "aBoT8mQ0irWD",
        "colab_type": "code",
        "colab": {
          "base_uri": "https://localhost:8080/",
          "height": 282
        },
        "outputId": "9b160bce-4398-417f-d2ad-ee828360de10"
      },
      "source": [
        "v1 = np.array([1, 1])\n",
        "v2 = np.array([-1, -1])\n",
        "\n",
        "for a in range(-10, 10):\n",
        "  for b in range(-10, 10):\n",
        "   plt.scatter(v1[0]*a + v2[0]*b, v1[1]*a + v2[1]*b,\n",
        "                marker = '.',\n",
        "                color = 'orange')\n",
        "\n",
        "plt.xlim(-25, 25)\n",
        "plt.ylim(-25, 25)\n",
        "\n",
        "plt.axvline(x=0, color='grey')\n",
        "plt.axhline(y=0, color='grey')\n",
        "\n",
        "plt.show"
      ],
      "execution_count": 40,
      "outputs": [
        {
          "output_type": "execute_result",
          "data": {
            "text/plain": [
              "<function matplotlib.pyplot.show>"
            ]
          },
          "metadata": {
            "tags": []
          },
          "execution_count": 40
        },
        {
          "output_type": "display_data",
          "data": {
            "image/png": "[encoded data removed]",
            "text/plain": [
              "<Figure size 432x288 with 1 Axes>"
            ]
          },
          "metadata": {
            "tags": [],
            "needs_background": "light"
          }
        }
      ]
    },
    {
      "cell_type": "markdown",
      "metadata": {
        "id": "NEWg_8ofkT4a",
        "colab_type": "text"
      },
      "source": [
        "Dimos 2 vectores que son [1, 1] y por otro lado le dimos el vector [-1, -1]. Luego cuando hicimos las conbinaciones lineales obtuvimos una recta, por mas que hayamos entregado elementos de R2.\n",
        "\n",
        "Dimos elementos en R2, y lo que conseguimos es un subespacio, una parte de R2. Por lo tanto ser un espacio o un subespacio depende de donde nos estemos parando y como lo estemos viendo.\n",
        "\n",
        "¿Que ocurres cuando damos otros elementos?, otro v1 y otro v2.\n",
        "\n"
      ]
    },
    {
      "cell_type": "code",
      "metadata": {
        "id": "okm2A9gqj9wB",
        "colab_type": "code",
        "colab": {
          "base_uri": "https://localhost:8080/",
          "height": 282
        },
        "outputId": "50864129-a18a-42e7-8f67-391950dbdb36"
      },
      "source": [
        "v1 = np.array([1, 0])\n",
        "v2 = np.array([-2, 3])\n",
        "\n",
        "for a in range(-10, 10):\n",
        "  for b in range(-10, 10):\n",
        "   plt.scatter(v1[0]*a + v2[0]*b, v1[1]*a + v2[1]*b,\n",
        "                marker = '.',\n",
        "                color = 'orange')\n",
        "\n",
        "plt.xlim(-25, 25)\n",
        "plt.ylim(-25, 25)\n",
        "\n",
        "plt.axvline(x=0, color='grey')\n",
        "plt.axhline(y=0, color='grey')\n",
        "\n",
        "plt.show"
      ],
      "execution_count": 50,
      "outputs": [
        {
          "output_type": "execute_result",
          "data": {
            "text/plain": [
              "<function matplotlib.pyplot.show>"
            ]
          },
          "metadata": {
            "tags": []
          },
          "execution_count": 50
        },
        {
          "output_type": "display_data",
          "data": {
            "image/png": "[encoded data removed]",
            "text/plain": [
              "<Figure size 432x288 with 1 Axes>"
            ]
          },
          "metadata": {
            "tags": [],
            "needs_background": "light"
          }
        }
      ]
    },
    {
      "cell_type": "markdown",
      "metadata": {
        "id": "-pVERSz-kh68",
        "colab_type": "text"
      },
      "source": [
        "Nos esta dando R2. Es posible con estos vectores generar todo el espacio, ya que las combinaciones lineales de ambos me lo permite. \n",
        "\n",
        "¿Como? \n",
        "* Para el vector [1,1] al multiplicarlos por escalares obtendré vectores como [-n,-n], [-3,-3], [-2,-2], [2,2], [3,3], [n,n]. Esto me dará una recta. \n",
        "* Para el vector [-2, 3] al multiplicarlos por escalares obtendré vectores como [-m,-n], [m,-n], [m, n], [-m,n]. Esto es porque ambas coordenadas son distintas.\n",
        "\n",
        "\n",
        "En el caso anterior los vectores no me lo permitian. "
      ]
    },
    {
      "cell_type": "markdown",
      "metadata": {
        "id": "lBdjg49onLiH",
        "colab_type": "text"
      },
      "source": [
        "Ahora vamos a demostrar como R2 en reaildad es un subespacio de R3, como demostramos que R1 era un subespacio de R2."
      ]
    },
    {
      "cell_type": "code",
      "metadata": {
        "id": "gM5NNS5RkSGI",
        "colab_type": "code",
        "colab": {
          "base_uri": "https://localhost:8080/",
          "height": 265
        },
        "outputId": "d6d5689d-514f-4c44-ebfa-c7ce93a299ee"
      },
      "source": [
        "from mpl_toolkits.mplot3d import Axes3D\n",
        "\n",
        "v1 = np.array([1, 0, 0])\n",
        "v2 = np.array([2, -3, 0])\n",
        "\n",
        "fig = plt.figure()\n",
        "ax = fig.add_subplot(111, projection='3d')\n",
        "\n",
        "for a in range(-10, 10):\n",
        "  for b in range(-10, 10):\n",
        "   ax.scatter(v1[0]*a + v2[0]*b, \n",
        "              v1[1]*a + v2[1]*b,\n",
        "              v1[2]*a + v2[2]*b,\n",
        "              marker = '.',\n",
        "              color = 'orange')\n",
        "\n",
        "ax.set_xlabel('Eje X')\n",
        "ax.set_ylabel('Eje Y')\n",
        "ax.set_zlabel('Eje Z')\n",
        "\n",
        "plt.xlim(-25, 25)\n",
        "plt.ylim(-25, 25)\n",
        "\n",
        "plt.axvline(x=0, color='grey')\n",
        "plt.axhline(y=0, color='grey')\n",
        "\n",
        "plt.show"
      ],
      "execution_count": 55,
      "outputs": [
        {
          "output_type": "execute_result",
          "data": {
            "text/plain": [
              "<function matplotlib.pyplot.show>"
            ]
          },
          "metadata": {
            "tags": []
          },
          "execution_count": 55
        },
        {
          "output_type": "display_data",
          "data": {
            "image/png": "[encoded data removed]",
            "text/plain": [
              "<Figure size 432x288 with 1 Axes>"
            ]
          },
          "metadata": {
            "tags": [],
            "needs_background": "light"
          }
        }
      ]
    },
    {
      "cell_type": "markdown",
      "metadata": {
        "id": "VqPC8-qlooKC",
        "colab_type": "text"
      },
      "source": [
        "Lo que acabamos de demostrar y observar son **hiperplanos o subespacios**. Estos son elementos de una dimension menos en el espacio donde estamos trabajando. **Si trabajamos en R3 un hiperplano es R2, si trabajamos en R2 un hiperplano es la recta.** "
      ]
    }
  ]
}