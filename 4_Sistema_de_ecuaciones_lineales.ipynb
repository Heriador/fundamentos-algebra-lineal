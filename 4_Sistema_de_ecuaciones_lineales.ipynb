{
  "nbformat": 4,
  "nbformat_minor": 0,
  "metadata": {
    "colab": {
      "name": "4. Sistema de ecuaciones lineales.ipynb",
      "provenance": [],
      "authorship_tag": "ABX9TyPq7o2Imyed07aaIthitkLX",
      "include_colab_link": true
    },
    "kernelspec": {
      "name": "python3",
      "display_name": "Python 3"
    }
  },
  "cells": [
    {
      "cell_type": "markdown",
      "metadata": {
        "id": "view-in-github",
        "colab_type": "text"
      },
      "source": [
        "<a href=\"https://colab.research.google.com/github/francomanca93/fundamentos-algebra-lineal/blob/sistemas-ecuaciones/4_Sistema_de_ecuaciones_lineales.ipynb\" target=\"_parent\"><img src=\"https://colab.research.google.com/assets/colab-badge.svg\" alt=\"Open In Colab\"/></a>"
      ]
    },
    {
      "cell_type": "markdown",
      "metadata": {
        "id": "kz3sZIwz0nQ7",
        "colab_type": "text"
      },
      "source": [
        "# Sistema de ecuaciones lineales"
      ]
    },
    {
      "cell_type": "markdown",
      "metadata": {
        "id": "FTx4kzzi0tV8",
        "colab_type": "text"
      },
      "source": [
        "## Ejemplos de sistemas sin solución, con una solución y con infinitas soluciones"
      ]
    },
    {
      "cell_type": "markdown",
      "metadata": {
        "id": "LK17EPPR1B04",
        "colab_type": "text"
      },
      "source": [
        "* Más ecuaciones que variables: Sistema sobre determinado.\n",
        "* Misma cantidad de ecuaciones y varibales: Sistema determinado.\n",
        "* Más variables que ecuaciones: Sistema indeterminado, infinitas soluciones."
      ]
    },
    {
      "cell_type": "code",
      "metadata": {
        "id": "AK0NZ0jP1aU9",
        "colab_type": "code",
        "colab": {}
      },
      "source": [
        "%matplotlib inline\n",
        "# %matplotlib notebook  \n",
        "# > No funciona en google colab los plots interactivos de matplotlib, en jupyter si.\n",
        "\n",
        "import numpy as np\n",
        "import matplotlib.pyplot as plt"
      ],
      "execution_count": 1,
      "outputs": []
    },
    {
      "cell_type": "markdown",
      "metadata": {
        "id": "p37_1EsjRJTP",
        "colab_type": "text"
      },
      "source": [
        "### Sistema sobre determinado"
      ]
    },
    {
      "cell_type": "code",
      "metadata": {
        "id": "GZxdD-Hf3QWI",
        "colab_type": "code",
        "colab": {}
      },
      "source": [
        "#Rangos en los que trabaja x\n",
        "x = np.arange(-6, 6)\n",
        "\n",
        "y_1 = 3*x + 5\n",
        "y_2 = -x + 3\n",
        "y_3 = 2*x + 1"
      ],
      "execution_count": 2,
      "outputs": []
    },
    {
      "cell_type": "code",
      "metadata": {
        "id": "Zi0E1x_p3jbE",
        "colab_type": "code",
        "colab": {
          "base_uri": "https://localhost:8080/",
          "height": 269
        },
        "outputId": "2b3907a2-88da-4d39-ef08-4a5255f0a1f6"
      },
      "source": [
        "plt.figure()\n",
        "\n",
        "#Plot\n",
        "plt.plot(x, y_1)\n",
        "plt.plot(x, y_2)\n",
        "plt.plot(x, y_3)\n",
        "\n",
        "#Limites\n",
        "plt.xlim(-8, 8)\n",
        "plt.ylim(-8, 8)\n",
        "\n",
        "#Ejes\n",
        "plt.axvline(x = 0, color=\"grey\")\n",
        "plt.axhline(y = 0, color=\"grey\")\n",
        "plt.show()"
      ],
      "execution_count": 3,
      "outputs": [
        {
          "output_type": "display_data",
          "data": {
            "image/png": "[encoded data removed]",
            "text/plain": [
              "<Figure size 432x288 with 1 Axes>"
            ]
          },
          "metadata": {
            "tags": [],
            "needs_background": "light"
          }
        }
      ]
    },
    {
      "cell_type": "markdown",
      "metadata": {
        "id": "-StL4lM28HpQ",
        "colab_type": "text"
      },
      "source": [
        "El ejemplo anterior es un sistema sobre determinado, ya que no existe una solución que satisfaga el sistema de ecuaciones. Esto quiere decir que no hay un punto en común entre las 3 lineas.  \n"
      ]
    },
    {
      "cell_type": "markdown",
      "metadata": {
        "id": "1zpNJuVHROl4",
        "colab_type": "text"
      },
      "source": [
        "### Sistema determinado"
      ]
    },
    {
      "cell_type": "code",
      "metadata": {
        "id": "r8dPnGBn8luK",
        "colab_type": "code",
        "colab": {
          "base_uri": "https://localhost:8080/",
          "height": 269
        },
        "outputId": "21e9488a-bd2a-4ad5-930f-cd6749789f41"
      },
      "source": [
        "#Rangos en los que trabaja x\n",
        "x = np.arange(-6, 6)\n",
        "\n",
        "y_2 = -x + 3\n",
        "y_3 = 2*x + 1\n",
        "\n",
        "plt.figure()\n",
        "\n",
        "#Plot\n",
        "plt.plot(x, y_2)\n",
        "plt.plot(x, y_3)\n",
        "\n",
        "#Limites\n",
        "plt.xlim(-8, 8)\n",
        "plt.ylim(-8, 8)\n",
        "\n",
        "#Ejes\n",
        "plt.axvline(x = 0, color=\"grey\")\n",
        "plt.axhline(y = 0, color=\"grey\")\n",
        "plt.show()"
      ],
      "execution_count": 4,
      "outputs": [
        {
          "output_type": "display_data",
          "data": {
            "image/png": "[encoded data removed]",
            "text/plain": [
              "<Figure size 432x288 with 1 Axes>"
            ]
          },
          "metadata": {
            "tags": [],
            "needs_background": "light"
          }
        }
      ]
    },
    {
      "cell_type": "markdown",
      "metadata": {
        "id": "gtWWtlEX9IMu",
        "colab_type": "text"
      },
      "source": [
        "El ejemplo anterior es un sistema determinado, ya que existe una solución que satisfaga el sistema de ecuaciones. Esto quiere decir que hay un punto en común entre las 2 lineas. "
      ]
    },
    {
      "cell_type": "markdown",
      "metadata": {
        "id": "p7MrDQ3oRSCC",
        "colab_type": "text"
      },
      "source": [
        "### Sistema indeterminado"
      ]
    },
    {
      "cell_type": "code",
      "metadata": {
        "id": "zMrKftWB8y0Z",
        "colab_type": "code",
        "colab": {
          "base_uri": "https://localhost:8080/",
          "height": 269
        },
        "outputId": "83622373-79a1-4842-d4e4-bd123c72fbef"
      },
      "source": [
        "#Rangos en los que trabaja x\n",
        "x = np.arange(-6, 6)\n",
        "\n",
        "y_3 = 2*x + 1\n",
        "\n",
        "plt.figure()\n",
        "\n",
        "#Plot\n",
        "plt.plot(x, y_3)\n",
        "\n",
        "#Limites\n",
        "plt.xlim(-8, 8)\n",
        "plt.ylim(-8, 8)\n",
        "\n",
        "#Ejes\n",
        "plt.axvline(x = 0, color=\"grey\")\n",
        "plt.axhline(y = 0, color=\"grey\")\n",
        "plt.show()"
      ],
      "execution_count": 5,
      "outputs": [
        {
          "output_type": "display_data",
          "data": {
            "image/png": "[encoded data removed]",
            "text/plain": [
              "<Figure size 432x288 with 1 Axes>"
            ]
          },
          "metadata": {
            "tags": [],
            "needs_background": "light"
          }
        }
      ]
    },
    {
      "cell_type": "markdown",
      "metadata": {
        "id": "i_9E1n0SRdg1",
        "colab_type": "text"
      },
      "source": [
        "El ejemplo anterior es un sistema indeterminado, ya que no existe una solución que satisfaga el sistema de ecuaciones, si no que infinitas. \n",
        "\n",
        "Esto ocurre cuando hay más variables que ecuaciones"
      ]
    },
    {
      "cell_type": "markdown",
      "metadata": {
        "id": "pyv4nupGSTIL",
        "colab_type": "text"
      },
      "source": [
        "## Graficar vectores"
      ]
    },
    {
      "cell_type": "code",
      "metadata": {
        "id": "ExEE6UUcSlCF",
        "colab_type": "code",
        "colab": {}
      },
      "source": [
        "%matplotlib inline\n",
        "import numpy as np\n",
        "import matplotlib.pyplot as plt"
      ],
      "execution_count": 6,
      "outputs": []
    },
    {
      "cell_type": "code",
      "metadata": {
        "id": "2XWUCmeEStLr",
        "colab_type": "code",
        "colab": {}
      },
      "source": [
        "v1 = np.array([2, 5])\n",
        "v2 = np.array([3, 2])"
      ],
      "execution_count": 7,
      "outputs": []
    },
    {
      "cell_type": "markdown",
      "metadata": {
        "id": "NkgUZDHsa8Zw",
        "colab_type": "text"
      },
      "source": [
        ""
      ]
    },
    {
      "cell_type": "code",
      "metadata": {
        "id": "jMT9Chm4S02l",
        "colab_type": "code",
        "colab": {
          "base_uri": "https://localhost:8080/",
          "height": 124
        },
        "outputId": "5f343e29-997a-4426-8096-9c4790226324"
      },
      "source": [
        "# Como traer una funcion de un notebook a este en jupyter Notebook \n",
        "# %run = \"..\\\\carpeta_donde_este_el_archivo_o_no\\funcion_auxiliar.ipynb\"\n",
        "\n",
        "# Como traer una funcion de un notebook a este en Google Colab\n",
        "from google.colab import drive\n",
        "drive.mount('/content/drive') \n"
      ],
      "execution_count": 8,
      "outputs": [
        {
          "output_type": "stream",
          "text": [
            "Go to this URL in a browser: https://accounts.google.com/o/oauth2/auth?client_id=947318989803-6bn6qk8qdgf4n4g3pfee6491hc0brc4i.apps.googleusercontent.com&redirect_uri=urn%3aietf%3awg%3aoauth%3a2.0%3aoob&response_type=code&scope=email%20https%3a%2f%2fwww.googleapis.com%2fauth%2fdocs.test%20https%3a%2f%2fwww.googleapis.com%2fauth%2fdrive%20https%3a%2f%2fwww.googleapis.com%2fauth%2fdrive.photos.readonly%20https%3a%2f%2fwww.googleapis.com%2fauth%2fpeopleapi.readonly\n",
            "\n",
            "Enter your authorization code:\n",
            "··········\n",
            "Mounted at /content/drive\n"
          ],
          "name": "stdout"
        }
      ]
    },
    {
      "cell_type": "code",
      "metadata": {
        "id": "THQCxItxXZlm",
        "colab_type": "code",
        "colab": {
          "base_uri": "https://localhost:8080/",
          "height": 121
        },
        "outputId": "0f55e11e-11b9-4df8-e70c-fb791db6a6cc"
      },
      "source": [
        "# Nos movemos a la ruta del notebook a cargar y verificamos\n",
        "%cd '/content/drive/My Drive/Colab Notebooks/fundamentos_algebra_lineal/'\n",
        "!ls"
      ],
      "execution_count": 9,
      "outputs": [
        {
          "output_type": "stream",
          "text": [
            "/content/drive/My Drive/Colab Notebooks/fundamentos_algebra_lineal\n",
            "'1.Conceptos básicos y configuración.ipynb'\n",
            "'2. Operaciones básicas.ipynb'\n",
            "'3.Operaciones con Matrices.ipynb'\n",
            "'4. Sistema de ecuaciones lineales.ipynb'\n",
            " funciones_auxiliares\n"
          ],
          "name": "stdout"
        }
      ]
    },
    {
      "cell_type": "code",
      "metadata": {
        "id": "il1h3f_AaOZy",
        "colab_type": "code",
        "colab": {}
      },
      "source": [
        "# Corremos el notebook \n",
        "%run './funciones_auxiliares/graficar_vectores.ipynb'"
      ],
      "execution_count": 10,
      "outputs": []
    },
    {
      "cell_type": "code",
      "metadata": {
        "id": "qt0GyFSnT4Xw",
        "colab_type": "code",
        "colab": {
          "base_uri": "https://localhost:8080/",
          "height": 286
        },
        "outputId": "9ebc5de0-9fec-4fcd-eadc-de06c7b7ec14"
      },
      "source": [
        "graficar_vectores([v1, v2], ['orange', 'blue'])\n",
        "plt.xlim(-1, 8)\n",
        "plt.ylim(-1, 8)"
      ],
      "execution_count": 11,
      "outputs": [
        {
          "output_type": "execute_result",
          "data": {
            "text/plain": [
              "(-1.0, 8.0)"
            ]
          },
          "metadata": {
            "tags": []
          },
          "execution_count": 11
        },
        {
          "output_type": "display_data",
          "data": {
            "image/png": "[encoded data removed]",
            "text/plain": [
              "<Figure size 432x288 with 1 Axes>"
            ]
          },
          "metadata": {
            "tags": [],
            "needs_background": "light"
          }
        }
      ]
    },
    {
      "cell_type": "markdown",
      "metadata": {
        "id": "5dwEBzVV_P_J",
        "colab_type": "text"
      },
      "source": [
        "## ¿Qué es una combinación líneal?"
      ]
    },
    {
      "cell_type": "markdown",
      "metadata": {
        "id": "Z8sih_vW_eyP",
        "colab_type": "text"
      },
      "source": [
        "Una combinación lineal es tomar un vector V1, multiplicarlo por un escalar, Tomar un segundo vector V2, multiplicarlo por otro escalar, al final sumar el resultado de las dos multiplicaciones. Este resultado es llamado combinación lineal."
      ]
    },
    {
      "cell_type": "code",
      "metadata": {
        "id": "NrsUC6Pz_gkh",
        "colab_type": "code",
        "colab": {}
      },
      "source": [
        "%matplotlib inline\n",
        "import numpy as np\n",
        "import matplotlib.pyplot as plt\n"
      ],
      "execution_count": 12,
      "outputs": []
    },
    {
      "cell_type": "code",
      "metadata": {
        "id": "1yneEEu__m-9",
        "colab_type": "code",
        "colab": {}
      },
      "source": [
        "%run './funciones_auxiliares/graficar_vectores.ipynb'"
      ],
      "execution_count": 13,
      "outputs": []
    },
    {
      "cell_type": "code",
      "metadata": {
        "id": "Wr8fgIgH_ut4",
        "colab_type": "code",
        "colab": {}
      },
      "source": [
        "v1 = np.array([2, 5])\n",
        "v2 = np.array([3, 2])"
      ],
      "execution_count": 21,
      "outputs": []
    },
    {
      "cell_type": "code",
      "metadata": {
        "id": "AC2-a-2mZEN2",
        "colab_type": "code",
        "colab": {
          "base_uri": "https://localhost:8080/",
          "height": 34
        },
        "outputId": "c381dbb4-a722-4359-f099-d179123d597e"
      },
      "source": [
        "v1v2 = v1 + v2\n",
        "print(v1v2)"
      ],
      "execution_count": 28,
      "outputs": [
        {
          "output_type": "stream",
          "text": [
            "[5 7]\n"
          ],
          "name": "stdout"
        }
      ]
    },
    {
      "cell_type": "code",
      "metadata": {
        "id": "Xsyv8kMoZJ9a",
        "colab_type": "code",
        "colab": {
          "base_uri": "https://localhost:8080/",
          "height": 286
        },
        "outputId": "3d176432-1902-4a42-a9e9-2ab4b0889bed"
      },
      "source": [
        "graficar_vectores([v1, v2, v1v2], ['orange', 'blue', 'red'])\n",
        "plt.xlim(-1, 8)\n",
        "plt.ylim(-1, 12)"
      ],
      "execution_count": 29,
      "outputs": [
        {
          "output_type": "execute_result",
          "data": {
            "text/plain": [
              "(-1.0, 12.0)"
            ]
          },
          "metadata": {
            "tags": []
          },
          "execution_count": 29
        },
        {
          "output_type": "display_data",
          "data": {
            "image/png": "[encoded data removed]",
            "text/plain": [
              "<Figure size 432x288 with 1 Axes>"
            ]
          },
          "metadata": {
            "tags": [],
            "needs_background": "light"
          }
        }
      ]
    },
    {
      "cell_type": "markdown",
      "metadata": {
        "id": "e3h1SYe0fh_s",
        "colab_type": "text"
      },
      "source": [
        "Definamos una funciones para graficar todas las posibles combinaciones lineales o al menos un subjunto de ellas que nos permitirá tener una mejor noción de la importancia de estas. \n",
        "\n",
        "Se definirán todos los lugares por donde queremos que varien los vectores."
      ]
    },
    {
      "cell_type": "code",
      "metadata": {
        "id": "sP_GxSTaZvIq",
        "colab_type": "code",
        "colab": {
          "base_uri": "https://localhost:8080/",
          "height": 286
        },
        "outputId": "ec00a27f-beef-4833-b1f6-4242938d5f09"
      },
      "source": [
        "for a in range(-10, 10):\n",
        "  for b in range(-10, 10):\n",
        "   plano plt.scatter(v1[0]*a + v2[0]*b, v1[1]*a + v2[1]*b,\n",
        "                marker = '.',\n",
        "                color = 'orange')\n",
        "\n",
        "plt.xlim(-100, 100)\n",
        "plt.ylim(-100, 100)\n",
        "\n",
        "plt.axvline(x=0, color='grey')\n",
        "plt.axhline(y=0, color='grey')\n",
        "\n",
        "plt.show"
      ],
      "execution_count": 40,
      "outputs": [
        {
          "output_type": "execute_result",
          "data": {
            "text/plain": [
              "<function matplotlib.pyplot.show>"
            ]
          },
          "metadata": {
            "tags": []
          },
          "execution_count": 40
        },
        {
          "output_type": "display_data",
          "data": {
            "image/png": "[encoded data removed]",
            "text/plain": [
              "<Figure size 432x288 with 1 Axes>"
            ]
          },
          "metadata": {
            "tags": [],
            "needs_background": "light"
          }
        }
      ]
    },
    {
      "cell_type": "markdown",
      "metadata": {
        "id": "kclexiBOgbkD",
        "colab_type": "text"
      },
      "source": [
        "Lo que estamos viendo son unas posibles conbinaciones lineales de dos vectores. Si continuaramos ampliando el rango en el cual se mueven los escalares a y b, podriamos describir todo el espacio R2, o sea el plano cartesiano. \n",
        "\n",
        "Con los correctos valores escalares a y b podriamos dibujar figuras enteras en el plano. "
      ]
    },
    {
      "cell_type": "code",
      "metadata": {
        "id": "bXbsxe82fF8J",
        "colab_type": "code",
        "colab": {}
      },
      "source": [
        ""
      ],
      "execution_count": null,
      "outputs": []
    }
  ]
}