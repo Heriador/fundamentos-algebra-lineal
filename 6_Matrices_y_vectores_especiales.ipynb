{
  "nbformat": 4,
  "nbformat_minor": 0,
  "metadata": {
    "colab": {
      "name": "6. Matrices y vectores especiales.ipynb",
      "provenance": [],
      "authorship_tag": "ABX9TyNXSC747UO5ZwYvWZsg3ME2",
      "include_colab_link": true
    },
    "kernelspec": {
      "name": "python3",
      "display_name": "Python 3"
    }
  },
  "cells": [
    {
      "cell_type": "markdown",
      "metadata": {
        "id": "view-in-github",
        "colab_type": "text"
      },
      "source": [
        "<a href=\"https://colab.research.google.com/github/francomanca93/fundamentos-algebra-lineal/blob/especiales/6_Matrices_y_vectores_especiales.ipynb\" target=\"_parent\"><img src=\"https://colab.research.google.com/assets/colab-badge.svg\" alt=\"Open In Colab\"/></a>"
      ]
    },
    {
      "cell_type": "markdown",
      "metadata": {
        "id": "ziPz17u4yzCa",
        "colab_type": "text"
      },
      "source": [
        "# Matrices y vectores especiales\n",
        "\n"
      ]
    },
    {
      "cell_type": "markdown",
      "metadata": {
        "id": "-tuobmfSy6p0",
        "colab_type": "text"
      },
      "source": [
        "## La matriz diagonal y la matriz simétrica: sus propiedades "
      ]
    },
    {
      "cell_type": "markdown",
      "metadata": {
        "id": "CunRjf_u9NE1",
        "colab_type": "text"
      },
      "source": [
        "### Matriz diagonal y sus propiedades"
      ]
    },
    {
      "cell_type": "markdown",
      "metadata": {
        "id": "__yxJmyn-ezN",
        "colab_type": "text"
      },
      "source": [
        "La matriz diagonal es aquella que tiene solo numeros en su diagonal.\n"
      ]
    },
    {
      "cell_type": "code",
      "metadata": {
        "id": "TXGuyqnRzMPl",
        "colab_type": "code",
        "colab": {}
      },
      "source": [
        "import numpy as np"
      ],
      "execution_count": 1,
      "outputs": []
    },
    {
      "cell_type": "code",
      "metadata": {
        "id": "biTFJgCmzOFn",
        "colab_type": "code",
        "colab": {
          "base_uri": "https://localhost:8080/",
          "height": 104
        },
        "outputId": "7900a265-de79-4ab8-b2f5-40b0f03ac3e1"
      },
      "source": [
        "vector = np.array([1,2,3,4,5])\n",
        "\n",
        "matriz = np.diag(vector)\n",
        "\n",
        "print(matriz)"
      ],
      "execution_count": 2,
      "outputs": [
        {
          "output_type": "stream",
          "text": [
            "[[1 0 0 0 0]\n",
            " [0 2 0 0 0]\n",
            " [0 0 3 0 0]\n",
            " [0 0 0 4 0]\n",
            " [0 0 0 0 5]]\n"
          ],
          "name": "stdout"
        }
      ]
    },
    {
      "cell_type": "markdown",
      "metadata": {
        "id": "JbjFjtjH_4C3",
        "colab_type": "text"
      },
      "source": [
        "Una matriz diagonal no solamente puede ser cuadrada, si no que puede tener otras dimensiones."
      ]
    },
    {
      "cell_type": "code",
      "metadata": {
        "id": "nAAj0QK07N-k",
        "colab_type": "code",
        "colab": {
          "base_uri": "https://localhost:8080/",
          "height": 86
        },
        "outputId": "619f4a17-7d68-4882-911c-1008aa49bdb6"
      },
      "source": [
        "print(matriz[0:4, 0:3])"
      ],
      "execution_count": 3,
      "outputs": [
        {
          "output_type": "stream",
          "text": [
            "[[1 0 0]\n",
            " [0 2 0]\n",
            " [0 0 3]\n",
            " [0 0 0]]\n"
          ],
          "name": "stdout"
        }
      ]
    },
    {
      "cell_type": "code",
      "metadata": {
        "id": "ofco5pxu7aPB",
        "colab_type": "code",
        "colab": {
          "base_uri": "https://localhost:8080/",
          "height": 69
        },
        "outputId": "d19ed7d5-d42c-4881-9cb6-25273eea51cd"
      },
      "source": [
        "print(matriz[0:3, 0:4])"
      ],
      "execution_count": 4,
      "outputs": [
        {
          "output_type": "stream",
          "text": [
            "[[1 0 0 0]\n",
            " [0 2 0 0]\n",
            " [0 0 3 0]]\n"
          ],
          "name": "stdout"
        }
      ]
    },
    {
      "cell_type": "markdown",
      "metadata": {
        "id": "v7rmrxyDAAXh",
        "colab_type": "text"
      },
      "source": [
        "Si ahora difinimos una matriz diagonal:"
      ]
    },
    {
      "cell_type": "code",
      "metadata": {
        "id": "YSE3DYNZ7emm",
        "colab_type": "code",
        "colab": {
          "base_uri": "https://localhost:8080/",
          "height": 86
        },
        "outputId": "2699a3b9-5d5a-4bbf-e228-add7baa9c27c"
      },
      "source": [
        "A = np.diag([2,3,4,5])\n",
        "print(A)"
      ],
      "execution_count": 5,
      "outputs": [
        {
          "output_type": "stream",
          "text": [
            "[[2 0 0 0]\n",
            " [0 3 0 0]\n",
            " [0 0 4 0]\n",
            " [0 0 0 5]]\n"
          ],
          "name": "stdout"
        }
      ]
    },
    {
      "cell_type": "markdown",
      "metadata": {
        "id": "_gFT35DZ_Jsq",
        "colab_type": "text"
      },
      "source": [
        "Algo a tener en cuenta es que al multiplicarlas por un vector no estan siendo una combinacion lineal de las distintas coordenadas sino lo que hace es una ponderacion de los elementos del vector por el cual estoy multiplicando."
      ]
    },
    {
      "cell_type": "code",
      "metadata": {
        "id": "A4-pBoqg7xk0",
        "colab_type": "code",
        "colab": {
          "base_uri": "https://localhost:8080/",
          "height": 121
        },
        "outputId": "d852f4a4-1946-42ae-932e-4988f206f77b"
      },
      "source": [
        "v1 = np.array([[1,1,1,1]])\n",
        "\n",
        "print(v1)\n",
        "\n",
        "print('Matriz ponderada: \\n', A.dot(v1.T))"
      ],
      "execution_count": 6,
      "outputs": [
        {
          "output_type": "stream",
          "text": [
            "[[1 1 1 1]]\n",
            "Matriz ponderada: \n",
            " [[2]\n",
            " [3]\n",
            " [4]\n",
            " [5]]\n"
          ],
          "name": "stdout"
        }
      ]
    },
    {
      "cell_type": "markdown",
      "metadata": {
        "id": "7CA5mA5X-_i1",
        "colab_type": "text"
      },
      "source": [
        "Otra cosa a tener en cuenta de las matrices diagonales es que para sacar su matriz inversa lo unico que debo realizar es crear una matriz cuyos elementos en la diagonal esten invertidos es decir 1/x. Esto computacionalmente es beneficioso."
      ]
    },
    {
      "cell_type": "code",
      "metadata": {
        "id": "DggMbKTA8BID",
        "colab_type": "code",
        "colab": {
          "base_uri": "https://localhost:8080/",
          "height": 86
        },
        "outputId": "67533d02-622a-4638-ce5a-bc6203914637"
      },
      "source": [
        "A_inv = np.diag([1/2, 1/3, 1/4, 1/5])\n",
        "print(A_inv)"
      ],
      "execution_count": 7,
      "outputs": [
        {
          "output_type": "stream",
          "text": [
            "[[0.5        0.         0.         0.        ]\n",
            " [0.         0.33333333 0.         0.        ]\n",
            " [0.         0.         0.25       0.        ]\n",
            " [0.         0.         0.         0.2       ]]\n"
          ],
          "name": "stdout"
        }
      ]
    },
    {
      "cell_type": "markdown",
      "metadata": {
        "id": "lMA-xO3CAPXf",
        "colab_type": "text"
      },
      "source": [
        "Si decimos que la matriz inversa es invertir los numeros de las diagonales se debe cumplir los siguiente: \n",
        "* A . A^t = Id\n",
        "\n",
        "El producto escalar entre una matriz diagonal y su transpuesta diagonal debe ser igual a la matriz identidad. "
      ]
    },
    {
      "cell_type": "code",
      "metadata": {
        "id": "fHl3HLmd8WWT",
        "colab_type": "code",
        "colab": {
          "base_uri": "https://localhost:8080/",
          "height": 86
        },
        "outputId": "45dbf723-d49e-4236-fcaf-1107e9b2ebb2"
      },
      "source": [
        "identidad = A.dot(A_inv)\n",
        "print(identidad)"
      ],
      "execution_count": 8,
      "outputs": [
        {
          "output_type": "stream",
          "text": [
            "[[1. 0. 0. 0.]\n",
            " [0. 1. 0. 0.]\n",
            " [0. 0. 1. 0.]\n",
            " [0. 0. 0. 1.]]\n"
          ],
          "name": "stdout"
        }
      ]
    },
    {
      "cell_type": "code",
      "metadata": {
        "id": "AfJ6QLNB8fad",
        "colab_type": "code",
        "colab": {
          "base_uri": "https://localhost:8080/",
          "height": 86
        },
        "outputId": "9cd9384f-b9c9-42f2-b07e-6d5d34d71bcc"
      },
      "source": [
        "A_inv_calc = np.linalg.inv(A)\n",
        "print(A_inv_calc)"
      ],
      "execution_count": 9,
      "outputs": [
        {
          "output_type": "stream",
          "text": [
            "[[0.5        0.         0.         0.        ]\n",
            " [0.         0.33333333 0.         0.        ]\n",
            " [0.         0.         0.25       0.        ]\n",
            " [0.         0.         0.         0.2       ]]\n"
          ],
          "name": "stdout"
        }
      ]
    },
    {
      "cell_type": "markdown",
      "metadata": {
        "id": "xb-6_HgZ9Gc3",
        "colab_type": "text"
      },
      "source": [
        "### Matriz simetrica y sus propiedades"
      ]
    },
    {
      "cell_type": "markdown",
      "metadata": {
        "id": "mPZd4eRy9Q3b",
        "colab_type": "text"
      },
      "source": [
        "Una matriz es simetrica cuando su transpuesta es igual a la misma matriz.\n",
        "\n",
        "**Recordatorio:** Hacer una transposicion es cambiar filas por columnas."
      ]
    },
    {
      "cell_type": "code",
      "metadata": {
        "id": "mZJeUa0u9Dmo",
        "colab_type": "code",
        "colab": {
          "base_uri": "https://localhost:8080/",
          "height": 86
        },
        "outputId": "0b468018-bf3b-4c65-92ef-b7b8b1ca1ebc"
      },
      "source": [
        "# Calculamos la transpuesta de la matriz A\n",
        "print(A.T)"
      ],
      "execution_count": 10,
      "outputs": [
        {
          "output_type": "stream",
          "text": [
            "[[2 0 0 0]\n",
            " [0 3 0 0]\n",
            " [0 0 4 0]\n",
            " [0 0 0 5]]\n"
          ],
          "name": "stdout"
        }
      ]
    },
    {
      "cell_type": "code",
      "metadata": {
        "id": "E9Yafqj69gl6",
        "colab_type": "code",
        "colab": {
          "base_uri": "https://localhost:8080/",
          "height": 86
        },
        "outputId": "c4dbc116-574d-4a14-d249-6ace2e5d6ee7"
      },
      "source": [
        "print(A)"
      ],
      "execution_count": 11,
      "outputs": [
        {
          "output_type": "stream",
          "text": [
            "[[2 0 0 0]\n",
            " [0 3 0 0]\n",
            " [0 0 4 0]\n",
            " [0 0 0 5]]\n"
          ],
          "name": "stdout"
        }
      ]
    },
    {
      "cell_type": "markdown",
      "metadata": {
        "id": "gZuWtZ4rA5wC",
        "colab_type": "text"
      },
      "source": [
        "Con esto vemos que ambas matrices son iguales, entonces la misma es simetrica y en este caso diagonal. \n",
        "\n",
        "Pero no todas las matrices simetricas son diagonales tambien, como en el siguiente ejemplo:"
      ]
    },
    {
      "cell_type": "code",
      "metadata": {
        "id": "RlCLJDRd9jeD",
        "colab_type": "code",
        "colab": {
          "base_uri": "https://localhost:8080/",
          "height": 69
        },
        "outputId": "dde91703-779d-4fbf-9f28-81e64dcf4fc2"
      },
      "source": [
        "simetrica = np.array([[1,2,3],\n",
        "                      [2,-1,7],\n",
        "                      [3,7,11]])\n",
        "print(simetrica)"
      ],
      "execution_count": 12,
      "outputs": [
        {
          "output_type": "stream",
          "text": [
            "[[ 1  2  3]\n",
            " [ 2 -1  7]\n",
            " [ 3  7 11]]\n"
          ],
          "name": "stdout"
        }
      ]
    },
    {
      "cell_type": "code",
      "metadata": {
        "id": "rJ5AbZvD9z30",
        "colab_type": "code",
        "colab": {
          "base_uri": "https://localhost:8080/",
          "height": 69
        },
        "outputId": "48a1148d-d469-4e17-b3dd-3ef0dbc84ca0"
      },
      "source": [
        "print(simetrica.T)"
      ],
      "execution_count": 13,
      "outputs": [
        {
          "output_type": "stream",
          "text": [
            "[[ 1  2  3]\n",
            " [ 2 -1  7]\n",
            " [ 3  7 11]]\n"
          ],
          "name": "stdout"
        }
      ]
    },
    {
      "cell_type": "markdown",
      "metadata": {
        "id": "0DqVPhLECuMA",
        "colab_type": "text"
      },
      "source": [
        "## Vectores ortogonales, matrices ortogonales y sus propiedades  "
      ]
    },
    {
      "cell_type": "markdown",
      "metadata": {
        "id": "b3qUhsU6CzzP",
        "colab_type": "text"
      },
      "source": [
        "Un vector **no puede ser ortogonal en solitario** para serlo debe hacer referencia a otro vector, por lo tanto cuando hablemos de este tipo de vector nos estaremos refiriendo a **dos mas vectores**.\n",
        "\n",
        "Ser ortogonal es que el angulo que formen estos vectores sea de 90 grados.\n"
      ]
    },
    {
      "cell_type": "code",
      "metadata": {
        "id": "CL5j5od3DSku",
        "colab_type": "code",
        "colab": {}
      },
      "source": [
        "%matplotlib inline\n",
        "\n",
        "import numpy as np\n",
        "import matplotlib.pyplot as plt"
      ],
      "execution_count": 14,
      "outputs": []
    },
    {
      "cell_type": "markdown",
      "metadata": {
        "id": "DoaAVrdAEqjD",
        "colab_type": "text"
      },
      "source": [
        "Grafiquemos dos vectores ortogonales."
      ]
    },
    {
      "cell_type": "code",
      "metadata": {
        "id": "ddTeVeumDYxW",
        "colab_type": "code",
        "colab": {
          "base_uri": "https://localhost:8080/",
          "height": 269
        },
        "outputId": "198cc4b6-9440-466a-956d-a010553cde54"
      },
      "source": [
        "x = np.array([0,0,2,2])\n",
        "y = np.array([0,0,2,-2])\n",
        "\n",
        "plt.quiver([x[0], y[0]],\n",
        "           [x[1], y[1]],\n",
        "           [x[2], y[2]],\n",
        "           [x[3], y[3]], \n",
        "           angles = 'xy', scale_units = 'xy', scale=1)\n",
        "plt.xlim(-2,4)\n",
        "plt.ylim(-3,3)\n",
        "\n",
        "plt.show()"
      ],
      "execution_count": 15,
      "outputs": [
        {
          "output_type": "display_data",
          "data": {
            "image/png": "[encoded data removed]",
            "text/plain": [
              "<Figure size 432x288 with 1 Axes>"
            ]
          },
          "metadata": {
            "tags": [],
            "needs_background": "light"
          }
        }
      ]
    },
    {
      "cell_type": "markdown",
      "metadata": {
        "id": "IvvTmj1MEuqH",
        "colab_type": "text"
      },
      "source": [
        "Comprobemos analiticamente que estos vectores son ortogonales. "
      ]
    },
    {
      "cell_type": "code",
      "metadata": {
        "id": "VaSyjnoWEVkk",
        "colab_type": "code",
        "colab": {
          "base_uri": "https://localhost:8080/",
          "height": 52
        },
        "outputId": "2c0cd16d-da06-4ea1-81ab-c8de55dfaa06"
      },
      "source": [
        "v1 = np.array([[2, 2]])\n",
        "v2 = np.array([[2, -2]])\n",
        "\n",
        "print(v1)\n",
        "print(v2)"
      ],
      "execution_count": 16,
      "outputs": [
        {
          "output_type": "stream",
          "text": [
            "[[2 2]]\n",
            "[[ 2 -2]]\n"
          ],
          "name": "stdout"
        }
      ]
    },
    {
      "cell_type": "code",
      "metadata": {
        "id": "1XjMumqGEi8U",
        "colab_type": "code",
        "colab": {
          "base_uri": "https://localhost:8080/",
          "height": 34
        },
        "outputId": "9ea5fffc-141e-4ef8-a8ee-14d99f0181c0"
      },
      "source": [
        "print(v1.dot(v2.T))"
      ],
      "execution_count": 17,
      "outputs": [
        {
          "output_type": "stream",
          "text": [
            "[[0]]\n"
          ],
          "name": "stdout"
        }
      ]
    },
    {
      "cell_type": "markdown",
      "metadata": {
        "id": "OS4VjFd5E7i8",
        "colab_type": "text"
      },
      "source": [
        "Que el producto escalar entre los 2 vectores nos de 0 quiere decir que el ángulo entre ellos es 90º."
      ]
    },
    {
      "cell_type": "markdown",
      "metadata": {
        "id": "TQfD5mcFG0zU",
        "colab_type": "text"
      },
      "source": [
        "**Teorema**: Si n vectores son ortogonales, entonces son linealmente independientes y generan el espacio R^n, es decir, cualquier conjunto de n vectores ortigonales forman una base de R^n"
      ]
    },
    {
      "cell_type": "markdown",
      "metadata": {
        "id": "JvVxko80Fb5C",
        "colab_type": "text"
      },
      "source": [
        "### Vectores ortonormales "
      ]
    },
    {
      "cell_type": "markdown",
      "metadata": {
        "id": "ZOLTL-IHGMnQ",
        "colab_type": "text"
      },
      "source": [
        "Para que un vector sea ortonormal su normal debe ser 1."
      ]
    },
    {
      "cell_type": "code",
      "metadata": {
        "id": "0_k07-XNFSYz",
        "colab_type": "code",
        "colab": {
          "base_uri": "https://localhost:8080/",
          "height": 52
        },
        "outputId": "3c31df6b-23bb-4e0e-d20f-a5751a882458"
      },
      "source": [
        "print(np.linalg.norm(v1))\n",
        "print(np.linalg.norm(v2))"
      ],
      "execution_count": 18,
      "outputs": [
        {
          "output_type": "stream",
          "text": [
            "2.8284271247461903\n",
            "2.8284271247461903\n"
          ],
          "name": "stdout"
        }
      ]
    },
    {
      "cell_type": "markdown",
      "metadata": {
        "id": "Muu73Yx2GPeL",
        "colab_type": "text"
      },
      "source": [
        " Ya que no nos da 1 su normal concluimos que no son ortonormales. Pero para lograr que un vector sea ortonormal lo unico que debo realizar es dividir cada uno de sus elementos por su norma."
      ]
    },
    {
      "cell_type": "code",
      "metadata": {
        "id": "OW1edJmpGWEE",
        "colab_type": "code",
        "colab": {
          "base_uri": "https://localhost:8080/",
          "height": 52
        },
        "outputId": "e753561c-3bfc-4daa-e18e-ce33809a43c0"
      },
      "source": [
        "vector_ortonormal = v1 * (1/np.linalg.norm(v1))\n",
        "print(np.linalg.norm(vector_ortonormal))\n",
        "\n",
        "vector_ortonormal_2 = v2 * (1/np.linalg.norm(v2))\n",
        "print(np.linalg.norm(vector_ortonormal_2))"
      ],
      "execution_count": 19,
      "outputs": [
        {
          "output_type": "stream",
          "text": [
            "0.9999999999999999\n",
            "0.9999999999999999\n"
          ],
          "name": "stdout"
        }
      ]
    },
    {
      "cell_type": "markdown",
      "metadata": {
        "id": "CsrsXqlA9kBA",
        "colab_type": "text"
      },
      "source": [
        "## Matrices ortogonales y sus propiedades"
      ]
    },
    {
      "cell_type": "markdown",
      "metadata": {
        "id": "AYlBCGwq9_33",
        "colab_type": "text"
      },
      "source": [
        "Una matriz es ortogonal cuando todas sus filas son mutuamente ortonormales y todas sus columnas son mutuamente ortonormales.\n",
        "\n",
        "Así mismo, una matriz ortogonal es una matriz cuadrada cuya matriz inversa coincide con su matriz transpuesta.\n",
        "* A.T == A^-1\n"
      ]
    },
    {
      "cell_type": "code",
      "metadata": {
        "id": "2cz9Q_RL9_Sg",
        "colab_type": "code",
        "colab": {}
      },
      "source": [
        "import numpy as np"
      ],
      "execution_count": 20,
      "outputs": []
    },
    {
      "cell_type": "code",
      "metadata": {
        "id": "UmhJvxMd-Cmx",
        "colab_type": "code",
        "colab": {
          "base_uri": "https://localhost:8080/",
          "height": 69
        },
        "outputId": "70c3005d-6f17-4cda-95e7-e77fabc85142"
      },
      "source": [
        "matriz = np.array([[1,0,0],\n",
        "                   [0,1,0],\n",
        "                   [0,0,1]])\n",
        "print(matriz)"
      ],
      "execution_count": 34,
      "outputs": [
        {
          "output_type": "stream",
          "text": [
            "[[1 0 0]\n",
            " [0 1 0]\n",
            " [0 0 1]]\n"
          ],
          "name": "stdout"
        }
      ]
    },
    {
      "cell_type": "markdown",
      "metadata": {
        "id": "OKGMY8ZsFgNX",
        "colab_type": "text"
      },
      "source": [
        "Definida la matriz anterior demostraremos como son ortogonales y ortonormales tanto las columnas como las filas."
      ]
    },
    {
      "cell_type": "code",
      "metadata": {
        "id": "W8jopW4o-Oo2",
        "colab_type": "code",
        "colab": {
          "base_uri": "https://localhost:8080/",
          "height": 34
        },
        "outputId": "08ef3042-a797-4e24-c89c-0d5634845749"
      },
      "source": [
        "print('columna v1 ortogonal a v2: ', matriz[:,0].dot(matriz[:,1]))"
      ],
      "execution_count": 36,
      "outputs": [
        {
          "output_type": "stream",
          "text": [
            "columna v1 ortogonal a v2:  0\n"
          ],
          "name": "stdout"
        }
      ]
    },
    {
      "cell_type": "code",
      "metadata": {
        "id": "2rC_5ACt-adw",
        "colab_type": "code",
        "colab": {
          "base_uri": "https://localhost:8080/",
          "height": 52
        },
        "outputId": "94387d2d-71f9-4282-92f8-48dcc3b766c6"
      },
      "source": [
        "print('columna v1 ortogonal a v3: ', matriz[:,0].dot(matriz[:,2]))\n",
        "print('columna v2 ortogonal a v3: ', matriz[:,1].dot(matriz[:,2]))"
      ],
      "execution_count": 37,
      "outputs": [
        {
          "output_type": "stream",
          "text": [
            "columna v1 ortogonal a v3:  0\n",
            "columna v2 ortogonal a v3:  0\n"
          ],
          "name": "stdout"
        }
      ]
    },
    {
      "cell_type": "markdown",
      "metadata": {
        "id": "h5mg5tjkF2pI",
        "colab_type": "text"
      },
      "source": [
        "Que el producto escalar entre los 2 vectores nos de 0 quiere decir que el ángulo entre ellos es 90º."
      ]
    },
    {
      "cell_type": "code",
      "metadata": {
        "id": "_sX3YI3n-7me",
        "colab_type": "code",
        "colab": {
          "base_uri": "https://localhost:8080/",
          "height": 69
        },
        "outputId": "41e12380-37fe-42ed-aa4b-fc41c163c567"
      },
      "source": [
        "print('Norma del v1: ', np.linalg.norm(matriz[:,0]))\n",
        "print('Norma del v2: ', np.linalg.norm(matriz[:,1]))\n",
        "print('Norma del v3: ', np.linalg.norm(matriz[:,2]))"
      ],
      "execution_count": 38,
      "outputs": [
        {
          "output_type": "stream",
          "text": [
            "Norma del v1:  1.0\n",
            "Norma del v2:  1.0\n",
            "Norma del v3:  1.0\n"
          ],
          "name": "stdout"
        }
      ]
    },
    {
      "cell_type": "markdown",
      "metadata": {
        "id": "O7M2xmAtGGY7",
        "colab_type": "text"
      },
      "source": [
        "Que la norma de los vectores sea 1 quiere decir que son ortonormales."
      ]
    },
    {
      "cell_type": "markdown",
      "metadata": {
        "id": "bjQbSW7ZGKxa",
        "colab_type": "text"
      },
      "source": [
        "Ahora con las filas:"
      ]
    },
    {
      "cell_type": "code",
      "metadata": {
        "id": "bhyp-EJI_ZZI",
        "colab_type": "code",
        "colab": {
          "base_uri": "https://localhost:8080/",
          "height": 69
        },
        "outputId": "d18a6c53-37f7-4009-d4b9-2a5ed0103b39"
      },
      "source": [
        "print('fila v1 ortogonal a v2: ', matriz[0,:].dot(matriz[1,:]))\n",
        "print('fila v1 ortogonal a v3: ', matriz[0,:].dot(matriz[2,:]))\n",
        "print('fila v2 ortogonal a v3: ', matriz[1,:].dot(matriz[2,:]))"
      ],
      "execution_count": 40,
      "outputs": [
        {
          "output_type": "stream",
          "text": [
            "fila v1 ortogonal a v2:  0\n",
            "fila v1 ortogonal a v3:  0\n",
            "fila v2 ortogonal a v3:  0\n"
          ],
          "name": "stdout"
        }
      ]
    },
    {
      "cell_type": "code",
      "metadata": {
        "id": "8Q1nYFHUCR4g",
        "colab_type": "code",
        "colab": {
          "base_uri": "https://localhost:8080/",
          "height": 69
        },
        "outputId": "5c1f2721-50aa-47e4-9120-8a313bf44e58"
      },
      "source": [
        "print('Norma del v1: ', np.linalg.norm(matriz[0,:]))\n",
        "print('Norma del v2: ', np.linalg.norm(matriz[1,:]))\n",
        "print('Norma del v3: ', np.linalg.norm(matriz[2,:]))"
      ],
      "execution_count": 41,
      "outputs": [
        {
          "output_type": "stream",
          "text": [
            "Norma del v1:  1.0\n",
            "Norma del v2:  1.0\n",
            "Norma del v3:  1.0\n"
          ],
          "name": "stdout"
        }
      ]
    },
    {
      "cell_type": "markdown",
      "metadata": {
        "id": "X0-29V_uCyWz",
        "colab_type": "text"
      },
      "source": [
        "Al generando matrices ortogonales debemos tener cuidado con los numeros y las aproximaciones a 0.\n",
        "\n",
        "Ejempliquemos lo comentado  eligiendo una matriz con seno y coseno. Este tipo de matriz matriz, se llama una “matriz de rotación”, la cual me permite rotar un vector. \n",
        "\n"
      ]
    },
    {
      "cell_type": "code",
      "metadata": {
        "id": "8VM89i3jCcul",
        "colab_type": "code",
        "colab": {
          "base_uri": "https://localhost:8080/",
          "height": 52
        },
        "outputId": "5be4ea77-c9e8-4cb9-d7ef-2a74e6bb4bc9"
      },
      "source": [
        "A = np.array([[np.cos(100), -np.sin(100)],\n",
        "              [np.sin(100), np.cos(100)]])\n",
        "print(A)"
      ],
      "execution_count": 43,
      "outputs": [
        {
          "output_type": "stream",
          "text": [
            "[[ 0.86231887  0.50636564]\n",
            " [-0.50636564  0.86231887]]\n"
          ],
          "name": "stdout"
        }
      ]
    },
    {
      "cell_type": "markdown",
      "metadata": {
        "id": "45si-fk-HVtF",
        "colab_type": "text"
      },
      "source": [
        "Analizando la normal de cada uno de los vectores de la matriz, tanto de las filas como de las columnas. El valor que nos da es 0.9999999 aproximadamente 1, pero no es 1."
      ]
    },
    {
      "cell_type": "code",
      "metadata": {
        "id": "rFJztHp9DAZ7",
        "colab_type": "code",
        "colab": {
          "base_uri": "https://localhost:8080/",
          "height": 86
        },
        "outputId": "15f84746-2aed-4a33-a0f9-1687370152d0"
      },
      "source": [
        "print(np.linalg.norm(A[0,:]))\n",
        "print(np.linalg.norm(A[1,:]))\n",
        "print(np.linalg.norm(A[:,0]))\n",
        "print(np.linalg.norm(A[:,1]))"
      ],
      "execution_count": 44,
      "outputs": [
        {
          "output_type": "stream",
          "text": [
            "0.9999999999999999\n",
            "0.9999999999999999\n",
            "0.9999999999999999\n",
            "0.9999999999999999\n"
          ],
          "name": "stdout"
        }
      ]
    },
    {
      "cell_type": "markdown",
      "metadata": {
        "id": "bnkZ1wXTHlR9",
        "colab_type": "text"
      },
      "source": [
        "Pero haciendo el producto escalar nos dice que son ortogonales."
      ]
    },
    {
      "cell_type": "code",
      "metadata": {
        "id": "hHkhiAhkDs2x",
        "colab_type": "code",
        "colab": {
          "base_uri": "https://localhost:8080/",
          "height": 52
        },
        "outputId": "04eb9354-d707-4d55-bd2b-172e3ab9ee9c"
      },
      "source": [
        "print(A[0,:].dot(A[1,:]))\n",
        "print(A[:,0].dot(A[:,1]))"
      ],
      "execution_count": 46,
      "outputs": [
        {
          "output_type": "stream",
          "text": [
            "0.0\n",
            "0.0\n"
          ],
          "name": "stdout"
        }
      ]
    },
    {
      "cell_type": "markdown",
      "metadata": {
        "id": "zk-kMJtFHxi3",
        "colab_type": "text"
      },
      "source": [
        "Sabiendo que:\n",
        "\n",
        "* A_t.dot(A) == A.dot(A_t) == Identidad\n",
        "\n",
        "Y que en una matriz ortogonal la inversa es igual a la transpuesta:\n",
        "* A.T == A^-1\n",
        "\n",
        "Obtengamos la identidad, la transpuesta y veamos que pasa al obtener la inversa. "
      ]
    },
    {
      "cell_type": "code",
      "metadata": {
        "id": "YZfdQn6cD590",
        "colab_type": "code",
        "colab": {
          "base_uri": "https://localhost:8080/",
          "height": 121
        },
        "outputId": "6c281439-f1f7-4f9f-e3bb-b3189d92271e"
      },
      "source": [
        "# A_t.dot(A) == A.dot(A_t) == Identidad\n",
        "A_t = A.T\n",
        "print('Transpuesta escalar matriz comun: \\n', A_t.dot(A))\n",
        "print('Matriz comun escalar transpuesta: \\n', A.dot(A_t))"
      ],
      "execution_count": 53,
      "outputs": [
        {
          "output_type": "stream",
          "text": [
            "Transpuesta escalar matriz comun: \n",
            " [[ 1.00000000e+00 -7.93771519e-18]\n",
            " [-7.93771519e-18  1.00000000e+00]]\n",
            "Matriz comun escalar transpuesta: \n",
            " [[1.00000000e+00 7.93771519e-18]\n",
            " [7.93771519e-18 1.00000000e+00]]\n"
          ],
          "name": "stdout"
        }
      ]
    },
    {
      "cell_type": "markdown",
      "metadata": {
        "id": "LuvjVuNSJw-I",
        "colab_type": "text"
      },
      "source": [
        "Se observa que efectivamente se obtiene la matriz identidad ya que los valores de la diagonal son 1 y los valores -+7.93771519e-18 son aproximadamente 0. "
      ]
    },
    {
      "cell_type": "code",
      "metadata": {
        "id": "icZi_pj_EVlW",
        "colab_type": "code",
        "colab": {
          "base_uri": "https://localhost:8080/",
          "height": 121
        },
        "outputId": "ec0e019c-0e49-444c-e103-dc756c2d078d"
      },
      "source": [
        "# A.T == A^-1\n",
        "A_inv = np.linalg.inv(A)\n",
        "print('Inversa: \\n', A_inv)\n",
        "print('Transpuesta: \\n', A_t)"
      ],
      "execution_count": 52,
      "outputs": [
        {
          "output_type": "stream",
          "text": [
            "Inversa: \n",
            " [[ 0.86231887 -0.50636564]\n",
            " [ 0.50636564  0.86231887]]\n",
            "Transpuesta: \n",
            " [[ 0.86231887 -0.50636564]\n",
            " [ 0.50636564  0.86231887]]\n"
          ],
          "name": "stdout"
        }
      ]
    },
    {
      "cell_type": "markdown",
      "metadata": {
        "id": "UVJq12gRKgoM",
        "colab_type": "text"
      },
      "source": [
        "Que ocurre si hacemos en realidad 1/(A_t.dot(A)) para obtener nuestra inversa"
      ]
    },
    {
      "cell_type": "code",
      "metadata": {
        "id": "AQ8bdl3REqpo",
        "colab_type": "code",
        "colab": {
          "base_uri": "https://localhost:8080/",
          "height": 52
        },
        "outputId": "2e5a9cd9-f059-4a8d-bcd3-db8864765cbb"
      },
      "source": [
        "print(1/A_t.dot(A))"
      ],
      "execution_count": 54,
      "outputs": [
        {
          "output_type": "stream",
          "text": [
            "[[ 1.00000000e+00 -1.25980837e+17]\n",
            " [-1.25980837e+17  1.00000000e+00]]\n"
          ],
          "name": "stdout"
        }
      ]
    },
    {
      "cell_type": "markdown",
      "metadata": {
        "id": "9cyhQQPlK6eK",
        "colab_type": "text"
      },
      "source": [
        "Al hacer esta operacion nos deberia haber vuelto que la operacion no estaba definida. \n",
        "\n",
        "Obtenemos un numero infinitamente grande y si hicieramos esto para obtener otra matriz estariamos multiplicando nuestro error.\n",
        "\n",
        "Debemos tener cuidado con esto ya que podemos expandir nuestros errores.\n"
      ]
    }
  ]
}