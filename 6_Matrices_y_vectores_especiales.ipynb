{
  "nbformat": 4,
  "nbformat_minor": 0,
  "metadata": {
    "colab": {
      "name": "6. Matrices y vectores especiales.ipynb",
      "provenance": [],
      "authorship_tag": "ABX9TyPuglF4qb6qzIkxy7KYS1if",
      "include_colab_link": true
    },
    "kernelspec": {
      "name": "python3",
      "display_name": "Python 3"
    }
  },
  "cells": [
    {
      "cell_type": "markdown",
      "metadata": {
        "id": "view-in-github",
        "colab_type": "text"
      },
      "source": [
        "<a href=\"https://colab.research.google.com/github/francomanca93/fundamentos-algebra-lineal/blob/especiales/6_Matrices_y_vectores_especiales.ipynb\" target=\"_parent\"><img src=\"https://colab.research.google.com/assets/colab-badge.svg\" alt=\"Open In Colab\"/></a>"
      ]
    },
    {
      "cell_type": "markdown",
      "metadata": {
        "id": "ziPz17u4yzCa",
        "colab_type": "text"
      },
      "source": [
        "# Matrices y vectores especiales\n",
        "\n"
      ]
    },
    {
      "cell_type": "markdown",
      "metadata": {
        "id": "-tuobmfSy6p0",
        "colab_type": "text"
      },
      "source": [
        "## La matriz diagonal y la matriz simétrica: sus propiedades "
      ]
    },
    {
      "cell_type": "markdown",
      "metadata": {
        "id": "CunRjf_u9NE1",
        "colab_type": "text"
      },
      "source": [
        "### Matriz diagonal y sus propiedades"
      ]
    },
    {
      "cell_type": "markdown",
      "metadata": {
        "id": "__yxJmyn-ezN",
        "colab_type": "text"
      },
      "source": [
        "La matriz diagonal es aquella que tiene solo numeros en su diagonal.\n"
      ]
    },
    {
      "cell_type": "code",
      "metadata": {
        "id": "TXGuyqnRzMPl",
        "colab_type": "code",
        "colab": {}
      },
      "source": [
        "import numpy as np"
      ],
      "execution_count": 1,
      "outputs": []
    },
    {
      "cell_type": "code",
      "metadata": {
        "id": "biTFJgCmzOFn",
        "colab_type": "code",
        "colab": {
          "base_uri": "https://localhost:8080/",
          "height": 104
        },
        "outputId": "7d32ba9b-b0ab-4dc8-c03e-731f913bca2b"
      },
      "source": [
        "vector = np.array([1,2,3,4,5])\n",
        "\n",
        "matriz = np.diag(vector)\n",
        "\n",
        "print(matriz)"
      ],
      "execution_count": 2,
      "outputs": [
        {
          "output_type": "stream",
          "text": [
            "[[1 0 0 0 0]\n",
            " [0 2 0 0 0]\n",
            " [0 0 3 0 0]\n",
            " [0 0 0 4 0]\n",
            " [0 0 0 0 5]]\n"
          ],
          "name": "stdout"
        }
      ]
    },
    {
      "cell_type": "markdown",
      "metadata": {
        "id": "JbjFjtjH_4C3",
        "colab_type": "text"
      },
      "source": [
        "Una matriz diagonal no solamente puede ser cuadrada, si no que puede tener otras dimensiones."
      ]
    },
    {
      "cell_type": "code",
      "metadata": {
        "id": "nAAj0QK07N-k",
        "colab_type": "code",
        "colab": {
          "base_uri": "https://localhost:8080/",
          "height": 86
        },
        "outputId": "afd35824-ea2f-4925-f923-903256d1ed62"
      },
      "source": [
        "print(matriz[0:4, 0:3])"
      ],
      "execution_count": 3,
      "outputs": [
        {
          "output_type": "stream",
          "text": [
            "[[1 0 0]\n",
            " [0 2 0]\n",
            " [0 0 3]\n",
            " [0 0 0]]\n"
          ],
          "name": "stdout"
        }
      ]
    },
    {
      "cell_type": "code",
      "metadata": {
        "id": "ofco5pxu7aPB",
        "colab_type": "code",
        "colab": {
          "base_uri": "https://localhost:8080/",
          "height": 69
        },
        "outputId": "431ced20-6de0-403d-f2d3-394ba33af224"
      },
      "source": [
        "print(matriz[0:3, 0:4])"
      ],
      "execution_count": 4,
      "outputs": [
        {
          "output_type": "stream",
          "text": [
            "[[1 0 0 0]\n",
            " [0 2 0 0]\n",
            " [0 0 3 0]]\n"
          ],
          "name": "stdout"
        }
      ]
    },
    {
      "cell_type": "markdown",
      "metadata": {
        "id": "v7rmrxyDAAXh",
        "colab_type": "text"
      },
      "source": [
        "Si ahora difinimos una matriz diagonal:"
      ]
    },
    {
      "cell_type": "code",
      "metadata": {
        "id": "YSE3DYNZ7emm",
        "colab_type": "code",
        "colab": {
          "base_uri": "https://localhost:8080/",
          "height": 86
        },
        "outputId": "d9243399-b3a2-43e1-fec3-8a810e5d7e8a"
      },
      "source": [
        "A = np.diag([2,3,4,5])\n",
        "print(A)"
      ],
      "execution_count": 6,
      "outputs": [
        {
          "output_type": "stream",
          "text": [
            "[[2 0 0 0]\n",
            " [0 3 0 0]\n",
            " [0 0 4 0]\n",
            " [0 0 0 5]]\n"
          ],
          "name": "stdout"
        }
      ]
    },
    {
      "cell_type": "markdown",
      "metadata": {
        "id": "_gFT35DZ_Jsq",
        "colab_type": "text"
      },
      "source": [
        "Algo a tener en cuenta es que al multiplicarlas por un vector no estan siendo una combinacion lineal de las distintas coordenadas sino lo que hace es una ponderacion de los elementos del vector por el cual estoy multiplicando."
      ]
    },
    {
      "cell_type": "code",
      "metadata": {
        "id": "A4-pBoqg7xk0",
        "colab_type": "code",
        "colab": {
          "base_uri": "https://localhost:8080/",
          "height": 121
        },
        "outputId": "577de955-96b9-4cbb-9524-e736d33691eb"
      },
      "source": [
        "v1 = np.array([[1,1,1,1]])\n",
        "\n",
        "print(v1)\n",
        "\n",
        "print('Matriz ponderada: \\n', A.dot(v1.T))"
      ],
      "execution_count": 20,
      "outputs": [
        {
          "output_type": "stream",
          "text": [
            "[[1 1 1 1]]\n",
            "Matriz ponderada: \n",
            " [[2]\n",
            " [3]\n",
            " [4]\n",
            " [5]]\n"
          ],
          "name": "stdout"
        }
      ]
    },
    {
      "cell_type": "markdown",
      "metadata": {
        "id": "7CA5mA5X-_i1",
        "colab_type": "text"
      },
      "source": [
        "Otra cosa a tener en cuenta de las matrices diagonales es que para sacar su matriz inversa lo unico que debo realizar es crear una matriz cuyos elementos en la diagonal esten invertidos es decir 1/x. Esto computacionalmente es beneficioso."
      ]
    },
    {
      "cell_type": "code",
      "metadata": {
        "id": "DggMbKTA8BID",
        "colab_type": "code",
        "colab": {
          "base_uri": "https://localhost:8080/",
          "height": 86
        },
        "outputId": "83838d15-377b-4235-a69a-b6a13d594298"
      },
      "source": [
        "A_inv = np.diag([1/2, 1/3, 1/4, 1/5])\n",
        "print(A_inv)"
      ],
      "execution_count": 9,
      "outputs": [
        {
          "output_type": "stream",
          "text": [
            "[[0.5        0.         0.         0.        ]\n",
            " [0.         0.33333333 0.         0.        ]\n",
            " [0.         0.         0.25       0.        ]\n",
            " [0.         0.         0.         0.2       ]]\n"
          ],
          "name": "stdout"
        }
      ]
    },
    {
      "cell_type": "markdown",
      "metadata": {
        "id": "lMA-xO3CAPXf",
        "colab_type": "text"
      },
      "source": [
        "Si decimos que la matriz inversa es invertir los numeros de las diagonales se debe cumplir los siguiente: \n",
        "* A . A^t = Id\n",
        "\n",
        "El producto escalar entre una matriz diagonal y su transpuesta diagonal debe ser igual a la matriz identidad. "
      ]
    },
    {
      "cell_type": "code",
      "metadata": {
        "id": "fHl3HLmd8WWT",
        "colab_type": "code",
        "colab": {
          "base_uri": "https://localhost:8080/",
          "height": 86
        },
        "outputId": "846e20e2-acd9-4d7e-a90d-7ead9d8b7a74"
      },
      "source": [
        "identidad = A.dot(A_inv)\n",
        "print(identidad)"
      ],
      "execution_count": 11,
      "outputs": [
        {
          "output_type": "stream",
          "text": [
            "[[1. 0. 0. 0.]\n",
            " [0. 1. 0. 0.]\n",
            " [0. 0. 1. 0.]\n",
            " [0. 0. 0. 1.]]\n"
          ],
          "name": "stdout"
        }
      ]
    },
    {
      "cell_type": "code",
      "metadata": {
        "id": "AfJ6QLNB8fad",
        "colab_type": "code",
        "colab": {
          "base_uri": "https://localhost:8080/",
          "height": 86
        },
        "outputId": "96dafd7b-81ad-4c19-f65c-0165d7c9968d"
      },
      "source": [
        "A_inv_calc = np.linalg.inv(A)\n",
        "print(A_inv_calc)"
      ],
      "execution_count": 12,
      "outputs": [
        {
          "output_type": "stream",
          "text": [
            "[[0.5        0.         0.         0.        ]\n",
            " [0.         0.33333333 0.         0.        ]\n",
            " [0.         0.         0.25       0.        ]\n",
            " [0.         0.         0.         0.2       ]]\n"
          ],
          "name": "stdout"
        }
      ]
    },
    {
      "cell_type": "markdown",
      "metadata": {
        "id": "xb-6_HgZ9Gc3",
        "colab_type": "text"
      },
      "source": [
        "### Matriz simetrica y sus propiedades"
      ]
    },
    {
      "cell_type": "markdown",
      "metadata": {
        "id": "mPZd4eRy9Q3b",
        "colab_type": "text"
      },
      "source": [
        "Una matriz es simetrica cuando su transpuesta es igual a la misma matriz.\n",
        "\n",
        "**Recordatorio:** Hacer una transposicion es cambiar filas por columnas."
      ]
    },
    {
      "cell_type": "code",
      "metadata": {
        "id": "mZJeUa0u9Dmo",
        "colab_type": "code",
        "colab": {
          "base_uri": "https://localhost:8080/",
          "height": 86
        },
        "outputId": "f06e002b-9d32-4492-d5b6-8820cbe59992"
      },
      "source": [
        "# Calculamos la transpuesta de la matriz A\n",
        "print(A.T)"
      ],
      "execution_count": 14,
      "outputs": [
        {
          "output_type": "stream",
          "text": [
            "[[2 0 0 0]\n",
            " [0 3 0 0]\n",
            " [0 0 4 0]\n",
            " [0 0 0 5]]\n"
          ],
          "name": "stdout"
        }
      ]
    },
    {
      "cell_type": "code",
      "metadata": {
        "id": "E9Yafqj69gl6",
        "colab_type": "code",
        "colab": {
          "base_uri": "https://localhost:8080/",
          "height": 86
        },
        "outputId": "8fd217b4-a6bc-47bc-eb37-6229a24af543"
      },
      "source": [
        "print(A)"
      ],
      "execution_count": 15,
      "outputs": [
        {
          "output_type": "stream",
          "text": [
            "[[2 0 0 0]\n",
            " [0 3 0 0]\n",
            " [0 0 4 0]\n",
            " [0 0 0 5]]\n"
          ],
          "name": "stdout"
        }
      ]
    },
    {
      "cell_type": "markdown",
      "metadata": {
        "id": "gZuWtZ4rA5wC",
        "colab_type": "text"
      },
      "source": [
        "Con esto vemos que ambas matrices son iguales, entonces la misma es simetrica y en este caso diagonal. \n",
        "\n",
        "Pero no todas las matrices simetricas son diagonales tambien, como en el siguiente ejemplo:"
      ]
    },
    {
      "cell_type": "code",
      "metadata": {
        "id": "RlCLJDRd9jeD",
        "colab_type": "code",
        "colab": {
          "base_uri": "https://localhost:8080/",
          "height": 69
        },
        "outputId": "894f51df-e493-43dc-8f09-43829fd02912"
      },
      "source": [
        "simetrica = np.array([[1,2,3],\n",
        "                      [2,-1,7],\n",
        "                      [3,7,11]])\n",
        "print(simetrica)"
      ],
      "execution_count": 17,
      "outputs": [
        {
          "output_type": "stream",
          "text": [
            "[[ 1  2  3]\n",
            " [ 2 -1  7]\n",
            " [ 3  7 11]]\n"
          ],
          "name": "stdout"
        }
      ]
    },
    {
      "cell_type": "code",
      "metadata": {
        "id": "rJ5AbZvD9z30",
        "colab_type": "code",
        "colab": {
          "base_uri": "https://localhost:8080/",
          "height": 69
        },
        "outputId": "2aa8939d-83e9-459c-eb88-09de76067581"
      },
      "source": [
        "print(simetrica.T)"
      ],
      "execution_count": 18,
      "outputs": [
        {
          "output_type": "stream",
          "text": [
            "[[ 1  2  3]\n",
            " [ 2 -1  7]\n",
            " [ 3  7 11]]\n"
          ],
          "name": "stdout"
        }
      ]
    }
  ]
}