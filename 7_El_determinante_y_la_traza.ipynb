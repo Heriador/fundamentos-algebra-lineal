{
  "nbformat": 4,
  "nbformat_minor": 0,
  "metadata": {
    "colab": {
      "name": "7. El determinante y la traza.ipynb",
      "provenance": [],
      "authorship_tag": "ABX9TyN4/NoXGqnfoNk/n64tmJ9k",
      "include_colab_link": true
    },
    "kernelspec": {
      "name": "python3",
      "display_name": "Python 3"
    }
  },
  "cells": [
    {
      "cell_type": "markdown",
      "metadata": {
        "id": "view-in-github",
        "colab_type": "text"
      },
      "source": [
        "<a href=\"https://colab.research.google.com/github/francomanca93/fundamentos-algebra-lineal/blob/especiales/7_El_determinante_y_la_traza.ipynb\" target=\"_parent\"><img src=\"https://colab.research.google.com/assets/colab-badge.svg\" alt=\"Open In Colab\"/></a>"
      ]
    },
    {
      "cell_type": "markdown",
      "metadata": {
        "id": "XHRJpfacWki3",
        "colab_type": "text"
      },
      "source": [
        "## Traza"
      ]
    },
    {
      "cell_type": "markdown",
      "metadata": {
        "id": "RrGnoADbVwYY",
        "colab_type": "text"
      },
      "source": [
        "Sabemos que con dos vectores podemos generar nuestro espacio. Ahora ¿que pasaría si eligieramos vectores con misma dirección y sentido pero de diferente módulo?.\n",
        "\n",
        "Si reescribieramos nuestras matrices en función de nuestros nuevos vectores hay varias funciones que cambiarian. \n",
        "\n",
        "La **traza** nos va devolver siempre el mismo número, independientemente del sistema de referencia que utiilcemos para representar a nuestra matriz."
      ]
    },
    {
      "cell_type": "code",
      "metadata": {
        "id": "6rCYv40mTpj1",
        "colab_type": "code",
        "colab": {}
      },
      "source": [
        "import numpy as np"
      ],
      "execution_count": 1,
      "outputs": []
    },
    {
      "cell_type": "code",
      "metadata": {
        "id": "M-XcCi89Wo_6",
        "colab_type": "code",
        "colab": {
          "base_uri": "https://localhost:8080/",
          "height": 69
        },
        "outputId": "a9cddb27-c4be-4f32-c76c-2b134506c32d"
      },
      "source": [
        "matriz = np.array([[1,2,3],\n",
        "                   [4,5,6],\n",
        "                   [7,8,9]])\n",
        "print(matriz)"
      ],
      "execution_count": 5,
      "outputs": [
        {
          "output_type": "stream",
          "text": [
            "[[1 2 3]\n",
            " [4 5 6]\n",
            " [7 8 9]]\n"
          ],
          "name": "stdout"
        }
      ]
    },
    {
      "cell_type": "code",
      "metadata": {
        "id": "iOXtsZaEW3tQ",
        "colab_type": "code",
        "colab": {
          "base_uri": "https://localhost:8080/",
          "height": 34
        },
        "outputId": "3930274b-d0a4-4bb2-8465-b8c47ef280e0"
      },
      "source": [
        "traza = np.trace(matriz)\n",
        "print(traza)"
      ],
      "execution_count": 6,
      "outputs": [
        {
          "output_type": "stream",
          "text": [
            "15\n"
          ],
          "name": "stdout"
        }
      ]
    },
    {
      "cell_type": "markdown",
      "metadata": {
        "id": "zvY3Wdp2XKmU",
        "colab_type": "text"
      },
      "source": [
        "Independientemente de lo que hagamos, la traza siempre nos va a devolver 15 en este caso para este vector.\n",
        "\n",
        "La traza nos devuelve la suma de los elementos de la diagonal"
      ]
    },
    {
      "cell_type": "markdown",
      "metadata": {
        "id": "XaczCpBzXbKm",
        "colab_type": "text"
      },
      "source": [
        "## Determinante"
      ]
    },
    {
      "cell_type": "markdown",
      "metadata": {
        "id": "yL-T1G7gXdam",
        "colab_type": "text"
      },
      "source": [
        "El determinante de una matriz nos habla sobre la transformación que ejerce esa matriz sobre el espacio que está transformando. \n",
        "\n",
        "Si estamos en R2 y el determinante es negativo, lo que hace es darnos el espajo de nuestro espacio.\n",
        "\n",
        "Veamos esto en código."
      ]
    },
    {
      "cell_type": "code",
      "metadata": {
        "id": "Ss-Y1zGyW8Ms",
        "colab_type": "code",
        "colab": {}
      },
      "source": [
        "%matplotlib inline\n",
        "\n",
        "import matplotlib.pyplot as plt"
      ],
      "execution_count": 7,
      "outputs": []
    },
    {
      "cell_type": "code",
      "metadata": {
        "id": "Cvp4b8bBX4hN",
        "colab_type": "code",
        "colab": {
          "base_uri": "https://localhost:8080/",
          "height": 124
        },
        "outputId": "5bca5072-72de-4212-95ae-2fa985dd6e7d"
      },
      "source": [
        "from google.colab import drive\n",
        "drive.mount('/content/drive')"
      ],
      "execution_count": 8,
      "outputs": [
        {
          "output_type": "stream",
          "text": [
            "Go to this URL in a browser: https://accounts.google.com/o/oauth2/auth?client_id=947318989803-6bn6qk8qdgf4n4g3pfee6491hc0brc4i.apps.googleusercontent.com&redirect_uri=urn%3aietf%3awg%3aoauth%3a2.0%3aoob&response_type=code&scope=email%20https%3a%2f%2fwww.googleapis.com%2fauth%2fdocs.test%20https%3a%2f%2fwww.googleapis.com%2fauth%2fdrive%20https%3a%2f%2fwww.googleapis.com%2fauth%2fdrive.photos.readonly%20https%3a%2f%2fwww.googleapis.com%2fauth%2fpeopleapi.readonly\n",
            "\n",
            "Enter your authorization code:\n",
            "··········\n",
            "Mounted at /content/drive\n"
          ],
          "name": "stdout"
        }
      ]
    },
    {
      "cell_type": "code",
      "metadata": {
        "id": "OyOKPf-ZYNdN",
        "colab_type": "code",
        "colab": {
          "base_uri": "https://localhost:8080/",
          "height": 173
        },
        "outputId": "a1ebcd67-8462-4b9a-96e8-198ab1a4a6d2"
      },
      "source": [
        "# Nos movemos a la ruta del notebook a cargar y verificamos\n",
        "%cd '/content/drive/My Drive/Colab Notebooks/fundamentos_algebra_lineal/'\n",
        "!ls"
      ],
      "execution_count": 9,
      "outputs": [
        {
          "output_type": "stream",
          "text": [
            "/content/drive/My Drive/Colab Notebooks/fundamentos_algebra_lineal\n",
            "'1.Conceptos básicos y configuración.ipynb'\n",
            "'2. Operaciones básicas.ipynb'\n",
            "'3.Operaciones con Matrices.ipynb'\n",
            "'4. Sistema de ecuaciones lineales.ipynb'\n",
            "'5. Normas.ipynb'\n",
            "'6. Matrices y vectores especiales.ipynb'\n",
            "'7. El determinante y la traza.ipynb'\n",
            " funciones_auxiliares\n"
          ],
          "name": "stdout"
        }
      ]
    },
    {
      "cell_type": "code",
      "metadata": {
        "id": "7mvy359nYYTo",
        "colab_type": "code",
        "colab": {}
      },
      "source": [
        "# Corremos el notebook \n",
        "%run './funciones_auxiliares/graficar_vectores.ipynb'"
      ],
      "execution_count": 10,
      "outputs": []
    },
    {
      "cell_type": "code",
      "metadata": {
        "id": "xYp2mmFzYcsg",
        "colab_type": "code",
        "colab": {
          "base_uri": "https://localhost:8080/",
          "height": 286
        },
        "outputId": "6b6b1b4c-231e-4485-f63d-87fab430f5c7"
      },
      "source": [
        "v1 = np.array([0,1])\n",
        "v2 = np.array([1,0])\n",
        "\n",
        "graficar_vectores([v1,v2], ['blue', 'red'])\n",
        "\n",
        "plt.xlim(-0.25, 2)\n",
        "plt.ylim(-0.25, 2)"
      ],
      "execution_count": 12,
      "outputs": [
        {
          "output_type": "execute_result",
          "data": {
            "text/plain": [
              "(-0.25, 2.0)"
            ]
          },
          "metadata": {
            "tags": []
          },
          "execution_count": 12
        },
        {
          "output_type": "display_data",
          "data": {
            "image/png": "[encoded data removed]",
            "text/plain": [
              "<Figure size 432x288 with 1 Axes>"
            ]
          },
          "metadata": {
            "tags": [],
            "needs_background": "light"
          }
        }
      ]
    },
    {
      "cell_type": "markdown",
      "metadata": {
        "id": "dGM4HHWvY6Pt",
        "colab_type": "text"
      },
      "source": [
        "Con estos dos vectores podemos generar todo R2. Pero cuando los transformamos que ocurre? La transformacion se realiza con el producto una matriz."
      ]
    },
    {
      "cell_type": "code",
      "metadata": {
        "id": "bUB-A3ibYw0l",
        "colab_type": "code",
        "colab": {
          "base_uri": "https://localhost:8080/",
          "height": 52
        },
        "outputId": "b9fc69a9-48bc-425f-c595-3f6b48a1273d"
      },
      "source": [
        "A = np.array([[2,0],\n",
        "              [0,2]])\n",
        "print(A)"
      ],
      "execution_count": 14,
      "outputs": [
        {
          "output_type": "stream",
          "text": [
            "[[2 0]\n",
            " [0 2]]\n"
          ],
          "name": "stdout"
        }
      ]
    },
    {
      "cell_type": "code",
      "metadata": {
        "id": "SGoqRhMOZUOm",
        "colab_type": "code",
        "colab": {
          "base_uri": "https://localhost:8080/",
          "height": 286
        },
        "outputId": "729edc02-9ca3-41bf-bfe1-7fb53cce17b3"
      },
      "source": [
        "v1_transformado = A.dot(v1)\n",
        "v2_transformado = A.dot(v2)\n",
        "\n",
        "\n",
        "graficar_vectores([v1_transformado,v2_transformado, v1, v2], ['blue', 'red', 'orange', 'green'])\n",
        "\n",
        "plt.xlim(-0.25, 3)\n",
        "plt.ylim(-0.25, 3)"
      ],
      "execution_count": 32,
      "outputs": [
        {
          "output_type": "execute_result",
          "data": {
            "text/plain": [
              "(-0.25, 3.0)"
            ]
          },
          "metadata": {
            "tags": []
          },
          "execution_count": 32
        },
        {
          "output_type": "display_data",
          "data": {
            "image/png": "[encoded data removed]",
            "text/plain": [
              "<Figure size 432x288 with 1 Axes>"
            ]
          },
          "metadata": {
            "tags": [],
            "needs_background": "light"
          }
        }
      ]
    },
    {
      "cell_type": "markdown",
      "metadata": {
        "id": "YoCbOYKFaMVt",
        "colab_type": "text"
      },
      "source": [
        "con estos gráficos, ¿que nos devolverá el determinante luego de haber hecho el producto del vector por la matriz?"
      ]
    },
    {
      "cell_type": "code",
      "metadata": {
        "id": "UJGU5bPEZqEv",
        "colab_type": "code",
        "colab": {
          "base_uri": "https://localhost:8080/",
          "height": 34
        },
        "outputId": "9a975c99-2129-404f-9bb8-a43d50482cbd"
      },
      "source": [
        "det_A = np.linalg.det(A)\n",
        "\n",
        "print(det_A)"
      ],
      "execution_count": 33,
      "outputs": [
        {
          "output_type": "stream",
          "text": [
            "4.0\n"
          ],
          "name": "stdout"
        }
      ]
    },
    {
      "cell_type": "markdown",
      "metadata": {
        "id": "noYKBGmFb-SN",
        "colab_type": "text"
      },
      "source": [
        "El determinante nos devuelve un numero, este es el área que se forma con los vectores."
      ]
    },
    {
      "cell_type": "code",
      "metadata": {
        "id": "1nFH_f6FabL-",
        "colab_type": "code",
        "colab": {
          "base_uri": "https://localhost:8080/",
          "height": 34
        },
        "outputId": "a2b1cbf6-6125-4c33-fbce-8effa6f7fa8f"
      },
      "source": [
        "area_transformada = abs((v1_transformado[0] - v2_transformado[0])) * abs((v1_transformado[1] - v2_transformado[1]))\n",
        "print(area_transformada)"
      ],
      "execution_count": 34,
      "outputs": [
        {
          "output_type": "stream",
          "text": [
            "4\n"
          ],
          "name": "stdout"
        }
      ]
    },
    {
      "cell_type": "markdown",
      "metadata": {
        "id": "9fgOd0HXcLTG",
        "colab_type": "text"
      },
      "source": [
        "¿Que pasaría si definimos una matriz y que el determinante sea negativo? Sabiendo que el determinante es un área, ¿Que significa esto? "
      ]
    },
    {
      "cell_type": "code",
      "metadata": {
        "id": "bsXG9bUza2AV",
        "colab_type": "code",
        "colab": {
          "base_uri": "https://localhost:8080/",
          "height": 52
        },
        "outputId": "2104b414-150a-4b90-a1ac-66f06efd4716"
      },
      "source": [
        "B = A * [-1, 1]\n",
        "print(B)"
      ],
      "execution_count": 35,
      "outputs": [
        {
          "output_type": "stream",
          "text": [
            "[[-2  0]\n",
            " [ 0  2]]\n"
          ],
          "name": "stdout"
        }
      ]
    },
    {
      "cell_type": "code",
      "metadata": {
        "id": "cn-ujRILcoAo",
        "colab_type": "code",
        "colab": {
          "base_uri": "https://localhost:8080/",
          "height": 34
        },
        "outputId": "0be8bb0b-7659-434f-c2d8-fd46dc73f86a"
      },
      "source": [
        "det_B = np.linalg.det(B)\n",
        "print(det_B)"
      ],
      "execution_count": 36,
      "outputs": [
        {
          "output_type": "stream",
          "text": [
            "-4.0\n"
          ],
          "name": "stdout"
        }
      ]
    },
    {
      "cell_type": "code",
      "metadata": {
        "id": "hmOTe5Pzcqtb",
        "colab_type": "code",
        "colab": {
          "base_uri": "https://localhost:8080/",
          "height": 286
        },
        "outputId": "bc389c77-7ae5-41f4-95eb-69d6a866b657"
      },
      "source": [
        "v1 = np.array([0,1])\n",
        "v2 = np.array([1,0])\n",
        "\n",
        "\n",
        "v1_transformado = B.dot(v1)\n",
        "v2_transformado = B.dot(v2)\n",
        "\n",
        "\n",
        "graficar_vectores([v1_transformado,v2_transformado, v1, v2], ['blue', 'red', 'orange', 'green'])\n",
        "\n",
        "plt.xlim(-2.5, 1.5)\n",
        "plt.ylim(-0.5, 2.5)"
      ],
      "execution_count": 37,
      "outputs": [
        {
          "output_type": "execute_result",
          "data": {
            "text/plain": [
              "(-0.5, 2.5)"
            ]
          },
          "metadata": {
            "tags": []
          },
          "execution_count": 37
        },
        {
          "output_type": "display_data",
          "data": {
            "image/png": "[encoded data removed]",
            "text/plain": [
              "<Figure size 432x288 with 1 Axes>"
            ]
          },
          "metadata": {
            "tags": [],
            "needs_background": "light"
          }
        }
      ]
    },
    {
      "cell_type": "markdown",
      "metadata": {
        "id": "RM58UhAbdfnE",
        "colab_type": "text"
      },
      "source": [
        "Lo que esta ocurriendo al tener un signo negativo en el determinante es que nuestro espacio **roto**.\n",
        "\n",
        "Entonces lo que nuestra matriz hizo ademas de amplificar nuestro vector fue invertir en este caso una de nuestras coordenadas, la espejo.\n",
        "\n",
        "La matriz A con determinante 4 y la matriz B con determinante -4, modificarón nuestro espacio, en este caso lo amplificaron. La diferencia es que la matriz A lo amplifico sobre el mismo espacio y la matriz B lo amplificó pero modifico su espacio y lo espejo.\n",
        "\n"
      ]
    },
    {
      "cell_type": "markdown",
      "metadata": {
        "id": "iwbTFM3pgUy8",
        "colab_type": "text"
      },
      "source": [
        "#### Conclusión respecto al determinante\n"
      ]
    },
    {
      "cell_type": "markdown",
      "metadata": {
        "id": "ypXH41JHgLeX",
        "colab_type": "text"
      },
      "source": [
        "La información del determinante es muy importante, pero que no nos deja saber todo lo que está ocurriendo con el espacio. No podemos saber si esta rotación que está ocurriendo lo hace sobre el **eje x** o el **eje y**. \n",
        "\n",
        "¿Y si en realidad lo que estuviera pasando es que el eje **x** y el **y** se estan **inviertiendo al mismo tiempo**? Si esto fuera verdad terminariamos con un espacio completamente distinto pero el determinante seguiria siendo el mismo."
      ]
    }
  ]
}