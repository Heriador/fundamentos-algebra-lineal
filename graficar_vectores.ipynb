{
  "nbformat": 4,
  "nbformat_minor": 0,
  "metadata": {
    "colab": {
      "name": "graficar_vectores.ipynb",
      "provenance": [],
      "authorship_tag": "ABX9TyOalYKJAhue1kpEN9THIEL/",
      "include_colab_link": true
    },
    "kernelspec": {
      "name": "python3",
      "display_name": "Python 3"
    }
  },
  "cells": [
    {
      "cell_type": "markdown",
      "metadata": {
        "id": "view-in-github",
        "colab_type": "text"
      },
      "source": [
        "<a href=\"https://colab.research.google.com/github/francomanca93/fundamentos-algebra-lineal/blob/sistemas-ecuaciones/graficar_vectores.ipynb\" target=\"_parent\"><img src=\"https://colab.research.google.com/assets/colab-badge.svg\" alt=\"Open In Colab\"/></a>"
      ]
    },
    {
      "cell_type": "code",
      "metadata": {
        "id": "jMT9Chm4S02l",
        "colab_type": "code",
        "colab": {}
      },
      "source": [
        "def graficar_vectores(vecs, cols, alpha = 1):\n",
        "  '''Funcióón para graficar vectores.\n",
        "\n",
        "  Parameters\n",
        "  -----------\n",
        "  - vecs : lista\n",
        "      Lista de vectores que querremos graficar. \n",
        "      Ejemplo de lista: [v1, v2] donde: v1 = np.array([2, 5]); v2 = np.array([3, 2])\n",
        "  - cols : lista\n",
        "      Colores que tendrán nuestros vectores. \n",
        "      Ejemplo de lista para dos vectores: ['orange', 'blue']\n",
        "  - alpha : float\n",
        "      Nivel de transparencia de los vectores. Por defecto alpha = 1. \n",
        "      alpha = 0 --> TRANSPARENTE.\n",
        "  \n",
        "  '''  \n",
        "  plt.figure()\n",
        "  plt.axvline(x = 0, color = \"grey\", zorder = 0)\n",
        "  plt.axhline(y = 0, color = \"grey\", zorder = 0)\n",
        "\n",
        "  for i in range(len(vecs)):\n",
        "    x = np.concatenate([[0, 0], vecs[i]])\n",
        "    plt.quiver([x[0]],\n",
        "               [x[1]],\n",
        "               [x[2]],\n",
        "               [x[3]],\n",
        "               angles = 'xy', scale_units = 'xy', scale = 1, \n",
        "               color = cols[i],\n",
        "               alpha = alpha)"
      ],
      "execution_count": null,
      "outputs": []
    }
  ]
}